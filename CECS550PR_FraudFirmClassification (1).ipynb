{
  "nbformat": 4,
  "nbformat_minor": 0,
  "metadata": {
    "colab": {
      "name": "CECS550PR_FraudFirmClassification.ipynb",
      "provenance": [],
      "collapsed_sections": []
    },
    "kernelspec": {
      "name": "python3",
      "display_name": "Python 3"
    },
    "language_info": {
      "name": "python"
    }
  },
  "cells": [
    {
      "cell_type": "markdown",
      "source": [
        "<font color='blue'><b>CECS 550 - PATTERN RECOGNITION<br>\n",
        "\n"
      ],
      "metadata": {
        "id": "5fORqJWyTBln"
      }
    },
    {
      "cell_type": "markdown",
      "source": [
        "**Fraudulent Firm : Regression & Classification**"
      ],
      "metadata": {
        "id": "pHXOQ_hIk73W"
      }
    },
    {
      "cell_type": "markdown",
      "source": [
        "<b><font color='purple'>Team Members: </b></font><br>\n",
        "<b>Aishwarya Bhavsar (029371509)<br>\n",
        "Madgula Adityanarayana Sarma (029339438)<br>\n",
        "Justin Kieu(014151382)<br>\n",
        "Janki Patel(029356143)<br>\n",
        "Mudra Chaudhary(029475821)<br><b>\n"
      ],
      "metadata": {
        "id": "kS60CQSmTa6x"
      }
    },
    {
      "cell_type": "code",
      "source": [
        "import numpy as np\n",
        "import pandas as pd\n",
        "import matplotlib.pyplot as plt\n",
        "\n"
      ],
      "metadata": {
        "id": "S4P8n9TCSne-"
      },
      "execution_count": null,
      "outputs": []
    },
    {
      "cell_type": "code",
      "source": [
        "audit_risk = pd.read_csv(\"audit_risk.csv\")\n",
        "trial = pd.read_csv(\"trial.csv\")"
      ],
      "metadata": {
        "id": "PoUS3wZSlULZ"
      },
      "execution_count": null,
      "outputs": []
    },
    {
      "cell_type": "code",
      "source": [
        "display(audit_risk.shape)\n",
        "display(audit_risk.head())\n",
        "display(trial.shape)\n",
        "display(trial.head())"
      ],
      "metadata": {
        "colab": {
          "base_uri": "https://localhost:8080/",
          "height": 525
        },
        "id": "YWdlgMJOlXjg",
        "outputId": "a9b68bf3-9670-4d4e-e342-993609be7d17"
      },
      "execution_count": null,
      "outputs": [
        {
          "output_type": "display_data",
          "data": {
            "text/plain": [
              "(776, 27)"
            ]
          },
          "metadata": {}
        },
        {
          "output_type": "display_data",
          "data": {
            "text/plain": [
              "   Sector_score LOCATION_ID  PARA_A  Score_A  Risk_A  PARA_B  Score_B  Risk_B  \\\n",
              "0          3.89          23    4.18      0.6   2.508    2.50      0.2   0.500   \n",
              "1          3.89           6    0.00      0.2   0.000    4.83      0.2   0.966   \n",
              "2          3.89           6    0.51      0.2   0.102    0.23      0.2   0.046   \n",
              "3          3.89           6    0.00      0.2   0.000   10.80      0.6   6.480   \n",
              "4          3.89           6    0.00      0.2   0.000    0.08      0.2   0.016   \n",
              "\n",
              "   TOTAL  numbers  ...  RiSk_E  History  Prob  Risk_F  Score  Inherent_Risk  \\\n",
              "0   6.68      5.0  ...     0.4        0   0.2     0.0    2.4          8.574   \n",
              "1   4.83      5.0  ...     0.4        0   0.2     0.0    2.0          2.554   \n",
              "2   0.74      5.0  ...     0.4        0   0.2     0.0    2.0          1.548   \n",
              "3  10.80      6.0  ...     0.4        0   0.2     0.0    4.4         17.530   \n",
              "4   0.08      5.0  ...     0.4        0   0.2     0.0    2.0          1.416   \n",
              "\n",
              "   CONTROL_RISK  Detection_Risk  Audit_Risk  Risk  \n",
              "0           0.4             0.5      1.7148     1  \n",
              "1           0.4             0.5      0.5108     0  \n",
              "2           0.4             0.5      0.3096     0  \n",
              "3           0.4             0.5      3.5060     1  \n",
              "4           0.4             0.5      0.2832     0  \n",
              "\n",
              "[5 rows x 27 columns]"
            ],
            "text/html": [
              "\n",
              "  <div id=\"df-602fef3b-a033-4792-965a-a9f58b1c61f6\">\n",
              "    <div class=\"colab-df-container\">\n",
              "      <div>\n",
              "<style scoped>\n",
              "    .dataframe tbody tr th:only-of-type {\n",
              "        vertical-align: middle;\n",
              "    }\n",
              "\n",
              "    .dataframe tbody tr th {\n",
              "        vertical-align: top;\n",
              "    }\n",
              "\n",
              "    .dataframe thead th {\n",
              "        text-align: right;\n",
              "    }\n",
              "</style>\n",
              "<table border=\"1\" class=\"dataframe\">\n",
              "  <thead>\n",
              "    <tr style=\"text-align: right;\">\n",
              "      <th></th>\n",
              "      <th>Sector_score</th>\n",
              "      <th>LOCATION_ID</th>\n",
              "      <th>PARA_A</th>\n",
              "      <th>Score_A</th>\n",
              "      <th>Risk_A</th>\n",
              "      <th>PARA_B</th>\n",
              "      <th>Score_B</th>\n",
              "      <th>Risk_B</th>\n",
              "      <th>TOTAL</th>\n",
              "      <th>numbers</th>\n",
              "      <th>...</th>\n",
              "      <th>RiSk_E</th>\n",
              "      <th>History</th>\n",
              "      <th>Prob</th>\n",
              "      <th>Risk_F</th>\n",
              "      <th>Score</th>\n",
              "      <th>Inherent_Risk</th>\n",
              "      <th>CONTROL_RISK</th>\n",
              "      <th>Detection_Risk</th>\n",
              "      <th>Audit_Risk</th>\n",
              "      <th>Risk</th>\n",
              "    </tr>\n",
              "  </thead>\n",
              "  <tbody>\n",
              "    <tr>\n",
              "      <th>0</th>\n",
              "      <td>3.89</td>\n",
              "      <td>23</td>\n",
              "      <td>4.18</td>\n",
              "      <td>0.6</td>\n",
              "      <td>2.508</td>\n",
              "      <td>2.50</td>\n",
              "      <td>0.2</td>\n",
              "      <td>0.500</td>\n",
              "      <td>6.68</td>\n",
              "      <td>5.0</td>\n",
              "      <td>...</td>\n",
              "      <td>0.4</td>\n",
              "      <td>0</td>\n",
              "      <td>0.2</td>\n",
              "      <td>0.0</td>\n",
              "      <td>2.4</td>\n",
              "      <td>8.574</td>\n",
              "      <td>0.4</td>\n",
              "      <td>0.5</td>\n",
              "      <td>1.7148</td>\n",
              "      <td>1</td>\n",
              "    </tr>\n",
              "    <tr>\n",
              "      <th>1</th>\n",
              "      <td>3.89</td>\n",
              "      <td>6</td>\n",
              "      <td>0.00</td>\n",
              "      <td>0.2</td>\n",
              "      <td>0.000</td>\n",
              "      <td>4.83</td>\n",
              "      <td>0.2</td>\n",
              "      <td>0.966</td>\n",
              "      <td>4.83</td>\n",
              "      <td>5.0</td>\n",
              "      <td>...</td>\n",
              "      <td>0.4</td>\n",
              "      <td>0</td>\n",
              "      <td>0.2</td>\n",
              "      <td>0.0</td>\n",
              "      <td>2.0</td>\n",
              "      <td>2.554</td>\n",
              "      <td>0.4</td>\n",
              "      <td>0.5</td>\n",
              "      <td>0.5108</td>\n",
              "      <td>0</td>\n",
              "    </tr>\n",
              "    <tr>\n",
              "      <th>2</th>\n",
              "      <td>3.89</td>\n",
              "      <td>6</td>\n",
              "      <td>0.51</td>\n",
              "      <td>0.2</td>\n",
              "      <td>0.102</td>\n",
              "      <td>0.23</td>\n",
              "      <td>0.2</td>\n",
              "      <td>0.046</td>\n",
              "      <td>0.74</td>\n",
              "      <td>5.0</td>\n",
              "      <td>...</td>\n",
              "      <td>0.4</td>\n",
              "      <td>0</td>\n",
              "      <td>0.2</td>\n",
              "      <td>0.0</td>\n",
              "      <td>2.0</td>\n",
              "      <td>1.548</td>\n",
              "      <td>0.4</td>\n",
              "      <td>0.5</td>\n",
              "      <td>0.3096</td>\n",
              "      <td>0</td>\n",
              "    </tr>\n",
              "    <tr>\n",
              "      <th>3</th>\n",
              "      <td>3.89</td>\n",
              "      <td>6</td>\n",
              "      <td>0.00</td>\n",
              "      <td>0.2</td>\n",
              "      <td>0.000</td>\n",
              "      <td>10.80</td>\n",
              "      <td>0.6</td>\n",
              "      <td>6.480</td>\n",
              "      <td>10.80</td>\n",
              "      <td>6.0</td>\n",
              "      <td>...</td>\n",
              "      <td>0.4</td>\n",
              "      <td>0</td>\n",
              "      <td>0.2</td>\n",
              "      <td>0.0</td>\n",
              "      <td>4.4</td>\n",
              "      <td>17.530</td>\n",
              "      <td>0.4</td>\n",
              "      <td>0.5</td>\n",
              "      <td>3.5060</td>\n",
              "      <td>1</td>\n",
              "    </tr>\n",
              "    <tr>\n",
              "      <th>4</th>\n",
              "      <td>3.89</td>\n",
              "      <td>6</td>\n",
              "      <td>0.00</td>\n",
              "      <td>0.2</td>\n",
              "      <td>0.000</td>\n",
              "      <td>0.08</td>\n",
              "      <td>0.2</td>\n",
              "      <td>0.016</td>\n",
              "      <td>0.08</td>\n",
              "      <td>5.0</td>\n",
              "      <td>...</td>\n",
              "      <td>0.4</td>\n",
              "      <td>0</td>\n",
              "      <td>0.2</td>\n",
              "      <td>0.0</td>\n",
              "      <td>2.0</td>\n",
              "      <td>1.416</td>\n",
              "      <td>0.4</td>\n",
              "      <td>0.5</td>\n",
              "      <td>0.2832</td>\n",
              "      <td>0</td>\n",
              "    </tr>\n",
              "  </tbody>\n",
              "</table>\n",
              "<p>5 rows × 27 columns</p>\n",
              "</div>\n",
              "      <button class=\"colab-df-convert\" onclick=\"convertToInteractive('df-602fef3b-a033-4792-965a-a9f58b1c61f6')\"\n",
              "              title=\"Convert this dataframe to an interactive table.\"\n",
              "              style=\"display:none;\">\n",
              "        \n",
              "  <svg xmlns=\"http://www.w3.org/2000/svg\" height=\"24px\"viewBox=\"0 0 24 24\"\n",
              "       width=\"24px\">\n",
              "    <path d=\"M0 0h24v24H0V0z\" fill=\"none\"/>\n",
              "    <path d=\"M18.56 5.44l.94 2.06.94-2.06 2.06-.94-2.06-.94-.94-2.06-.94 2.06-2.06.94zm-11 1L8.5 8.5l.94-2.06 2.06-.94-2.06-.94L8.5 2.5l-.94 2.06-2.06.94zm10 10l.94 2.06.94-2.06 2.06-.94-2.06-.94-.94-2.06-.94 2.06-2.06.94z\"/><path d=\"M17.41 7.96l-1.37-1.37c-.4-.4-.92-.59-1.43-.59-.52 0-1.04.2-1.43.59L10.3 9.45l-7.72 7.72c-.78.78-.78 2.05 0 2.83L4 21.41c.39.39.9.59 1.41.59.51 0 1.02-.2 1.41-.59l7.78-7.78 2.81-2.81c.8-.78.8-2.07 0-2.86zM5.41 20L4 18.59l7.72-7.72 1.47 1.35L5.41 20z\"/>\n",
              "  </svg>\n",
              "      </button>\n",
              "      \n",
              "  <style>\n",
              "    .colab-df-container {\n",
              "      display:flex;\n",
              "      flex-wrap:wrap;\n",
              "      gap: 12px;\n",
              "    }\n",
              "\n",
              "    .colab-df-convert {\n",
              "      background-color: #E8F0FE;\n",
              "      border: none;\n",
              "      border-radius: 50%;\n",
              "      cursor: pointer;\n",
              "      display: none;\n",
              "      fill: #1967D2;\n",
              "      height: 32px;\n",
              "      padding: 0 0 0 0;\n",
              "      width: 32px;\n",
              "    }\n",
              "\n",
              "    .colab-df-convert:hover {\n",
              "      background-color: #E2EBFA;\n",
              "      box-shadow: 0px 1px 2px rgba(60, 64, 67, 0.3), 0px 1px 3px 1px rgba(60, 64, 67, 0.15);\n",
              "      fill: #174EA6;\n",
              "    }\n",
              "\n",
              "    [theme=dark] .colab-df-convert {\n",
              "      background-color: #3B4455;\n",
              "      fill: #D2E3FC;\n",
              "    }\n",
              "\n",
              "    [theme=dark] .colab-df-convert:hover {\n",
              "      background-color: #434B5C;\n",
              "      box-shadow: 0px 1px 3px 1px rgba(0, 0, 0, 0.15);\n",
              "      filter: drop-shadow(0px 1px 2px rgba(0, 0, 0, 0.3));\n",
              "      fill: #FFFFFF;\n",
              "    }\n",
              "  </style>\n",
              "\n",
              "      <script>\n",
              "        const buttonEl =\n",
              "          document.querySelector('#df-602fef3b-a033-4792-965a-a9f58b1c61f6 button.colab-df-convert');\n",
              "        buttonEl.style.display =\n",
              "          google.colab.kernel.accessAllowed ? 'block' : 'none';\n",
              "\n",
              "        async function convertToInteractive(key) {\n",
              "          const element = document.querySelector('#df-602fef3b-a033-4792-965a-a9f58b1c61f6');\n",
              "          const dataTable =\n",
              "            await google.colab.kernel.invokeFunction('convertToInteractive',\n",
              "                                                     [key], {});\n",
              "          if (!dataTable) return;\n",
              "\n",
              "          const docLinkHtml = 'Like what you see? Visit the ' +\n",
              "            '<a target=\"_blank\" href=https://colab.research.google.com/notebooks/data_table.ipynb>data table notebook</a>'\n",
              "            + ' to learn more about interactive tables.';\n",
              "          element.innerHTML = '';\n",
              "          dataTable['output_type'] = 'display_data';\n",
              "          await google.colab.output.renderOutput(dataTable, element);\n",
              "          const docLink = document.createElement('div');\n",
              "          docLink.innerHTML = docLinkHtml;\n",
              "          element.appendChild(docLink);\n",
              "        }\n",
              "      </script>\n",
              "    </div>\n",
              "  </div>\n",
              "  "
            ]
          },
          "metadata": {}
        },
        {
          "output_type": "display_data",
          "data": {
            "text/plain": [
              "(776, 18)"
            ]
          },
          "metadata": {}
        },
        {
          "output_type": "display_data",
          "data": {
            "text/plain": [
              "   Sector_score LOCATION_ID  PARA_A  SCORE_A  PARA_B  SCORE_B  TOTAL  numbers  \\\n",
              "0          3.89          23    4.18        6    2.50        2   6.68      5.0   \n",
              "1          3.89           6    0.00        2    4.83        2   4.83      5.0   \n",
              "2          3.89           6    0.51        2    0.23        2   0.74      5.0   \n",
              "3          3.89           6    0.00        2   10.80        6  10.80      6.0   \n",
              "4          3.89           6    0.00        2    0.08        2   0.08      5.0   \n",
              "\n",
              "   Marks  Money_Value  MONEY_Marks  District  Loss  LOSS_SCORE  History  \\\n",
              "0      2         3.38            2         2     0           2        0   \n",
              "1      2         0.94            2         2     0           2        0   \n",
              "2      2         0.00            2         2     0           2        0   \n",
              "3      6        11.75            6         2     0           2        0   \n",
              "4      2         0.00            2         2     0           2        0   \n",
              "\n",
              "   History_score  Score  Risk  \n",
              "0              2    2.4     1  \n",
              "1              2    2.0     0  \n",
              "2              2    2.0     0  \n",
              "3              2    4.4     1  \n",
              "4              2    2.0     0  "
            ],
            "text/html": [
              "\n",
              "  <div id=\"df-9376374a-684d-4d9a-838f-c466c651e414\">\n",
              "    <div class=\"colab-df-container\">\n",
              "      <div>\n",
              "<style scoped>\n",
              "    .dataframe tbody tr th:only-of-type {\n",
              "        vertical-align: middle;\n",
              "    }\n",
              "\n",
              "    .dataframe tbody tr th {\n",
              "        vertical-align: top;\n",
              "    }\n",
              "\n",
              "    .dataframe thead th {\n",
              "        text-align: right;\n",
              "    }\n",
              "</style>\n",
              "<table border=\"1\" class=\"dataframe\">\n",
              "  <thead>\n",
              "    <tr style=\"text-align: right;\">\n",
              "      <th></th>\n",
              "      <th>Sector_score</th>\n",
              "      <th>LOCATION_ID</th>\n",
              "      <th>PARA_A</th>\n",
              "      <th>SCORE_A</th>\n",
              "      <th>PARA_B</th>\n",
              "      <th>SCORE_B</th>\n",
              "      <th>TOTAL</th>\n",
              "      <th>numbers</th>\n",
              "      <th>Marks</th>\n",
              "      <th>Money_Value</th>\n",
              "      <th>MONEY_Marks</th>\n",
              "      <th>District</th>\n",
              "      <th>Loss</th>\n",
              "      <th>LOSS_SCORE</th>\n",
              "      <th>History</th>\n",
              "      <th>History_score</th>\n",
              "      <th>Score</th>\n",
              "      <th>Risk</th>\n",
              "    </tr>\n",
              "  </thead>\n",
              "  <tbody>\n",
              "    <tr>\n",
              "      <th>0</th>\n",
              "      <td>3.89</td>\n",
              "      <td>23</td>\n",
              "      <td>4.18</td>\n",
              "      <td>6</td>\n",
              "      <td>2.50</td>\n",
              "      <td>2</td>\n",
              "      <td>6.68</td>\n",
              "      <td>5.0</td>\n",
              "      <td>2</td>\n",
              "      <td>3.38</td>\n",
              "      <td>2</td>\n",
              "      <td>2</td>\n",
              "      <td>0</td>\n",
              "      <td>2</td>\n",
              "      <td>0</td>\n",
              "      <td>2</td>\n",
              "      <td>2.4</td>\n",
              "      <td>1</td>\n",
              "    </tr>\n",
              "    <tr>\n",
              "      <th>1</th>\n",
              "      <td>3.89</td>\n",
              "      <td>6</td>\n",
              "      <td>0.00</td>\n",
              "      <td>2</td>\n",
              "      <td>4.83</td>\n",
              "      <td>2</td>\n",
              "      <td>4.83</td>\n",
              "      <td>5.0</td>\n",
              "      <td>2</td>\n",
              "      <td>0.94</td>\n",
              "      <td>2</td>\n",
              "      <td>2</td>\n",
              "      <td>0</td>\n",
              "      <td>2</td>\n",
              "      <td>0</td>\n",
              "      <td>2</td>\n",
              "      <td>2.0</td>\n",
              "      <td>0</td>\n",
              "    </tr>\n",
              "    <tr>\n",
              "      <th>2</th>\n",
              "      <td>3.89</td>\n",
              "      <td>6</td>\n",
              "      <td>0.51</td>\n",
              "      <td>2</td>\n",
              "      <td>0.23</td>\n",
              "      <td>2</td>\n",
              "      <td>0.74</td>\n",
              "      <td>5.0</td>\n",
              "      <td>2</td>\n",
              "      <td>0.00</td>\n",
              "      <td>2</td>\n",
              "      <td>2</td>\n",
              "      <td>0</td>\n",
              "      <td>2</td>\n",
              "      <td>0</td>\n",
              "      <td>2</td>\n",
              "      <td>2.0</td>\n",
              "      <td>0</td>\n",
              "    </tr>\n",
              "    <tr>\n",
              "      <th>3</th>\n",
              "      <td>3.89</td>\n",
              "      <td>6</td>\n",
              "      <td>0.00</td>\n",
              "      <td>2</td>\n",
              "      <td>10.80</td>\n",
              "      <td>6</td>\n",
              "      <td>10.80</td>\n",
              "      <td>6.0</td>\n",
              "      <td>6</td>\n",
              "      <td>11.75</td>\n",
              "      <td>6</td>\n",
              "      <td>2</td>\n",
              "      <td>0</td>\n",
              "      <td>2</td>\n",
              "      <td>0</td>\n",
              "      <td>2</td>\n",
              "      <td>4.4</td>\n",
              "      <td>1</td>\n",
              "    </tr>\n",
              "    <tr>\n",
              "      <th>4</th>\n",
              "      <td>3.89</td>\n",
              "      <td>6</td>\n",
              "      <td>0.00</td>\n",
              "      <td>2</td>\n",
              "      <td>0.08</td>\n",
              "      <td>2</td>\n",
              "      <td>0.08</td>\n",
              "      <td>5.0</td>\n",
              "      <td>2</td>\n",
              "      <td>0.00</td>\n",
              "      <td>2</td>\n",
              "      <td>2</td>\n",
              "      <td>0</td>\n",
              "      <td>2</td>\n",
              "      <td>0</td>\n",
              "      <td>2</td>\n",
              "      <td>2.0</td>\n",
              "      <td>0</td>\n",
              "    </tr>\n",
              "  </tbody>\n",
              "</table>\n",
              "</div>\n",
              "      <button class=\"colab-df-convert\" onclick=\"convertToInteractive('df-9376374a-684d-4d9a-838f-c466c651e414')\"\n",
              "              title=\"Convert this dataframe to an interactive table.\"\n",
              "              style=\"display:none;\">\n",
              "        \n",
              "  <svg xmlns=\"http://www.w3.org/2000/svg\" height=\"24px\"viewBox=\"0 0 24 24\"\n",
              "       width=\"24px\">\n",
              "    <path d=\"M0 0h24v24H0V0z\" fill=\"none\"/>\n",
              "    <path d=\"M18.56 5.44l.94 2.06.94-2.06 2.06-.94-2.06-.94-.94-2.06-.94 2.06-2.06.94zm-11 1L8.5 8.5l.94-2.06 2.06-.94-2.06-.94L8.5 2.5l-.94 2.06-2.06.94zm10 10l.94 2.06.94-2.06 2.06-.94-2.06-.94-.94-2.06-.94 2.06-2.06.94z\"/><path d=\"M17.41 7.96l-1.37-1.37c-.4-.4-.92-.59-1.43-.59-.52 0-1.04.2-1.43.59L10.3 9.45l-7.72 7.72c-.78.78-.78 2.05 0 2.83L4 21.41c.39.39.9.59 1.41.59.51 0 1.02-.2 1.41-.59l7.78-7.78 2.81-2.81c.8-.78.8-2.07 0-2.86zM5.41 20L4 18.59l7.72-7.72 1.47 1.35L5.41 20z\"/>\n",
              "  </svg>\n",
              "      </button>\n",
              "      \n",
              "  <style>\n",
              "    .colab-df-container {\n",
              "      display:flex;\n",
              "      flex-wrap:wrap;\n",
              "      gap: 12px;\n",
              "    }\n",
              "\n",
              "    .colab-df-convert {\n",
              "      background-color: #E8F0FE;\n",
              "      border: none;\n",
              "      border-radius: 50%;\n",
              "      cursor: pointer;\n",
              "      display: none;\n",
              "      fill: #1967D2;\n",
              "      height: 32px;\n",
              "      padding: 0 0 0 0;\n",
              "      width: 32px;\n",
              "    }\n",
              "\n",
              "    .colab-df-convert:hover {\n",
              "      background-color: #E2EBFA;\n",
              "      box-shadow: 0px 1px 2px rgba(60, 64, 67, 0.3), 0px 1px 3px 1px rgba(60, 64, 67, 0.15);\n",
              "      fill: #174EA6;\n",
              "    }\n",
              "\n",
              "    [theme=dark] .colab-df-convert {\n",
              "      background-color: #3B4455;\n",
              "      fill: #D2E3FC;\n",
              "    }\n",
              "\n",
              "    [theme=dark] .colab-df-convert:hover {\n",
              "      background-color: #434B5C;\n",
              "      box-shadow: 0px 1px 3px 1px rgba(0, 0, 0, 0.15);\n",
              "      filter: drop-shadow(0px 1px 2px rgba(0, 0, 0, 0.3));\n",
              "      fill: #FFFFFF;\n",
              "    }\n",
              "  </style>\n",
              "\n",
              "      <script>\n",
              "        const buttonEl =\n",
              "          document.querySelector('#df-9376374a-684d-4d9a-838f-c466c651e414 button.colab-df-convert');\n",
              "        buttonEl.style.display =\n",
              "          google.colab.kernel.accessAllowed ? 'block' : 'none';\n",
              "\n",
              "        async function convertToInteractive(key) {\n",
              "          const element = document.querySelector('#df-9376374a-684d-4d9a-838f-c466c651e414');\n",
              "          const dataTable =\n",
              "            await google.colab.kernel.invokeFunction('convertToInteractive',\n",
              "                                                     [key], {});\n",
              "          if (!dataTable) return;\n",
              "\n",
              "          const docLinkHtml = 'Like what you see? Visit the ' +\n",
              "            '<a target=\"_blank\" href=https://colab.research.google.com/notebooks/data_table.ipynb>data table notebook</a>'\n",
              "            + ' to learn more about interactive tables.';\n",
              "          element.innerHTML = '';\n",
              "          dataTable['output_type'] = 'display_data';\n",
              "          await google.colab.output.renderOutput(dataTable, element);\n",
              "          const docLink = document.createElement('div');\n",
              "          docLink.innerHTML = docLinkHtml;\n",
              "          element.appendChild(docLink);\n",
              "        }\n",
              "      </script>\n",
              "    </div>\n",
              "  </div>\n",
              "  "
            ]
          },
          "metadata": {}
        }
      ]
    },
    {
      "cell_type": "markdown",
      "source": [
        "**Check The Missing Values**"
      ],
      "metadata": {
        "id": "IynSbYbZnPFa"
      }
    },
    {
      "cell_type": "markdown",
      "source": [
        "We catched a missing value in \"Money_Value\" column."
      ],
      "metadata": {
        "id": "innxD4CFnv16"
      }
    },
    {
      "cell_type": "code",
      "source": [
        "import missingno as msno\n",
        "\n",
        "msno.matrix(audit_risk)\n",
        "plt.title(\"Missing Values in Audit_Risk\",y=1.18, fontsize=24)\n",
        "msno.matrix(trial)\n",
        "plt.title(\"Missing Values in Trial\",y=1.18, fontsize=24)"
      ],
      "metadata": {
        "colab": {
          "base_uri": "https://localhost:8080/",
          "height": 1000
        },
        "id": "jz1BPH1KlXgE",
        "outputId": "35821ce9-6424-4dcf-9d10-5b7086f49d89"
      },
      "execution_count": null,
      "outputs": [
        {
          "output_type": "execute_result",
          "data": {
            "text/plain": [
              "Text(0.5, 1.18, 'Missing Values in Trial')"
            ]
          },
          "metadata": {},
          "execution_count": 209
        },
        {
          "output_type": "display_data",
          "data": {
            "text/plain": [
              "<Figure size 1800x720 with 2 Axes>"
            ],
            "image/png": "[encoded data removed]"
          },
          "metadata": {
            "needs_background": "light"
          }
        },
        {
          "output_type": "display_data",
          "data": {
            "text/plain": [
              "<Figure size 1800x720 with 2 Axes>"
            ],
            "image/png": "[encoded data removed]"
          },
          "metadata": {
            "needs_background": "light"
          }
        }
      ]
    },
    {
      "cell_type": "markdown",
      "source": [
        "<b>Number of Unique values in each column</b><br>\n",
        "\n",
        "As we have to merge two dataframes for regression and classification task so here we are looking for number of unique values in each column so we can merge dataframes using that common column.<br>\n",
        "\n",
        "Clearly, there is no column which has a number of unique value equals to our number of records of the dataframe i.e. 776 hence we can not merge two dataframes just using single column and we have to think of combining multiple columns while merging the dataframes."
      ],
      "metadata": {
        "id": "1AfU4MgCpjvz"
      }
    },
    {
      "cell_type": "code",
      "execution_count": null,
      "metadata": {
        "id": "7MyYVB9uQ1Dh",
        "colab": {
          "base_uri": "https://localhost:8080/",
          "height": 787
        },
        "outputId": "01e0191d-3ade-4047-f220-9cb75021c6cd"
      },
      "outputs": [
        {
          "output_type": "display_data",
          "data": {
            "text/plain": [
              "<Figure size 1440x360 with 1 Axes>"
            ],
            "image/png": "[encoded data removed]"
          },
          "metadata": {
            "needs_background": "light"
          }
        },
        {
          "output_type": "display_data",
          "data": {
            "text/plain": [
              "<Figure size 1440x360 with 1 Axes>"
            ],
            "image/png": "[encoded data removed]"
          },
          "metadata": {
            "needs_background": "light"
          }
        }
      ],
      "source": [
        "y_audit_risk=[]\n",
        "x_audit_risk=[]\n",
        "for i in range(len(audit_risk.nunique().index)):\n",
        "    y_audit_risk.append(audit_risk.nunique().index[i])\n",
        "    x_audit_risk.append(audit_risk.nunique()[i])\n",
        "    \n",
        "y_trial=[]\n",
        "x_trial=[]\n",
        "for i in range(len(trial.nunique().index)):\n",
        "    y_trial.append(trial.nunique().index[i])\n",
        "    x_trial.append(trial.nunique()[i])\n",
        "\n",
        "plt.figure(figsize=(20,5))\n",
        "\n",
        "plt.bar(y_audit_risk,x_audit_risk, align='center', alpha=1)\n",
        "plt.ylabel('Audit_Risk', Fontsize= 16)\n",
        "plt.title('Number of Unique Values in each column',fontsize=20)\n",
        "plt.xticks(rotation=50, ha=\"right\")\n",
        "\n",
        "plt.show()\n",
        "\n",
        "plt.figure(figsize=(20,5))\n",
        "\n",
        "plt.bar(y_trial,x_trial, align='center', alpha=1)\n",
        "plt.ylabel('Trial', Fontsize= 16)\n",
        "plt.title('Number of Unique Values in each column',fontsize=20)\n",
        "plt.xticks(rotation=50, ha=\"right\")\n",
        "\n",
        "plt.show()\n"
      ]
    },
    {
      "cell_type": "code",
      "source": [
        "audit_risk.columns & trial.columns"
      ],
      "metadata": {
        "id": "RbCk6Xefph-j",
        "colab": {
          "base_uri": "https://localhost:8080/"
        },
        "outputId": "a2a24251-c516-408f-ccce-403907291708"
      },
      "execution_count": null,
      "outputs": [
        {
          "output_type": "execute_result",
          "data": {
            "text/plain": [
              "Index(['Sector_score', 'LOCATION_ID', 'PARA_A', 'PARA_B', 'TOTAL', 'numbers',\n",
              "       'Money_Value', 'History', 'Score', 'Risk'],\n",
              "      dtype='object')"
            ]
          },
          "metadata": {},
          "execution_count": 211
        }
      ]
    },
    {
      "cell_type": "code",
      "source": [
        "audit_risk[audit_risk.duplicated() == True]"
      ],
      "metadata": {
        "id": "rVxMN7pXph7E",
        "colab": {
          "base_uri": "https://localhost:8080/",
          "height": 550
        },
        "outputId": "0b91c6e1-c65a-41b5-fce8-f5baad6a90b6"
      },
      "execution_count": null,
      "outputs": [
        {
          "output_type": "execute_result",
          "data": {
            "text/plain": [
              "     Sector_score LOCATION_ID  PARA_A  Score_A  Risk_A  PARA_B  Score_B  \\\n",
              "265          2.72          15    0.00      0.2   0.000     0.0      0.2   \n",
              "474          1.85          16    0.00      0.2   0.000     0.0      0.2   \n",
              "600         55.57           8    0.00      0.2   0.000     0.0      0.2   \n",
              "659         55.57           5    0.00      0.2   0.000     0.0      0.2   \n",
              "679         55.57           9    0.00      0.2   0.000     0.0      0.2   \n",
              "695         55.57          12    0.00      0.2   0.000     0.0      0.2   \n",
              "696         55.57          12    0.00      0.2   0.000     0.0      0.2   \n",
              "704         55.57           8    0.00      0.2   0.000     0.0      0.2   \n",
              "715         55.57          27    0.00      0.2   0.000     0.0      0.2   \n",
              "716         55.57           2    0.00      0.2   0.000     0.0      0.2   \n",
              "742         55.57          15    0.00      0.2   0.000     0.0      0.2   \n",
              "761         55.57          12    0.00      0.2   0.000     0.0      0.2   \n",
              "771         55.57           9    0.49      0.2   0.098     0.4      0.2   \n",
              "\n",
              "     Risk_B  TOTAL  numbers  ...  RiSk_E  History  Prob  Risk_F  Score  \\\n",
              "265    0.00   0.00      5.0  ...     0.4        0   0.2     0.0    2.0   \n",
              "474    0.00   0.00      5.0  ...     0.4        0   0.2     0.0    2.0   \n",
              "600    0.00   0.00      5.0  ...     0.4        0   0.2     0.0    2.0   \n",
              "659    0.00   0.00      5.0  ...     0.4        0   0.2     0.0    2.0   \n",
              "679    0.00   0.00      5.0  ...     0.4        0   0.2     0.0    2.0   \n",
              "695    0.00   0.00      5.0  ...     0.4        0   0.2     0.0    2.0   \n",
              "696    0.00   0.00      5.0  ...     0.4        0   0.2     0.0    2.0   \n",
              "704    0.00   0.00      5.0  ...     0.4        0   0.2     0.0    2.0   \n",
              "715    0.00   0.00      5.0  ...     0.4        0   0.2     0.0    2.0   \n",
              "716    0.00   0.00      5.0  ...     1.2        0   0.2     0.0    2.4   \n",
              "742    0.00   0.00      5.0  ...     0.4        0   0.2     0.0    2.0   \n",
              "761    0.00   0.00      5.0  ...     0.4        0   0.2     0.0    2.0   \n",
              "771    0.08   0.89      5.0  ...     0.4        0   0.2     0.0    2.0   \n",
              "\n",
              "     Inherent_Risk  CONTROL_RISK  Detection_Risk  Audit_Risk  Risk  \n",
              "265          1.400           0.4             0.5      0.2800     0  \n",
              "474          1.400           0.4             0.5      0.2800     0  \n",
              "600          1.400           0.4             0.5      0.2800     0  \n",
              "659          1.400           0.4             0.5      0.2800     0  \n",
              "679          1.400           0.4             0.5      0.2800     0  \n",
              "695          1.400           0.4             0.5      0.2800     0  \n",
              "696          1.400           0.4             0.5      0.2800     0  \n",
              "704          1.400           0.4             0.5      0.2800     0  \n",
              "715          1.400           0.4             0.5      0.2800     0  \n",
              "716          2.200           1.2             0.5      1.3200     1  \n",
              "742          1.400           0.4             0.5      0.2800     0  \n",
              "761          1.400           0.4             0.5      0.2800     0  \n",
              "771          1.578           0.4             0.5      0.3156     0  \n",
              "\n",
              "[13 rows x 27 columns]"
            ],
            "text/html": [
              "\n",
              "  <div id=\"df-12a89338-b4d4-490f-bc87-69438b06ce67\">\n",
              "    <div class=\"colab-df-container\">\n",
              "      <div>\n",
              "<style scoped>\n",
              "    .dataframe tbody tr th:only-of-type {\n",
              "        vertical-align: middle;\n",
              "    }\n",
              "\n",
              "    .dataframe tbody tr th {\n",
              "        vertical-align: top;\n",
              "    }\n",
              "\n",
              "    .dataframe thead th {\n",
              "        text-align: right;\n",
              "    }\n",
              "</style>\n",
              "<table border=\"1\" class=\"dataframe\">\n",
              "  <thead>\n",
              "    <tr style=\"text-align: right;\">\n",
              "      <th></th>\n",
              "      <th>Sector_score</th>\n",
              "      <th>LOCATION_ID</th>\n",
              "      <th>PARA_A</th>\n",
              "      <th>Score_A</th>\n",
              "      <th>Risk_A</th>\n",
              "      <th>PARA_B</th>\n",
              "      <th>Score_B</th>\n",
              "      <th>Risk_B</th>\n",
              "      <th>TOTAL</th>\n",
              "      <th>numbers</th>\n",
              "      <th>...</th>\n",
              "      <th>RiSk_E</th>\n",
              "      <th>History</th>\n",
              "      <th>Prob</th>\n",
              "      <th>Risk_F</th>\n",
              "      <th>Score</th>\n",
              "      <th>Inherent_Risk</th>\n",
              "      <th>CONTROL_RISK</th>\n",
              "      <th>Detection_Risk</th>\n",
              "      <th>Audit_Risk</th>\n",
              "      <th>Risk</th>\n",
              "    </tr>\n",
              "  </thead>\n",
              "  <tbody>\n",
              "    <tr>\n",
              "      <th>265</th>\n",
              "      <td>2.72</td>\n",
              "      <td>15</td>\n",
              "      <td>0.00</td>\n",
              "      <td>0.2</td>\n",
              "      <td>0.000</td>\n",
              "      <td>0.0</td>\n",
              "      <td>0.2</td>\n",
              "      <td>0.00</td>\n",
              "      <td>0.00</td>\n",
              "      <td>5.0</td>\n",
              "      <td>...</td>\n",
              "      <td>0.4</td>\n",
              "      <td>0</td>\n",
              "      <td>0.2</td>\n",
              "      <td>0.0</td>\n",
              "      <td>2.0</td>\n",
              "      <td>1.400</td>\n",
              "      <td>0.4</td>\n",
              "      <td>0.5</td>\n",
              "      <td>0.2800</td>\n",
              "      <td>0</td>\n",
              "    </tr>\n",
              "    <tr>\n",
              "      <th>474</th>\n",
              "      <td>1.85</td>\n",
              "      <td>16</td>\n",
              "      <td>0.00</td>\n",
              "      <td>0.2</td>\n",
              "      <td>0.000</td>\n",
              "      <td>0.0</td>\n",
              "      <td>0.2</td>\n",
              "      <td>0.00</td>\n",
              "      <td>0.00</td>\n",
              "      <td>5.0</td>\n",
              "      <td>...</td>\n",
              "      <td>0.4</td>\n",
              "      <td>0</td>\n",
              "      <td>0.2</td>\n",
              "      <td>0.0</td>\n",
              "      <td>2.0</td>\n",
              "      <td>1.400</td>\n",
              "      <td>0.4</td>\n",
              "      <td>0.5</td>\n",
              "      <td>0.2800</td>\n",
              "      <td>0</td>\n",
              "    </tr>\n",
              "    <tr>\n",
              "      <th>600</th>\n",
              "      <td>55.57</td>\n",
              "      <td>8</td>\n",
              "      <td>0.00</td>\n",
              "      <td>0.2</td>\n",
              "      <td>0.000</td>\n",
              "      <td>0.0</td>\n",
              "      <td>0.2</td>\n",
              "      <td>0.00</td>\n",
              "      <td>0.00</td>\n",
              "      <td>5.0</td>\n",
              "      <td>...</td>\n",
              "      <td>0.4</td>\n",
              "      <td>0</td>\n",
              "      <td>0.2</td>\n",
              "      <td>0.0</td>\n",
              "      <td>2.0</td>\n",
              "      <td>1.400</td>\n",
              "      <td>0.4</td>\n",
              "      <td>0.5</td>\n",
              "      <td>0.2800</td>\n",
              "      <td>0</td>\n",
              "    </tr>\n",
              "    <tr>\n",
              "      <th>659</th>\n",
              "      <td>55.57</td>\n",
              "      <td>5</td>\n",
              "      <td>0.00</td>\n",
              "      <td>0.2</td>\n",
              "      <td>0.000</td>\n",
              "      <td>0.0</td>\n",
              "      <td>0.2</td>\n",
              "      <td>0.00</td>\n",
              "      <td>0.00</td>\n",
              "      <td>5.0</td>\n",
              "      <td>...</td>\n",
              "      <td>0.4</td>\n",
              "      <td>0</td>\n",
              "      <td>0.2</td>\n",
              "      <td>0.0</td>\n",
              "      <td>2.0</td>\n",
              "      <td>1.400</td>\n",
              "      <td>0.4</td>\n",
              "      <td>0.5</td>\n",
              "      <td>0.2800</td>\n",
              "      <td>0</td>\n",
              "    </tr>\n",
              "    <tr>\n",
              "      <th>679</th>\n",
              "      <td>55.57</td>\n",
              "      <td>9</td>\n",
              "      <td>0.00</td>\n",
              "      <td>0.2</td>\n",
              "      <td>0.000</td>\n",
              "      <td>0.0</td>\n",
              "      <td>0.2</td>\n",
              "      <td>0.00</td>\n",
              "      <td>0.00</td>\n",
              "      <td>5.0</td>\n",
              "      <td>...</td>\n",
              "      <td>0.4</td>\n",
              "      <td>0</td>\n",
              "      <td>0.2</td>\n",
              "      <td>0.0</td>\n",
              "      <td>2.0</td>\n",
              "      <td>1.400</td>\n",
              "      <td>0.4</td>\n",
              "      <td>0.5</td>\n",
              "      <td>0.2800</td>\n",
              "      <td>0</td>\n",
              "    </tr>\n",
              "    <tr>\n",
              "      <th>695</th>\n",
              "      <td>55.57</td>\n",
              "      <td>12</td>\n",
              "      <td>0.00</td>\n",
              "      <td>0.2</td>\n",
              "      <td>0.000</td>\n",
              "      <td>0.0</td>\n",
              "      <td>0.2</td>\n",
              "      <td>0.00</td>\n",
              "      <td>0.00</td>\n",
              "      <td>5.0</td>\n",
              "      <td>...</td>\n",
              "      <td>0.4</td>\n",
              "      <td>0</td>\n",
              "      <td>0.2</td>\n",
              "      <td>0.0</td>\n",
              "      <td>2.0</td>\n",
              "      <td>1.400</td>\n",
              "      <td>0.4</td>\n",
              "      <td>0.5</td>\n",
              "      <td>0.2800</td>\n",
              "      <td>0</td>\n",
              "    </tr>\n",
              "    <tr>\n",
              "      <th>696</th>\n",
              "      <td>55.57</td>\n",
              "      <td>12</td>\n",
              "      <td>0.00</td>\n",
              "      <td>0.2</td>\n",
              "      <td>0.000</td>\n",
              "      <td>0.0</td>\n",
              "      <td>0.2</td>\n",
              "      <td>0.00</td>\n",
              "      <td>0.00</td>\n",
              "      <td>5.0</td>\n",
              "      <td>...</td>\n",
              "      <td>0.4</td>\n",
              "      <td>0</td>\n",
              "      <td>0.2</td>\n",
              "      <td>0.0</td>\n",
              "      <td>2.0</td>\n",
              "      <td>1.400</td>\n",
              "      <td>0.4</td>\n",
              "      <td>0.5</td>\n",
              "      <td>0.2800</td>\n",
              "      <td>0</td>\n",
              "    </tr>\n",
              "    <tr>\n",
              "      <th>704</th>\n",
              "      <td>55.57</td>\n",
              "      <td>8</td>\n",
              "      <td>0.00</td>\n",
              "      <td>0.2</td>\n",
              "      <td>0.000</td>\n",
              "      <td>0.0</td>\n",
              "      <td>0.2</td>\n",
              "      <td>0.00</td>\n",
              "      <td>0.00</td>\n",
              "      <td>5.0</td>\n",
              "      <td>...</td>\n",
              "      <td>0.4</td>\n",
              "      <td>0</td>\n",
              "      <td>0.2</td>\n",
              "      <td>0.0</td>\n",
              "      <td>2.0</td>\n",
              "      <td>1.400</td>\n",
              "      <td>0.4</td>\n",
              "      <td>0.5</td>\n",
              "      <td>0.2800</td>\n",
              "      <td>0</td>\n",
              "    </tr>\n",
              "    <tr>\n",
              "      <th>715</th>\n",
              "      <td>55.57</td>\n",
              "      <td>27</td>\n",
              "      <td>0.00</td>\n",
              "      <td>0.2</td>\n",
              "      <td>0.000</td>\n",
              "      <td>0.0</td>\n",
              "      <td>0.2</td>\n",
              "      <td>0.00</td>\n",
              "      <td>0.00</td>\n",
              "      <td>5.0</td>\n",
              "      <td>...</td>\n",
              "      <td>0.4</td>\n",
              "      <td>0</td>\n",
              "      <td>0.2</td>\n",
              "      <td>0.0</td>\n",
              "      <td>2.0</td>\n",
              "      <td>1.400</td>\n",
              "      <td>0.4</td>\n",
              "      <td>0.5</td>\n",
              "      <td>0.2800</td>\n",
              "      <td>0</td>\n",
              "    </tr>\n",
              "    <tr>\n",
              "      <th>716</th>\n",
              "      <td>55.57</td>\n",
              "      <td>2</td>\n",
              "      <td>0.00</td>\n",
              "      <td>0.2</td>\n",
              "      <td>0.000</td>\n",
              "      <td>0.0</td>\n",
              "      <td>0.2</td>\n",
              "      <td>0.00</td>\n",
              "      <td>0.00</td>\n",
              "      <td>5.0</td>\n",
              "      <td>...</td>\n",
              "      <td>1.2</td>\n",
              "      <td>0</td>\n",
              "      <td>0.2</td>\n",
              "      <td>0.0</td>\n",
              "      <td>2.4</td>\n",
              "      <td>2.200</td>\n",
              "      <td>1.2</td>\n",
              "      <td>0.5</td>\n",
              "      <td>1.3200</td>\n",
              "      <td>1</td>\n",
              "    </tr>\n",
              "    <tr>\n",
              "      <th>742</th>\n",
              "      <td>55.57</td>\n",
              "      <td>15</td>\n",
              "      <td>0.00</td>\n",
              "      <td>0.2</td>\n",
              "      <td>0.000</td>\n",
              "      <td>0.0</td>\n",
              "      <td>0.2</td>\n",
              "      <td>0.00</td>\n",
              "      <td>0.00</td>\n",
              "      <td>5.0</td>\n",
              "      <td>...</td>\n",
              "      <td>0.4</td>\n",
              "      <td>0</td>\n",
              "      <td>0.2</td>\n",
              "      <td>0.0</td>\n",
              "      <td>2.0</td>\n",
              "      <td>1.400</td>\n",
              "      <td>0.4</td>\n",
              "      <td>0.5</td>\n",
              "      <td>0.2800</td>\n",
              "      <td>0</td>\n",
              "    </tr>\n",
              "    <tr>\n",
              "      <th>761</th>\n",
              "      <td>55.57</td>\n",
              "      <td>12</td>\n",
              "      <td>0.00</td>\n",
              "      <td>0.2</td>\n",
              "      <td>0.000</td>\n",
              "      <td>0.0</td>\n",
              "      <td>0.2</td>\n",
              "      <td>0.00</td>\n",
              "      <td>0.00</td>\n",
              "      <td>5.0</td>\n",
              "      <td>...</td>\n",
              "      <td>0.4</td>\n",
              "      <td>0</td>\n",
              "      <td>0.2</td>\n",
              "      <td>0.0</td>\n",
              "      <td>2.0</td>\n",
              "      <td>1.400</td>\n",
              "      <td>0.4</td>\n",
              "      <td>0.5</td>\n",
              "      <td>0.2800</td>\n",
              "      <td>0</td>\n",
              "    </tr>\n",
              "    <tr>\n",
              "      <th>771</th>\n",
              "      <td>55.57</td>\n",
              "      <td>9</td>\n",
              "      <td>0.49</td>\n",
              "      <td>0.2</td>\n",
              "      <td>0.098</td>\n",
              "      <td>0.4</td>\n",
              "      <td>0.2</td>\n",
              "      <td>0.08</td>\n",
              "      <td>0.89</td>\n",
              "      <td>5.0</td>\n",
              "      <td>...</td>\n",
              "      <td>0.4</td>\n",
              "      <td>0</td>\n",
              "      <td>0.2</td>\n",
              "      <td>0.0</td>\n",
              "      <td>2.0</td>\n",
              "      <td>1.578</td>\n",
              "      <td>0.4</td>\n",
              "      <td>0.5</td>\n",
              "      <td>0.3156</td>\n",
              "      <td>0</td>\n",
              "    </tr>\n",
              "  </tbody>\n",
              "</table>\n",
              "<p>13 rows × 27 columns</p>\n",
              "</div>\n",
              "      <button class=\"colab-df-convert\" onclick=\"convertToInteractive('df-12a89338-b4d4-490f-bc87-69438b06ce67')\"\n",
              "              title=\"Convert this dataframe to an interactive table.\"\n",
              "              style=\"display:none;\">\n",
              "        \n",
              "  <svg xmlns=\"http://www.w3.org/2000/svg\" height=\"24px\"viewBox=\"0 0 24 24\"\n",
              "       width=\"24px\">\n",
              "    <path d=\"M0 0h24v24H0V0z\" fill=\"none\"/>\n",
              "    <path d=\"M18.56 5.44l.94 2.06.94-2.06 2.06-.94-2.06-.94-.94-2.06-.94 2.06-2.06.94zm-11 1L8.5 8.5l.94-2.06 2.06-.94-2.06-.94L8.5 2.5l-.94 2.06-2.06.94zm10 10l.94 2.06.94-2.06 2.06-.94-2.06-.94-.94-2.06-.94 2.06-2.06.94z\"/><path d=\"M17.41 7.96l-1.37-1.37c-.4-.4-.92-.59-1.43-.59-.52 0-1.04.2-1.43.59L10.3 9.45l-7.72 7.72c-.78.78-.78 2.05 0 2.83L4 21.41c.39.39.9.59 1.41.59.51 0 1.02-.2 1.41-.59l7.78-7.78 2.81-2.81c.8-.78.8-2.07 0-2.86zM5.41 20L4 18.59l7.72-7.72 1.47 1.35L5.41 20z\"/>\n",
              "  </svg>\n",
              "      </button>\n",
              "      \n",
              "  <style>\n",
              "    .colab-df-container {\n",
              "      display:flex;\n",
              "      flex-wrap:wrap;\n",
              "      gap: 12px;\n",
              "    }\n",
              "\n",
              "    .colab-df-convert {\n",
              "      background-color: #E8F0FE;\n",
              "      border: none;\n",
              "      border-radius: 50%;\n",
              "      cursor: pointer;\n",
              "      display: none;\n",
              "      fill: #1967D2;\n",
              "      height: 32px;\n",
              "      padding: 0 0 0 0;\n",
              "      width: 32px;\n",
              "    }\n",
              "\n",
              "    .colab-df-convert:hover {\n",
              "      background-color: #E2EBFA;\n",
              "      box-shadow: 0px 1px 2px rgba(60, 64, 67, 0.3), 0px 1px 3px 1px rgba(60, 64, 67, 0.15);\n",
              "      fill: #174EA6;\n",
              "    }\n",
              "\n",
              "    [theme=dark] .colab-df-convert {\n",
              "      background-color: #3B4455;\n",
              "      fill: #D2E3FC;\n",
              "    }\n",
              "\n",
              "    [theme=dark] .colab-df-convert:hover {\n",
              "      background-color: #434B5C;\n",
              "      box-shadow: 0px 1px 3px 1px rgba(0, 0, 0, 0.15);\n",
              "      filter: drop-shadow(0px 1px 2px rgba(0, 0, 0, 0.3));\n",
              "      fill: #FFFFFF;\n",
              "    }\n",
              "  </style>\n",
              "\n",
              "      <script>\n",
              "        const buttonEl =\n",
              "          document.querySelector('#df-12a89338-b4d4-490f-bc87-69438b06ce67 button.colab-df-convert');\n",
              "        buttonEl.style.display =\n",
              "          google.colab.kernel.accessAllowed ? 'block' : 'none';\n",
              "\n",
              "        async function convertToInteractive(key) {\n",
              "          const element = document.querySelector('#df-12a89338-b4d4-490f-bc87-69438b06ce67');\n",
              "          const dataTable =\n",
              "            await google.colab.kernel.invokeFunction('convertToInteractive',\n",
              "                                                     [key], {});\n",
              "          if (!dataTable) return;\n",
              "\n",
              "          const docLinkHtml = 'Like what you see? Visit the ' +\n",
              "            '<a target=\"_blank\" href=https://colab.research.google.com/notebooks/data_table.ipynb>data table notebook</a>'\n",
              "            + ' to learn more about interactive tables.';\n",
              "          element.innerHTML = '';\n",
              "          dataTable['output_type'] = 'display_data';\n",
              "          await google.colab.output.renderOutput(dataTable, element);\n",
              "          const docLink = document.createElement('div');\n",
              "          docLink.innerHTML = docLinkHtml;\n",
              "          element.appendChild(docLink);\n",
              "        }\n",
              "      </script>\n",
              "    </div>\n",
              "  </div>\n",
              "  "
            ]
          },
          "metadata": {},
          "execution_count": 212
        }
      ]
    },
    {
      "cell_type": "code",
      "source": [
        "trial[trial.duplicated() == True]"
      ],
      "metadata": {
        "id": "_wGRyaqNph4R",
        "colab": {
          "base_uri": "https://localhost:8080/",
          "height": 501
        },
        "outputId": "48c653ab-8417-4411-e230-f77ae3f9f79b"
      },
      "execution_count": null,
      "outputs": [
        {
          "output_type": "execute_result",
          "data": {
            "text/plain": [
              "     Sector_score LOCATION_ID  PARA_A  SCORE_A  PARA_B  SCORE_B  TOTAL  \\\n",
              "265          2.72          15    0.00        2     0.0        2   0.00   \n",
              "474          1.85          16    0.00        2     0.0        2   0.00   \n",
              "600         55.57           8    0.00        2     0.0        2   0.00   \n",
              "659         55.57           5    0.00        2     0.0        2   0.00   \n",
              "679         55.57           9    0.00        2     0.0        2   0.00   \n",
              "695         55.57          12    0.00        2     0.0        2   0.00   \n",
              "696         55.57          12    0.00        2     0.0        2   0.00   \n",
              "704         55.57           8    0.00        2     0.0        2   0.00   \n",
              "715         55.57          27    0.00        2     0.0        2   0.00   \n",
              "716         55.57           2    0.00        2     0.0        2   0.00   \n",
              "742         55.57          15    0.00        2     0.0        2   0.00   \n",
              "761         55.57          12    0.00        2     0.0        2   0.00   \n",
              "771         55.57           9    0.49        2     0.4        2   0.89   \n",
              "\n",
              "     numbers  Marks  Money_Value  MONEY_Marks  District  Loss  LOSS_SCORE  \\\n",
              "265      5.0      2          0.0            2         2     0           2   \n",
              "474      5.0      2          0.0            2         2     0           2   \n",
              "600      5.0      2          0.0            2         2     0           2   \n",
              "659      5.0      2          0.0            2         2     0           2   \n",
              "679      5.0      2          0.0            2         2     0           2   \n",
              "695      5.0      2          0.0            2         2     0           2   \n",
              "696      5.0      2          0.0            2         2     0           2   \n",
              "704      5.0      2          0.0            2         2     0           2   \n",
              "715      5.0      2          0.0            2         2     0           2   \n",
              "716      5.0      2          0.0            2         6     0           2   \n",
              "742      5.0      2          0.0            2         2     0           2   \n",
              "761      5.0      2          0.0            2         2     0           2   \n",
              "771      5.0      2          0.0            2         2     0           2   \n",
              "\n",
              "     History  History_score  Score  Risk  \n",
              "265        0              2    2.0     0  \n",
              "474        0              2    2.0     0  \n",
              "600        0              2    2.0     0  \n",
              "659        0              2    2.0     0  \n",
              "679        0              2    2.0     0  \n",
              "695        0              2    2.0     0  \n",
              "696        0              2    2.0     0  \n",
              "704        0              2    2.0     0  \n",
              "715        0              2    2.0     0  \n",
              "716        0              2    2.4     1  \n",
              "742        0              2    2.0     0  \n",
              "761        0              2    2.0     0  \n",
              "771        0              2    2.0     0  "
            ],
            "text/html": [
              "\n",
              "  <div id=\"df-de2c1fdf-edb6-4839-90bb-4ed88371c4df\">\n",
              "    <div class=\"colab-df-container\">\n",
              "      <div>\n",
              "<style scoped>\n",
              "    .dataframe tbody tr th:only-of-type {\n",
              "        vertical-align: middle;\n",
              "    }\n",
              "\n",
              "    .dataframe tbody tr th {\n",
              "        vertical-align: top;\n",
              "    }\n",
              "\n",
              "    .dataframe thead th {\n",
              "        text-align: right;\n",
              "    }\n",
              "</style>\n",
              "<table border=\"1\" class=\"dataframe\">\n",
              "  <thead>\n",
              "    <tr style=\"text-align: right;\">\n",
              "      <th></th>\n",
              "      <th>Sector_score</th>\n",
              "      <th>LOCATION_ID</th>\n",
              "      <th>PARA_A</th>\n",
              "      <th>SCORE_A</th>\n",
              "      <th>PARA_B</th>\n",
              "      <th>SCORE_B</th>\n",
              "      <th>TOTAL</th>\n",
              "      <th>numbers</th>\n",
              "      <th>Marks</th>\n",
              "      <th>Money_Value</th>\n",
              "      <th>MONEY_Marks</th>\n",
              "      <th>District</th>\n",
              "      <th>Loss</th>\n",
              "      <th>LOSS_SCORE</th>\n",
              "      <th>History</th>\n",
              "      <th>History_score</th>\n",
              "      <th>Score</th>\n",
              "      <th>Risk</th>\n",
              "    </tr>\n",
              "  </thead>\n",
              "  <tbody>\n",
              "    <tr>\n",
              "      <th>265</th>\n",
              "      <td>2.72</td>\n",
              "      <td>15</td>\n",
              "      <td>0.00</td>\n",
              "      <td>2</td>\n",
              "      <td>0.0</td>\n",
              "      <td>2</td>\n",
              "      <td>0.00</td>\n",
              "      <td>5.0</td>\n",
              "      <td>2</td>\n",
              "      <td>0.0</td>\n",
              "      <td>2</td>\n",
              "      <td>2</td>\n",
              "      <td>0</td>\n",
              "      <td>2</td>\n",
              "      <td>0</td>\n",
              "      <td>2</td>\n",
              "      <td>2.0</td>\n",
              "      <td>0</td>\n",
              "    </tr>\n",
              "    <tr>\n",
              "      <th>474</th>\n",
              "      <td>1.85</td>\n",
              "      <td>16</td>\n",
              "      <td>0.00</td>\n",
              "      <td>2</td>\n",
              "      <td>0.0</td>\n",
              "      <td>2</td>\n",
              "      <td>0.00</td>\n",
              "      <td>5.0</td>\n",
              "      <td>2</td>\n",
              "      <td>0.0</td>\n",
              "      <td>2</td>\n",
              "      <td>2</td>\n",
              "      <td>0</td>\n",
              "      <td>2</td>\n",
              "      <td>0</td>\n",
              "      <td>2</td>\n",
              "      <td>2.0</td>\n",
              "      <td>0</td>\n",
              "    </tr>\n",
              "    <tr>\n",
              "      <th>600</th>\n",
              "      <td>55.57</td>\n",
              "      <td>8</td>\n",
              "      <td>0.00</td>\n",
              "      <td>2</td>\n",
              "      <td>0.0</td>\n",
              "      <td>2</td>\n",
              "      <td>0.00</td>\n",
              "      <td>5.0</td>\n",
              "      <td>2</td>\n",
              "      <td>0.0</td>\n",
              "      <td>2</td>\n",
              "      <td>2</td>\n",
              "      <td>0</td>\n",
              "      <td>2</td>\n",
              "      <td>0</td>\n",
              "      <td>2</td>\n",
              "      <td>2.0</td>\n",
              "      <td>0</td>\n",
              "    </tr>\n",
              "    <tr>\n",
              "      <th>659</th>\n",
              "      <td>55.57</td>\n",
              "      <td>5</td>\n",
              "      <td>0.00</td>\n",
              "      <td>2</td>\n",
              "      <td>0.0</td>\n",
              "      <td>2</td>\n",
              "      <td>0.00</td>\n",
              "      <td>5.0</td>\n",
              "      <td>2</td>\n",
              "      <td>0.0</td>\n",
              "      <td>2</td>\n",
              "      <td>2</td>\n",
              "      <td>0</td>\n",
              "      <td>2</td>\n",
              "      <td>0</td>\n",
              "      <td>2</td>\n",
              "      <td>2.0</td>\n",
              "      <td>0</td>\n",
              "    </tr>\n",
              "    <tr>\n",
              "      <th>679</th>\n",
              "      <td>55.57</td>\n",
              "      <td>9</td>\n",
              "      <td>0.00</td>\n",
              "      <td>2</td>\n",
              "      <td>0.0</td>\n",
              "      <td>2</td>\n",
              "      <td>0.00</td>\n",
              "      <td>5.0</td>\n",
              "      <td>2</td>\n",
              "      <td>0.0</td>\n",
              "      <td>2</td>\n",
              "      <td>2</td>\n",
              "      <td>0</td>\n",
              "      <td>2</td>\n",
              "      <td>0</td>\n",
              "      <td>2</td>\n",
              "      <td>2.0</td>\n",
              "      <td>0</td>\n",
              "    </tr>\n",
              "    <tr>\n",
              "      <th>695</th>\n",
              "      <td>55.57</td>\n",
              "      <td>12</td>\n",
              "      <td>0.00</td>\n",
              "      <td>2</td>\n",
              "      <td>0.0</td>\n",
              "      <td>2</td>\n",
              "      <td>0.00</td>\n",
              "      <td>5.0</td>\n",
              "      <td>2</td>\n",
              "      <td>0.0</td>\n",
              "      <td>2</td>\n",
              "      <td>2</td>\n",
              "      <td>0</td>\n",
              "      <td>2</td>\n",
              "      <td>0</td>\n",
              "      <td>2</td>\n",
              "      <td>2.0</td>\n",
              "      <td>0</td>\n",
              "    </tr>\n",
              "    <tr>\n",
              "      <th>696</th>\n",
              "      <td>55.57</td>\n",
              "      <td>12</td>\n",
              "      <td>0.00</td>\n",
              "      <td>2</td>\n",
              "      <td>0.0</td>\n",
              "      <td>2</td>\n",
              "      <td>0.00</td>\n",
              "      <td>5.0</td>\n",
              "      <td>2</td>\n",
              "      <td>0.0</td>\n",
              "      <td>2</td>\n",
              "      <td>2</td>\n",
              "      <td>0</td>\n",
              "      <td>2</td>\n",
              "      <td>0</td>\n",
              "      <td>2</td>\n",
              "      <td>2.0</td>\n",
              "      <td>0</td>\n",
              "    </tr>\n",
              "    <tr>\n",
              "      <th>704</th>\n",
              "      <td>55.57</td>\n",
              "      <td>8</td>\n",
              "      <td>0.00</td>\n",
              "      <td>2</td>\n",
              "      <td>0.0</td>\n",
              "      <td>2</td>\n",
              "      <td>0.00</td>\n",
              "      <td>5.0</td>\n",
              "      <td>2</td>\n",
              "      <td>0.0</td>\n",
              "      <td>2</td>\n",
              "      <td>2</td>\n",
              "      <td>0</td>\n",
              "      <td>2</td>\n",
              "      <td>0</td>\n",
              "      <td>2</td>\n",
              "      <td>2.0</td>\n",
              "      <td>0</td>\n",
              "    </tr>\n",
              "    <tr>\n",
              "      <th>715</th>\n",
              "      <td>55.57</td>\n",
              "      <td>27</td>\n",
              "      <td>0.00</td>\n",
              "      <td>2</td>\n",
              "      <td>0.0</td>\n",
              "      <td>2</td>\n",
              "      <td>0.00</td>\n",
              "      <td>5.0</td>\n",
              "      <td>2</td>\n",
              "      <td>0.0</td>\n",
              "      <td>2</td>\n",
              "      <td>2</td>\n",
              "      <td>0</td>\n",
              "      <td>2</td>\n",
              "      <td>0</td>\n",
              "      <td>2</td>\n",
              "      <td>2.0</td>\n",
              "      <td>0</td>\n",
              "    </tr>\n",
              "    <tr>\n",
              "      <th>716</th>\n",
              "      <td>55.57</td>\n",
              "      <td>2</td>\n",
              "      <td>0.00</td>\n",
              "      <td>2</td>\n",
              "      <td>0.0</td>\n",
              "      <td>2</td>\n",
              "      <td>0.00</td>\n",
              "      <td>5.0</td>\n",
              "      <td>2</td>\n",
              "      <td>0.0</td>\n",
              "      <td>2</td>\n",
              "      <td>6</td>\n",
              "      <td>0</td>\n",
              "      <td>2</td>\n",
              "      <td>0</td>\n",
              "      <td>2</td>\n",
              "      <td>2.4</td>\n",
              "      <td>1</td>\n",
              "    </tr>\n",
              "    <tr>\n",
              "      <th>742</th>\n",
              "      <td>55.57</td>\n",
              "      <td>15</td>\n",
              "      <td>0.00</td>\n",
              "      <td>2</td>\n",
              "      <td>0.0</td>\n",
              "      <td>2</td>\n",
              "      <td>0.00</td>\n",
              "      <td>5.0</td>\n",
              "      <td>2</td>\n",
              "      <td>0.0</td>\n",
              "      <td>2</td>\n",
              "      <td>2</td>\n",
              "      <td>0</td>\n",
              "      <td>2</td>\n",
              "      <td>0</td>\n",
              "      <td>2</td>\n",
              "      <td>2.0</td>\n",
              "      <td>0</td>\n",
              "    </tr>\n",
              "    <tr>\n",
              "      <th>761</th>\n",
              "      <td>55.57</td>\n",
              "      <td>12</td>\n",
              "      <td>0.00</td>\n",
              "      <td>2</td>\n",
              "      <td>0.0</td>\n",
              "      <td>2</td>\n",
              "      <td>0.00</td>\n",
              "      <td>5.0</td>\n",
              "      <td>2</td>\n",
              "      <td>0.0</td>\n",
              "      <td>2</td>\n",
              "      <td>2</td>\n",
              "      <td>0</td>\n",
              "      <td>2</td>\n",
              "      <td>0</td>\n",
              "      <td>2</td>\n",
              "      <td>2.0</td>\n",
              "      <td>0</td>\n",
              "    </tr>\n",
              "    <tr>\n",
              "      <th>771</th>\n",
              "      <td>55.57</td>\n",
              "      <td>9</td>\n",
              "      <td>0.49</td>\n",
              "      <td>2</td>\n",
              "      <td>0.4</td>\n",
              "      <td>2</td>\n",
              "      <td>0.89</td>\n",
              "      <td>5.0</td>\n",
              "      <td>2</td>\n",
              "      <td>0.0</td>\n",
              "      <td>2</td>\n",
              "      <td>2</td>\n",
              "      <td>0</td>\n",
              "      <td>2</td>\n",
              "      <td>0</td>\n",
              "      <td>2</td>\n",
              "      <td>2.0</td>\n",
              "      <td>0</td>\n",
              "    </tr>\n",
              "  </tbody>\n",
              "</table>\n",
              "</div>\n",
              "      <button class=\"colab-df-convert\" onclick=\"convertToInteractive('df-de2c1fdf-edb6-4839-90bb-4ed88371c4df')\"\n",
              "              title=\"Convert this dataframe to an interactive table.\"\n",
              "              style=\"display:none;\">\n",
              "        \n",
              "  <svg xmlns=\"http://www.w3.org/2000/svg\" height=\"24px\"viewBox=\"0 0 24 24\"\n",
              "       width=\"24px\">\n",
              "    <path d=\"M0 0h24v24H0V0z\" fill=\"none\"/>\n",
              "    <path d=\"M18.56 5.44l.94 2.06.94-2.06 2.06-.94-2.06-.94-.94-2.06-.94 2.06-2.06.94zm-11 1L8.5 8.5l.94-2.06 2.06-.94-2.06-.94L8.5 2.5l-.94 2.06-2.06.94zm10 10l.94 2.06.94-2.06 2.06-.94-2.06-.94-.94-2.06-.94 2.06-2.06.94z\"/><path d=\"M17.41 7.96l-1.37-1.37c-.4-.4-.92-.59-1.43-.59-.52 0-1.04.2-1.43.59L10.3 9.45l-7.72 7.72c-.78.78-.78 2.05 0 2.83L4 21.41c.39.39.9.59 1.41.59.51 0 1.02-.2 1.41-.59l7.78-7.78 2.81-2.81c.8-.78.8-2.07 0-2.86zM5.41 20L4 18.59l7.72-7.72 1.47 1.35L5.41 20z\"/>\n",
              "  </svg>\n",
              "      </button>\n",
              "      \n",
              "  <style>\n",
              "    .colab-df-container {\n",
              "      display:flex;\n",
              "      flex-wrap:wrap;\n",
              "      gap: 12px;\n",
              "    }\n",
              "\n",
              "    .colab-df-convert {\n",
              "      background-color: #E8F0FE;\n",
              "      border: none;\n",
              "      border-radius: 50%;\n",
              "      cursor: pointer;\n",
              "      display: none;\n",
              "      fill: #1967D2;\n",
              "      height: 32px;\n",
              "      padding: 0 0 0 0;\n",
              "      width: 32px;\n",
              "    }\n",
              "\n",
              "    .colab-df-convert:hover {\n",
              "      background-color: #E2EBFA;\n",
              "      box-shadow: 0px 1px 2px rgba(60, 64, 67, 0.3), 0px 1px 3px 1px rgba(60, 64, 67, 0.15);\n",
              "      fill: #174EA6;\n",
              "    }\n",
              "\n",
              "    [theme=dark] .colab-df-convert {\n",
              "      background-color: #3B4455;\n",
              "      fill: #D2E3FC;\n",
              "    }\n",
              "\n",
              "    [theme=dark] .colab-df-convert:hover {\n",
              "      background-color: #434B5C;\n",
              "      box-shadow: 0px 1px 3px 1px rgba(0, 0, 0, 0.15);\n",
              "      filter: drop-shadow(0px 1px 2px rgba(0, 0, 0, 0.3));\n",
              "      fill: #FFFFFF;\n",
              "    }\n",
              "  </style>\n",
              "\n",
              "      <script>\n",
              "        const buttonEl =\n",
              "          document.querySelector('#df-de2c1fdf-edb6-4839-90bb-4ed88371c4df button.colab-df-convert');\n",
              "        buttonEl.style.display =\n",
              "          google.colab.kernel.accessAllowed ? 'block' : 'none';\n",
              "\n",
              "        async function convertToInteractive(key) {\n",
              "          const element = document.querySelector('#df-de2c1fdf-edb6-4839-90bb-4ed88371c4df');\n",
              "          const dataTable =\n",
              "            await google.colab.kernel.invokeFunction('convertToInteractive',\n",
              "                                                     [key], {});\n",
              "          if (!dataTable) return;\n",
              "\n",
              "          const docLinkHtml = 'Like what you see? Visit the ' +\n",
              "            '<a target=\"_blank\" href=https://colab.research.google.com/notebooks/data_table.ipynb>data table notebook</a>'\n",
              "            + ' to learn more about interactive tables.';\n",
              "          element.innerHTML = '';\n",
              "          dataTable['output_type'] = 'display_data';\n",
              "          await google.colab.output.renderOutput(dataTable, element);\n",
              "          const docLink = document.createElement('div');\n",
              "          docLink.innerHTML = docLinkHtml;\n",
              "          element.appendChild(docLink);\n",
              "        }\n",
              "      </script>\n",
              "    </div>\n",
              "  </div>\n",
              "  "
            ]
          },
          "metadata": {},
          "execution_count": 213
        }
      ]
    },
    {
      "cell_type": "markdown",
      "source": [
        "**Remove Duplicate Rows** <br>\n",
        "While training a supervised learning algorithm, the usual assumptions are that:\n",
        "\n",
        "Data points are independent and identically distributed\n",
        "Training and testing data is sampled from the same distribution\n",
        "In light of these assumptions, we are removing duplicate records from both daframes."
      ],
      "metadata": {
        "id": "k-d7f-t6Agdi"
      }
    },
    {
      "cell_type": "code",
      "source": [
        "audit_risk=audit_risk.drop_duplicates()\n",
        "display(audit_risk.shape)\n",
        "trial=trial.drop_duplicates()\n",
        "display(trial.shape)"
      ],
      "metadata": {
        "id": "p-WhHL0_ph1Z",
        "colab": {
          "base_uri": "https://localhost:8080/",
          "height": 54
        },
        "outputId": "db78c5d6-154b-4a24-b2dd-622cffd760d3"
      },
      "execution_count": null,
      "outputs": [
        {
          "output_type": "display_data",
          "data": {
            "text/plain": [
              "(763, 27)"
            ]
          },
          "metadata": {}
        },
        {
          "output_type": "display_data",
          "data": {
            "text/plain": [
              "(763, 18)"
            ]
          },
          "metadata": {}
        }
      ]
    },
    {
      "cell_type": "markdown",
      "source": [
        "<b>Create Unique column to merge two dataframes.</b> <br><br>\n",
        "Here, We have tried a different combination of common columns of both data frames to create a unique column which gives 763 unique values so we can merge two data frames using that common column.<br>\n",
        "\n",
        "Finally after some trial and error combination of five columns i.e Money_Value,TOTAL,LOCATION_ID,Sector_score and Score gave us 763 unique values for both columns. so We have created one column each named Merge_audit and Merge_trial in Audit_Risk and Dataframe respectively."
      ],
      "metadata": {
        "id": "3DVuSck8BemJ"
      }
    },
    {
      "cell_type": "code",
      "source": [
        "audit_risk['Merge_audit']= audit_risk['Money_Value'].astype(str) + '-' + audit_risk['TOTAL'].astype(str) + '-' + audit_risk['LOCATION_ID'].astype(str) + '-' + audit_risk['Sector_score'].astype(str) + '-' + audit_risk['Score'].astype(str)\n",
        "audit_risk['Merge_audit'].nunique()"
      ],
      "metadata": {
        "id": "rk4zow3dphyr",
        "colab": {
          "base_uri": "https://localhost:8080/"
        },
        "outputId": "b3a73f14-8988-40e2-c555-a59dd07ad18a"
      },
      "execution_count": null,
      "outputs": [
        {
          "output_type": "execute_result",
          "data": {
            "text/plain": [
              "763"
            ]
          },
          "metadata": {},
          "execution_count": 216
        }
      ]
    },
    {
      "cell_type": "code",
      "source": [
        "trial['Merge_trial']= trial['Money_Value'].astype(str) + '-' + trial['TOTAL'].astype(str) + '-' + trial['LOCATION_ID'].astype(str) + '-' + trial['Sector_score'].astype(str) + '-' + trial['Score'].astype(str) \n",
        "trial['Merge_trial'].nunique()"
      ],
      "metadata": {
        "id": "c8v23-TnphwD",
        "colab": {
          "base_uri": "https://localhost:8080/"
        },
        "outputId": "ab234ff8-2fca-41b6-d9d3-4050f9daec2d"
      },
      "execution_count": null,
      "outputs": [
        {
          "output_type": "execute_result",
          "data": {
            "text/plain": [
              "763"
            ]
          },
          "metadata": {},
          "execution_count": 217
        }
      ]
    },
    {
      "cell_type": "markdown",
      "source": [
        "**Merging dataframes**"
      ],
      "metadata": {
        "id": "fZqsJpfuEHOm"
      }
    },
    {
      "cell_type": "code",
      "source": [
        "cols_to_use1 = trial.columns & audit_risk.columns\n",
        "cols_to_use1"
      ],
      "metadata": {
        "colab": {
          "base_uri": "https://localhost:8080/"
        },
        "id": "CgTGyH7kEDPW",
        "outputId": "7f0b9874-d75f-4b8b-92ac-fa297067a4ab"
      },
      "execution_count": null,
      "outputs": [
        {
          "output_type": "execute_result",
          "data": {
            "text/plain": [
              "Index(['Sector_score', 'LOCATION_ID', 'PARA_A', 'PARA_B', 'TOTAL', 'numbers',\n",
              "       'Money_Value', 'History', 'Score', 'Risk'],\n",
              "      dtype='object')"
            ]
          },
          "metadata": {},
          "execution_count": 218
        }
      ]
    },
    {
      "cell_type": "code",
      "source": [
        "trl_columns = trial.columns.difference(cols_to_use1)\n",
        "audit = pd.merge(audit_risk, trial[trl_columns], left_on='Merge_audit', right_on = 'Merge_trial', how='inner')\n",
        "audit.shape"
      ],
      "metadata": {
        "colab": {
          "base_uri": "https://localhost:8080/"
        },
        "id": "EGojCkMmEDLz",
        "outputId": "d56626ff-acc7-42de-d5b8-e799002e3c96"
      },
      "execution_count": null,
      "outputs": [
        {
          "output_type": "execute_result",
          "data": {
            "text/plain": [
              "(763, 37)"
            ]
          },
          "metadata": {},
          "execution_count": 219
        }
      ]
    },
    {
      "cell_type": "code",
      "source": [
        "audit.columns"
      ],
      "metadata": {
        "colab": {
          "base_uri": "https://localhost:8080/"
        },
        "id": "mJGM3bI0EDHi",
        "outputId": "0b93a6f6-6483-4f66-ea9c-4bec55b7f98a"
      },
      "execution_count": null,
      "outputs": [
        {
          "output_type": "execute_result",
          "data": {
            "text/plain": [
              "Index(['Sector_score', 'LOCATION_ID', 'PARA_A', 'Score_A', 'Risk_A', 'PARA_B',\n",
              "       'Score_B', 'Risk_B', 'TOTAL', 'numbers', 'Score_B.1', 'Risk_C',\n",
              "       'Money_Value', 'Score_MV', 'Risk_D', 'District_Loss', 'PROB', 'RiSk_E',\n",
              "       'History', 'Prob', 'Risk_F', 'Score', 'Inherent_Risk', 'CONTROL_RISK',\n",
              "       'Detection_Risk', 'Audit_Risk', 'Risk', 'Merge_audit', 'District',\n",
              "       'History_score', 'LOSS_SCORE', 'Loss', 'MONEY_Marks', 'Marks',\n",
              "       'Merge_trial', 'SCORE_A', 'SCORE_B'],\n",
              "      dtype='object')"
            ]
          },
          "metadata": {},
          "execution_count": 220
        }
      ]
    },
    {
      "cell_type": "markdown",
      "source": [
        "We have created Merge_audit and Merge_trial columns just to merge data frames and Detection_Risk has the same value across all observations.\n",
        "\n",
        "Hence, we are dropping Merge_Audit, Merge_trial, and Detection_Risk."
      ],
      "metadata": {
        "id": "yLyWl1fkEdmE"
      }
    },
    {
      "cell_type": "code",
      "source": [
        "audit = audit.drop(['Merge_audit','Merge_trial', 'Detection_Risk'], axis = 1)\n",
        "audit.shape"
      ],
      "metadata": {
        "colab": {
          "base_uri": "https://localhost:8080/"
        },
        "id": "d5eMtvrJEDEK",
        "outputId": "f2537bac-b43d-4efe-8561-400c956e3361"
      },
      "execution_count": null,
      "outputs": [
        {
          "output_type": "execute_result",
          "data": {
            "text/plain": [
              "(763, 34)"
            ]
          },
          "metadata": {},
          "execution_count": 221
        }
      ]
    },
    {
      "cell_type": "code",
      "source": [
        "audit =  audit.drop(['Risk_A','Risk_B','MONEY_Marks','Risk_C','Score_B.1','Risk_F','District','Prob','PROB','Risk_D','SCORE_A','SCORE_B'],axis=1)"
      ],
      "metadata": {
        "id": "juxZkeHpF5SR"
      },
      "execution_count": null,
      "outputs": []
    },
    {
      "cell_type": "code",
      "source": [
        "print(audit['LOCATION_ID'].unique())"
      ],
      "metadata": {
        "colab": {
          "base_uri": "https://localhost:8080/"
        },
        "id": "5JHbgr_4L-l3",
        "outputId": "4fb311bd-1dee-487b-d20a-2edc0cce7865"
      },
      "execution_count": null,
      "outputs": [
        {
          "output_type": "stream",
          "name": "stdout",
          "text": [
            "['23' '6' '7' '8' '13' '37' '24' '3' '4' '14' '5' '20' '19' '21' '22' '9'\n",
            " '11' '12' '29' '30' '38' '31' '2' '32' '16' '33' '15' '36' '34' '18' '25'\n",
            " '39' '27' '35' '40' '41' '42' '1' '28' 'LOHARU' 'NUH' 'SAFIDON' '43' '44'\n",
            " '17']\n"
          ]
        }
      ]
    },
    {
      "cell_type": "markdown",
      "source": [
        "We can see there are three LOCATION_IDs to those numeric values are not assigned so we are assigning three missing numeric values 10,26 and 45 to those LOCATION_IDs."
      ],
      "metadata": {
        "id": "CEPMawAUMD9j"
      }
    },
    {
      "cell_type": "code",
      "source": [
        "audit['LOCATION_ID']=audit['LOCATION_ID'].replace('LOHARU',10)\n",
        "audit['LOCATION_ID']=audit['LOCATION_ID'].replace('NUH',26)\n",
        "audit['LOCATION_ID']=audit['LOCATION_ID'].replace('SAFIDON',45)\n",
        "\n",
        "audit['LOCATION_ID']=(audit['LOCATION_ID']).astype(float)"
      ],
      "metadata": {
        "id": "UKXFuOpQMA0R"
      },
      "execution_count": null,
      "outputs": []
    },
    {
      "cell_type": "markdown",
      "source": [
        "**Checking Outliers**"
      ],
      "metadata": {
        "id": "5J7U9A91G18O"
      }
    },
    {
      "cell_type": "markdown",
      "source": [
        "Now, we are looking at the overall distribution of the dataset to get a glimpse of skewness of the data across all columns. we can see there are a significant amount of outliers for columns PARA_B, Money_Value and Inherent_Risk."
      ],
      "metadata": {
        "id": "5U75-8dHGttq"
      }
    },
    {
      "cell_type": "code",
      "source": [
        "import seaborn as sns\n",
        "plt.figure(figsize=(18,5))\n",
        "\n",
        "sns.set(style=\"whitegrid\")\n",
        "ax = sns.boxplot(data=audit, orient=\"v\", palette=\"Set2\")\n",
        "plt.xticks(rotation=60, ha=\"right\")"
      ],
      "metadata": {
        "colab": {
          "base_uri": "https://localhost:8080/",
          "height": 427
        },
        "id": "fKlYcomwGejr",
        "outputId": "9e2df177-e350-4a60-d336-eea89dd4e052"
      },
      "execution_count": null,
      "outputs": [
        {
          "output_type": "execute_result",
          "data": {
            "text/plain": [
              "(array([ 0,  1,  2,  3,  4,  5,  6,  7,  8,  9, 10, 11, 12, 13, 14, 15, 16,\n",
              "        17, 18, 19, 20, 21]), <a list of 22 Text major ticklabel objects>)"
            ]
          },
          "metadata": {},
          "execution_count": 225
        },
        {
          "output_type": "display_data",
          "data": {
            "text/plain": [
              "<Figure size 1296x360 with 1 Axes>"
            ],
            "image/png": "[encoded data removed]"
          },
          "metadata": {
            "needs_background": "light"
          }
        }
      ]
    },
    {
      "cell_type": "markdown",
      "source": [
        "Now, we are plotting to scatter plot for above-mentioned columns with respect to our target variable Audit_Risk. we can clearly see that there are outliers for those columns. So now we are plotting to scatter plot between these features with respect to our target variable Audit_Risk and we can confirm that there are outliers for those columns."
      ],
      "metadata": {
        "id": "855r0j4AHUba"
      }
    },
    {
      "cell_type": "code",
      "source": [
        "plt.figure(figsize=(14,5))\n",
        "\n",
        "plt.subplot(1,2,1)\n",
        "plt.scatter(audit['Money_Value'], audit['Audit_Risk'])\n",
        "plt.ylabel('Audit_Risk')\n",
        "plt.xlabel('Money_Value')\n",
        "\n",
        "plt.subplot(1,2,2)\n",
        "plt.scatter(audit['Inherent_Risk'], audit['Audit_Risk'])\n",
        "plt.ylabel('Audit_Risk')\n",
        "plt.xlabel('Inherent_Risk')\n",
        "plt.show()\n",
        "\n",
        "plt.figure(figsize=(14,5))\n",
        "\n",
        "plt.subplot(1,2,1)\n",
        "plt.scatter(audit['PARA_A'], audit['Audit_Risk'])\n",
        "plt.ylabel('Audit_Risk')\n",
        "plt.xlabel('PARA_A')\n",
        "\n",
        "plt.subplot(1,2,2)\n",
        "plt.scatter(audit['PARA_B'], audit['Audit_Risk'])\n",
        "plt.ylabel('Audit_Risk')\n",
        "plt.xlabel('PARA_B')\n",
        "\n",
        "plt.show()\n",
        "\n",
        "plt.figure(figsize=(14,5))\n",
        "\n",
        "plt.subplot(1,2,1)\n",
        "plt.scatter(audit['Score_A'], audit['Audit_Risk'])\n",
        "plt.ylabel('Audit_Risk')\n",
        "plt.xlabel('Score_A')\n",
        "\n",
        "plt.subplot(1,2,2)\n",
        "plt.scatter(audit['Score_B'], audit['Audit_Risk'])\n",
        "plt.ylabel('Audit_Risk')\n",
        "plt.xlabel('Score_B')\n",
        "\n",
        "plt.show()"
      ],
      "metadata": {
        "colab": {
          "base_uri": "https://localhost:8080/",
          "height": 988
        },
        "id": "gxMxWm7lGegR",
        "outputId": "c2624c9e-a95f-42b4-f1d8-9117fa41b602"
      },
      "execution_count": null,
      "outputs": [
        {
          "output_type": "display_data",
          "data": {
            "text/plain": [
              "<Figure size 1008x360 with 2 Axes>"
            ],
            "image/png": "[encoded data removed]"
          },
          "metadata": {}
        },
        {
          "output_type": "display_data",
          "data": {
            "text/plain": [
              "<Figure size 1008x360 with 2 Axes>"
            ],
            "image/png": "[encoded data removed]"
          },
          "metadata": {}
        },
        {
          "output_type": "display_data",
          "data": {
            "text/plain": [
              "<Figure size 1008x360 with 2 Axes>"
            ],
            "image/png": "[encoded data removed]"
          },
          "metadata": {}
        }
      ]
    },
    {
      "cell_type": "markdown",
      "source": [
        "**Remove Outliers** <br>\n",
        "First, we tried to impute outliers with a median value of that particular feature but because of highly skewed nature of the data, the model was not fitting properly to data so we have decided to remove the outlier with an intent that we remove as less data as possible with high accuracy of the models.\n",
        "\n",
        "So, we tried a different range of outliers and finalized range in such a way that we get rid of around 5 to 6 outliers which we have seen above. We have plotted the above scatter plot again and we confirmed that we were able to remove all those outliers."
      ],
      "metadata": {
        "id": "0aC70VTpHjGV"
      }
    },
    {
      "cell_type": "code",
      "source": [
        "Q1 = audit.quantile(0.25)\n",
        "Q3 = audit.quantile(0.75)\n",
        "\n",
        "IQR = Q3 - Q1"
      ],
      "metadata": {
        "id": "NqOZXemOGed2"
      },
      "execution_count": null,
      "outputs": []
    },
    {
      "cell_type": "code",
      "source": [
        "mask = ((audit[['PARA_A', 'Score_A', 'PARA_B', 'Score_B','Inherent_Risk','Money_Value']] < (Q1 - 30 * IQR)) \n",
        "        | (audit[['PARA_A', 'Score_A', 'PARA_B', 'Score_B','Inherent_Risk','Money_Value']] > (Q3 + 30 * IQR)))\n",
        "\n",
        "audit[mask]= np.NaN\n"
      ],
      "metadata": {
        "id": "4RVsfPQuGebN"
      },
      "execution_count": null,
      "outputs": []
    },
    {
      "cell_type": "code",
      "source": [
        "audit.isnull().sum()"
      ],
      "metadata": {
        "colab": {
          "base_uri": "https://localhost:8080/"
        },
        "id": "3C82lkIrGeYf",
        "outputId": "f1cb87f7-e2e6-4fdb-8144-d3befd7c14cc"
      },
      "execution_count": null,
      "outputs": [
        {
          "output_type": "execute_result",
          "data": {
            "text/plain": [
              "Sector_score     0\n",
              "LOCATION_ID      0\n",
              "PARA_A           2\n",
              "Score_A          0\n",
              "PARA_B           3\n",
              "Score_B          0\n",
              "TOTAL            0\n",
              "numbers          0\n",
              "Money_Value      9\n",
              "Score_MV         0\n",
              "District_Loss    0\n",
              "RiSk_E           0\n",
              "History          0\n",
              "Score            0\n",
              "Inherent_Risk    5\n",
              "CONTROL_RISK     0\n",
              "Audit_Risk       0\n",
              "Risk             0\n",
              "History_score    0\n",
              "LOSS_SCORE       0\n",
              "Loss             0\n",
              "Marks            0\n",
              "dtype: int64"
            ]
          },
          "metadata": {},
          "execution_count": 229
        }
      ]
    },
    {
      "cell_type": "code",
      "source": [
        "audit = audit.dropna()"
      ],
      "metadata": {
        "id": "HpAT1yvEGeVx"
      },
      "execution_count": null,
      "outputs": []
    },
    {
      "cell_type": "code",
      "source": [
        "plt.figure(figsize=(14,5))\n",
        "\n",
        "plt.subplot(1,2,1)\n",
        "plt.scatter(audit['Money_Value'], audit['Audit_Risk'])\n",
        "plt.ylabel('Audit_Risk')\n",
        "plt.xlabel('Money_Value')\n",
        "\n",
        "plt.subplot(1,2,2)\n",
        "plt.scatter(audit['Inherent_Risk'], audit['Audit_Risk'])\n",
        "plt.ylabel('Audit_Risk')\n",
        "plt.xlabel('Inherent_Risk')\n",
        "plt.show()\n",
        "\n",
        "plt.figure(figsize=(14,5))\n",
        "\n",
        "plt.subplot(1,2,1)\n",
        "plt.scatter(audit['PARA_A'], audit['Audit_Risk'])\n",
        "plt.ylabel('Audit_Risk')\n",
        "plt.xlabel('PARA_A')\n",
        "\n",
        "plt.subplot(1,2,2)\n",
        "plt.scatter(audit['PARA_B'], audit['Audit_Risk'])\n",
        "plt.ylabel('Audit_Risk')\n",
        "plt.xlabel('PARA_B')\n",
        "\n",
        "plt.show()\n",
        "\n",
        "plt.figure(figsize=(14,5))\n",
        "\n",
        "plt.subplot(1,2,1)\n",
        "plt.scatter(audit['Score_A'], audit['Audit_Risk'])\n",
        "plt.ylabel('Audit_Risk')\n",
        "plt.xlabel('Score_A')\n",
        "\n",
        "plt.subplot(1,2,2)\n",
        "plt.scatter(audit['Score_B'], audit['Audit_Risk'])\n",
        "plt.ylabel('Audit_Risk')\n",
        "plt.xlabel('Score_B')\n",
        "\n",
        "plt.show()\n"
      ],
      "metadata": {
        "colab": {
          "base_uri": "https://localhost:8080/",
          "height": 983
        },
        "id": "ETSL3zMGIBWa",
        "outputId": "c4c4d9d1-6879-41b5-edca-951b7ee8b5ca"
      },
      "execution_count": null,
      "outputs": [
        {
          "output_type": "display_data",
          "data": {
            "text/plain": [
              "<Figure size 1008x360 with 2 Axes>"
            ],
            "image/png": "[encoded data removed]"
          },
          "metadata": {}
        },
        {
          "output_type": "display_data",
          "data": {
            "text/plain": [
              "<Figure size 1008x360 with 2 Axes>"
            ],
            "image/png": "[encoded data removed]"
          },
          "metadata": {}
        },
        {
          "output_type": "display_data",
          "data": {
            "text/plain": [
              "<Figure size 1008x360 with 2 Axes>"
            ],
            "image/png": "[encoded data removed]"
          },
          "metadata": {}
        }
      ]
    },
    {
      "cell_type": "code",
      "source": [
        "audit.shape"
      ],
      "metadata": {
        "colab": {
          "base_uri": "https://localhost:8080/"
        },
        "id": "IOTdEb9vIBS2",
        "outputId": "889e2b05-3b46-4a76-f688-7c9c1c391694"
      },
      "execution_count": null,
      "outputs": [
        {
          "output_type": "execute_result",
          "data": {
            "text/plain": [
              "(750, 22)"
            ]
          },
          "metadata": {},
          "execution_count": 232
        }
      ]
    },
    {
      "cell_type": "markdown",
      "source": [
        "### **Regression Task:**"
      ],
      "metadata": {
        "id": "jPNxI_0ICtru"
      }
    },
    {
      "cell_type": "markdown",
      "source": [
        "In this section, we will find the best regressor that can be used to predict the variable - 'Audit_Risk' based on the various features present in the dataset."
      ],
      "metadata": {
        "id": "-NUzG1EJCzft"
      }
    },
    {
      "cell_type": "markdown",
      "source": [
        "<b><font color = \"red\"> KNN Regression"
      ],
      "metadata": {
        "id": "YfY0BlHzC_Tt"
      }
    },
    {
      "cell_type": "code",
      "source": [
        "y = audit['Audit_Risk']\n",
        "\n",
        "X = audit.drop(['Audit_Risk','Risk'],axis = 1)"
      ],
      "metadata": {
        "id": "WboNZOLrB9GZ"
      },
      "execution_count": null,
      "outputs": []
    },
    {
      "cell_type": "code",
      "source": [
        "X.shape"
      ],
      "metadata": {
        "colab": {
          "base_uri": "https://localhost:8080/"
        },
        "id": "M64FcBXGB9C-",
        "outputId": "da794e80-cd33-4c8a-bac6-79f1e7fe77e5"
      },
      "execution_count": null,
      "outputs": [
        {
          "output_type": "execute_result",
          "data": {
            "text/plain": [
              "(750, 20)"
            ]
          },
          "metadata": {},
          "execution_count": 234
        }
      ]
    },
    {
      "cell_type": "markdown",
      "source": [
        "From the shape function on X, we know that the dataframe has **750 data points** and **20 features** that can be used to predict 'Audit_risk' stored in y. <br>\n",
        "\n",
        "The different regressors that can be used for this task are:<br>\n",
        "\n",
        "KNN Regressor<br>\n",
        "Linear Regression<br>\n",
        "Polynomial Regression<br>\n",
        "Ridge Regression<br>\n",
        "Lasso Regression<br>\n",
        "Support Vector Machine - Linear SVR<br>\n",
        "Support Vector Machine with Kernel trick – Linear, Rbf, Poly<br><br>\n",
        "But before we start applying these regressors, we split the dataset into train+validation and testing set.<br> To avoid the danger of overfitting the parameters, we further split the train+validation set to train and validation set i.e. a three-fold split is performed on the entire dataset.\n",
        "\n",
        "Thus, we fit the above models using train and validation set and after finding the best regressor, we check for the accuracy of the best regressor using testing set."
      ],
      "metadata": {
        "id": "TWjwjhpFKrXt"
      }
    },
    {
      "cell_type": "code",
      "source": [
        "from sklearn.preprocessing import MinMaxScaler\n",
        "from sklearn.model_selection import train_test_split\n",
        "\n",
        "# split dataset into train+validation and test sets\n",
        "X_trainval_org, X_test_org, y_trainval, y_test = train_test_split(X,y, random_state = 3)\n",
        "\n",
        "# split train+validation set into training and validation sets\n",
        "X_train_org, X_valid_org, y_train, y_valid = train_test_split(X_trainval_org, y_trainval, random_state=2)\n",
        "\n",
        "scaler = MinMaxScaler()\n",
        "\n",
        "X_train = scaler.fit_transform(X_train_org)\n",
        "X_valid = scaler.transform(X_valid_org)\n",
        "X_trainval = scaler.fit_transform(X_trainval_org)\n",
        "X_test = scaler.transform(X_test_org)\n",
        "\n",
        "print(\"Size of training set: {}   size of validation set: {}   size of test set:\"\n",
        "      \" {}\\n\".format(X_train.shape[0], X_valid.shape[0], X_test.shape[0]))"
      ],
      "metadata": {
        "colab": {
          "base_uri": "https://localhost:8080/"
        },
        "id": "m4h6yrf9B9AP",
        "outputId": "8ed14ea6-17b5-4171-bc92-6f49c9bbf98c"
      },
      "execution_count": null,
      "outputs": [
        {
          "output_type": "stream",
          "name": "stdout",
          "text": [
            "Size of training set: 421   size of validation set: 141   size of test set: 188\n",
            "\n"
          ]
        }
      ]
    },
    {
      "cell_type": "markdown",
      "source": [
        "Let us fit model - KNN Regressor using train and validation set and find the best parameter - 'K' using naive grid search."
      ],
      "metadata": {
        "id": "-Hqik3zVNJ7I"
      }
    },
    {
      "cell_type": "markdown",
      "source": [
        "To predict a new record, this method relies on finding “similar” records in the training data. These “neighbors” are then used to derive a prediction for the new record by averaging the outcome value of the K-nearest neighbors."
      ],
      "metadata": {
        "id": "pWpa2wU9Nh5S"
      }
    },
    {
      "cell_type": "code",
      "source": [
        "from sklearn.neighbors import KNeighborsRegressor\n",
        "\n",
        "train_score_array = []\n",
        "valid_score_array = []\n",
        "\n",
        "best_score = 0\n",
        "\n",
        "for k in range(1,10):\n",
        "    knn_reg = KNeighborsRegressor(k)\n",
        "    knn_reg.fit(X_train, y_train)\n",
        "    train_score_array.append(knn_reg.score(X_train, y_train))\n",
        "    score = knn_reg.score(X_valid, y_valid)\n",
        "    valid_score_array.append(score)\n",
        "    if score > best_score:\n",
        "            best_score = score\n",
        "            best_parameters = {'K': k}\n",
        "            best_K = k\n",
        "\n",
        "%matplotlib inline\n",
        "x_axis = range(1,10)\n",
        "plt.plot(x_axis, train_score_array, c = 'g', label = 'Train Score')\n",
        "plt.plot(x_axis, valid_score_array, c = 'b', label = 'Validation Score')\n",
        "plt.legend()\n",
        "plt.xlabel('k')\n",
        "plt.ylabel('MSE')\n",
        "\n",
        "print(\"Best parameters: {}\".format(best_parameters))\n",
        "print(\"Best score: {:.2f}\".format(best_score))"
      ],
      "metadata": {
        "colab": {
          "base_uri": "https://localhost:8080/",
          "height": 322
        },
        "id": "LTZBx9KrB89n",
        "outputId": "f049c289-6f21-4745-8b7a-1c7c78dcf29c"
      },
      "execution_count": null,
      "outputs": [
        {
          "output_type": "stream",
          "name": "stdout",
          "text": [
            "Best parameters: {'K': 2}\n",
            "Best score: 0.60\n"
          ]
        },
        {
          "output_type": "display_data",
          "data": {
            "text/plain": [
              "<Figure size 432x288 with 1 Axes>"
            ],
            "image/png": "[encoded data removed]"
          },
          "metadata": {
            "needs_background": "light"
          }
        }
      ]
    },
    {
      "cell_type": "markdown",
      "source": [
        "The best parameter value of K for this model is 2 which gives an score of 0.60 on the validation dataset.\n",
        "\n",
        "We review this parameter using cross validation. In cross validation, the dataset is split into K \"folds\" of equal size. Each fold acts as the testing set 1 time, and acts as the training set K-1 times. Average testing performance is used as the estimate of the performance.\n",
        "\n",
        "Usually the k-folds is set as 10."
      ],
      "metadata": {
        "id": "typrvTA-N1yI"
      }
    },
    {
      "cell_type": "code",
      "source": [
        "from sklearn.model_selection import cross_val_score\n",
        "from sklearn.metrics import r2_score\n",
        "\n",
        "knn_grid = KNeighborsRegressor(best_K)\n",
        "scores = cross_val_score(knn_grid, X_trainval, y_trainval, cv =10, scoring = 'r2')\n",
        "print(\"Cross-validation scores: {}\".format(scores))\n",
        "\n",
        "print(\"Average cross-validation score: {:.2f}\".format(scores.mean()))"
      ],
      "metadata": {
        "colab": {
          "base_uri": "https://localhost:8080/"
        },
        "id": "qxIQ1azYB86n",
        "outputId": "21629f1b-57a9-4440-db45-bf8e3fe82483"
      },
      "execution_count": null,
      "outputs": [
        {
          "output_type": "stream",
          "name": "stdout",
          "text": [
            "Cross-validation scores: [0.7333595  0.17760051 0.98480327 0.50035099 0.7392074  0.7063042\n",
            " 0.38874504 0.63609985 0.58909295 0.76711008]\n",
            "Average cross-validation score: 0.62\n"
          ]
        }
      ]
    },
    {
      "cell_type": "markdown",
      "source": [
        "The average cross-validation score for the parameter K = 2 is 0.62\n",
        "\n",
        "Let us find the best parameter for this model using GridSearchCV: GridSearchCV allows to define a grid of parameters that will be searched using K-fold cross-validation."
      ],
      "metadata": {
        "id": "IrK_7lIiOCrP"
      }
    },
    {
      "cell_type": "code",
      "source": [
        "from sklearn.model_selection import GridSearchCV\n",
        "\n",
        "k_range = list(range(1, 11))\n",
        "param_grid = dict(n_neighbors=k_range)\n",
        "\n",
        "grid_search = GridSearchCV(KNeighborsRegressor(), param_grid, cv=10, return_train_score=True)\n",
        "\n",
        "# rebuild a model on the combined training and validation set\n",
        "grid_search.fit(X_trainval, y_trainval)\n",
        "\n",
        "df = pd.DataFrame(grid_search.cv_results_)\n",
        "%matplotlib inline\n",
        "x_axis = range(1,11)\n",
        "plt.plot(x_axis, df.mean_train_score, c = 'g', label = 'Train Score')\n",
        "plt.plot(x_axis, df.mean_test_score, c = 'b', label = 'Validation Score')\n",
        "plt.legend()\n",
        "plt.xlabel('k')\n",
        "plt.ylabel('MSE')\n",
        "\n",
        "print(\"Best parameters: {}\".format(grid_search.best_params_))\n",
        "print(\"Average cross-validation score: {:.2f}\".format(grid_search.best_score_))"
      ],
      "metadata": {
        "colab": {
          "base_uri": "https://localhost:8080/",
          "height": 322
        },
        "id": "YsjDisokN8YJ",
        "outputId": "a24fa0aa-df87-4679-b0be-44aa14c38b58"
      },
      "execution_count": null,
      "outputs": [
        {
          "output_type": "stream",
          "name": "stdout",
          "text": [
            "Best parameters: {'n_neighbors': 6}\n",
            "Average cross-validation score: 0.70\n"
          ]
        },
        {
          "output_type": "display_data",
          "data": {
            "text/plain": [
              "<Figure size 432x288 with 1 Axes>"
            ],
            "image/png": "[encoded data removed]"
          },
          "metadata": {
            "needs_background": "light"
          }
        }
      ]
    },
    {
      "cell_type": "markdown",
      "source": [
        "The best parameter for this model using GridSearchCV is 6. Eventhough we found the best parameter as K = 2 using the naive grid search, but with parameter K = 6, the average cross validation is 0.70 which is better than the average cross validation of the naive grid search.\n",
        "\n",
        "GrisSearchCV gives a better score for KNN regressor compared to naive grid search.\n",
        "\n",
        "Thus, we will choose the best parameter for KNN regressor as K = 6 because the model might run into overfitting issue for parameter K = 2.\n"
      ],
      "metadata": {
        "id": "GPLhbmkLOP2f"
      }
    },
    {
      "cell_type": "code",
      "source": [
        "Regression_Scores={}\n",
        "\n",
        "Regression_Scores.update({'KNN Regressor':grid_search.best_score_})"
      ],
      "metadata": {
        "id": "fXG7z88VN8Uw"
      },
      "execution_count": null,
      "outputs": []
    },
    {
      "cell_type": "code",
      "source": [
        "columns = ['Regressor','Average Cross Validation Score', 'Best Parameters']\n",
        "reg_model_para = pd.DataFrame(columns=columns)\n",
        "\n",
        "reg_model_para = reg_model_para.append({'Regressor':'KNN Regressor',\n",
        "                       'Average Cross Validation Score':grid_search.best_score_,\n",
        "                       'Best Parameters':grid_search.best_params_},ignore_index=True)"
      ],
      "metadata": {
        "id": "It1a1CMaB84L"
      },
      "execution_count": null,
      "outputs": []
    },
    {
      "cell_type": "markdown",
      "source": [
        "<b><font color=red>**Linear Regression**"
      ],
      "metadata": {
        "id": "f2G9eWUaQaEm"
      }
    },
    {
      "cell_type": "markdown",
      "source": [
        "The most popular model for making predictions is the Linear regression model. This model is used to fit a linear relationship between a numerical outcome variable Y and a set of predictors - X1;X2; : : : ;Xp.\n",
        "\n",
        "This model does not have any parameters so we directly fit the regression model on the train_validation dataset."
      ],
      "metadata": {
        "id": "W-UjVmHZmBRZ"
      }
    },
    {
      "cell_type": "code",
      "source": [
        "from sklearn.linear_model import LinearRegression\n",
        "\n",
        "lreg = LinearRegression()\n",
        "lreg.fit(X_train, y_train)\n",
        "print(\"Train Score: {:.4f}\".format(lreg.score(X_trainval, y_trainval)))"
      ],
      "metadata": {
        "colab": {
          "base_uri": "https://localhost:8080/"
        },
        "id": "6eeRKe3ImLMS",
        "outputId": "c714424e-7441-4316-a7ba-63b1b2526d39"
      },
      "execution_count": null,
      "outputs": [
        {
          "output_type": "stream",
          "name": "stdout",
          "text": [
            "Train Score: 0.0699\n"
          ]
        }
      ]
    },
    {
      "cell_type": "markdown",
      "source": [
        "As we had seen in the Feature Distribution section, the relationship between a few predictors and the outcome variable was non-linear. Because of this non-linear relationship between the target variable and the predictors, Linear Regression would not be an apt model for prediction of this dataset.\n",
        "\n",
        "However, let us check the average cross validation for this model:"
      ],
      "metadata": {
        "id": "09dWCvnmov7b"
      }
    },
    {
      "cell_type": "code",
      "source": [
        "from sklearn.model_selection import KFold\n",
        "kfold = KFold(n_splits=10)\n",
        "lreg_cv = LinearRegression()\n",
        "scores = cross_val_score(lreg_cv, X_trainval, y_trainval, cv = kfold)\n",
        "print(\"Cross-validation scores: {}\".format(scores))\n",
        "\n",
        "print(\"Average cross-validation score: {:.2f}\".format(scores.mean()))\n",
        "\n",
        "Regression_Scores.update({'Linear Regression': scores.mean()})"
      ],
      "metadata": {
        "id": "bqStzxFGoxQU",
        "outputId": "0885e9fe-aacf-41eb-9681-981fe50596bb",
        "colab": {
          "base_uri": "https://localhost:8080/"
        }
      },
      "execution_count": null,
      "outputs": [
        {
          "output_type": "stream",
          "name": "stdout",
          "text": [
            "Cross-validation scores: [0.88064379 0.75084371 0.43828982 0.80819194 0.83447771 0.64373207\n",
            " 0.701815   0.79445356 0.79211413 0.49944364]\n",
            "Average cross-validation score: 0.71\n"
          ]
        }
      ]
    },
    {
      "cell_type": "markdown",
      "source": [
        "Cross-validation scores: [0.88064379 0.75084371 0.43828982 0.80819194 0.83447771 0.64373207\n",
        " 0.701815   0.79445356 0.79211413 0.49944364] <br>\n",
        "Average cross-validation score: 0.71 <br><br>\n",
        "The average cross validation score for this model is 0.71 which is better than the results we got by running KNN Regressor. However, it might not be the best regressor model because of the non-linear relationship between the target variable and the predictors.\n",
        "\n",
        "Also, as there are no parameters in Linear regression, Grid Search is not required.\n",
        "\n"
      ],
      "metadata": {
        "id": "vz45G7NDo0dQ"
      }
    },
    {
      "cell_type": "code",
      "source": [
        "reg_model_para = reg_model_para.append({'Regressor':'Linear Regression',\n",
        "                       'Average Cross Validation Score':scores.mean(),\n",
        "                       'Best Parameters': ' '},ignore_index=True)"
      ],
      "metadata": {
        "id": "cw8-DTJbo8y1"
      },
      "execution_count": null,
      "outputs": []
    },
    {
      "cell_type": "markdown",
      "source": [
        "<b><font color=red> **Polynomial Regression**"
      ],
      "metadata": {
        "id": "UVXUwTzERVc8"
      }
    },
    {
      "cell_type": "code",
      "source": [
        "from  sklearn.preprocessing  import PolynomialFeatures\n",
        "\n",
        "train_score_list = []\n",
        "valid_score_list = []\n",
        "\n",
        "best_score = 0\n",
        "\n",
        "for n in range(1,5):\n",
        "    poly = PolynomialFeatures(n)\n",
        "    X_train_poly = poly.fit_transform(X_train)\n",
        "    X_valid_poly = poly.transform(X_valid)\n",
        "    lreg.fit(X_train_poly, y_train)\n",
        "    train_score_list.append(lreg.score(X_train_poly, y_train))\n",
        "    score = lreg.score(X_valid_poly, y_valid)\n",
        "    valid_score_list.append(score)\n",
        "    if score > best_score:\n",
        "            best_score = score\n",
        "            best_parameters = {'N': n}\n",
        "            best_N = n\n",
        "\n",
        "%matplotlib inline\n",
        "\n",
        "x_axis = range(1,5)\n",
        "plt.plot(x_axis, train_score_list, c = 'g', label = 'Train Score')\n",
        "plt.plot(x_axis, valid_score_list, c = 'b', label = 'Validation Score')\n",
        "plt.xlabel('degree')\n",
        "plt.ylabel('accuracy')\n",
        "plt.legend()\n",
        "\n",
        "print(\"Best parameters: {}\".format(best_parameters))\n",
        "print(\"Best score: {:.2f}\".format(best_score))\n"
      ],
      "metadata": {
        "id": "s3xDC_GnSQOg",
        "colab": {
          "base_uri": "https://localhost:8080/",
          "height": 322
        },
        "outputId": "23672f75-8c08-4b73-ef0a-1f4613112a0f"
      },
      "execution_count": null,
      "outputs": [
        {
          "output_type": "stream",
          "name": "stdout",
          "text": [
            "Best parameters: {'N': 2}\n",
            "Best score: 0.98\n"
          ]
        },
        {
          "output_type": "display_data",
          "data": {
            "text/plain": [
              "<Figure size 432x288 with 1 Axes>"
            ],
            "image/png": "[encoded data removed]"
          },
          "metadata": {
            "needs_background": "light"
          }
        }
      ]
    },
    {
      "cell_type": "code",
      "source": [
        "poly_grid = PolynomialFeatures(best_N)\n",
        "\n",
        "X_trainval_poly = poly_grid.fit_transform(X_trainval)\n",
        "\n",
        "scores = cross_val_score(LinearRegression(), X_trainval_poly, y_trainval, cv = kfold, scoring = 'r2')\n",
        "print(\"Cross-validation scores: {}\".format(scores))\n",
        "\n",
        "print(\"Average cross-validation score: {:.2f}\".format(scores.mean()))\n"
      ],
      "metadata": {
        "id": "Ms_DPZWGaVDZ",
        "colab": {
          "base_uri": "https://localhost:8080/"
        },
        "outputId": "de74fd3c-0b47-4329-929b-b345c07187ce"
      },
      "execution_count": null,
      "outputs": [
        {
          "output_type": "stream",
          "name": "stdout",
          "text": [
            "Cross-validation scores: [0.99999997 0.99904406 0.99997365 0.98830637 0.99901648 0.93302009\n",
            " 0.95103198 1.         0.93313198 0.95879597]\n",
            "Average cross-validation score: 0.98\n"
          ]
        }
      ]
    },
    {
      "cell_type": "code",
      "source": [
        "from sklearn.pipeline import make_pipeline\n",
        "\n",
        "def PolynomialRegression(degree=2, **kwargs):\n",
        "    return make_pipeline(PolynomialFeatures(degree), LinearRegression(**kwargs))\n",
        "\n",
        "param_grid = {'polynomialfeatures__degree': np.arange(5)}\n",
        "\n",
        "grid_search = GridSearchCV(PolynomialRegression(), param_grid, cv=5, return_train_score=True)\n",
        "\n",
        "grid_search.fit(X_trainval, y_trainval)\n",
        "\n",
        "df = pd.DataFrame(grid_search.cv_results_)\n",
        "%matplotlib inline\n",
        "x_axis = range(1,6)\n",
        "plt.plot(x_axis, df.mean_train_score, c = 'g', label = 'Train Score')\n",
        "plt.plot(x_axis, df.mean_test_score, c = 'b', label = 'Validation Score')\n",
        "plt.legend()\n",
        "plt.xlabel('degree')\n",
        "plt.ylabel('MSE')\n",
        "\n",
        "print(\"Best cross-validation score: {:.2f}\".format(grid_search.best_score_))"
      ],
      "metadata": {
        "id": "LFTVbgL3dA6S",
        "colab": {
          "base_uri": "https://localhost:8080/",
          "height": 1000
        },
        "outputId": "23a28f3a-432e-4f30-83ad-69248f704866"
      },
      "execution_count": null,
      "outputs": [
        {
          "output_type": "stream",
          "name": "stderr",
          "text": [
            "/usr/local/lib/python3.7/dist-packages/sklearn/model_selection/_validation.py:372: FitFailedWarning: \n",
            "5 fits failed out of a total of 25.\n",
            "The score on these train-test partitions for these parameters will be set to nan.\n",
            "If these failures are not expected, you can try to debug them by setting error_score='raise'.\n",
            "\n",
            "Below are more details about the failures:\n",
            "--------------------------------------------------------------------------------\n",
            "2 fits failed with the following error:\n",
            "Traceback (most recent call last):\n",
            "  File \"/usr/local/lib/python3.7/dist-packages/sklearn/model_selection/_validation.py\", line 680, in _fit_and_score\n",
            "    estimator.fit(X_train, y_train, **fit_params)\n",
            "  File \"/usr/local/lib/python3.7/dist-packages/sklearn/pipeline.py\", line 390, in fit\n",
            "    Xt = self._fit(X, y, **fit_params_steps)\n",
            "  File \"/usr/local/lib/python3.7/dist-packages/sklearn/pipeline.py\", line 355, in _fit\n",
            "    **fit_params_steps[name],\n",
            "  File \"/usr/local/lib/python3.7/dist-packages/joblib/memory.py\", line 349, in __call__\n",
            "    return self.func(*args, **kwargs)\n",
            "  File \"/usr/local/lib/python3.7/dist-packages/sklearn/pipeline.py\", line 893, in _fit_transform_one\n",
            "    res = transformer.fit_transform(X, y, **fit_params)\n",
            "  File \"/usr/local/lib/python3.7/dist-packages/sklearn/base.py\", line 855, in fit_transform\n",
            "    return self.fit(X, y, **fit_params).transform(X)\n",
            "  File \"/usr/local/lib/python3.7/dist-packages/sklearn/preprocessing/_polynomial.py\", line 446, in transform\n",
            "    XP[:, current_col : current_col + n_features] = X\n",
            "ValueError: could not broadcast input array from shape (449,20) into shape (449,0)\n",
            "\n",
            "--------------------------------------------------------------------------------\n",
            "3 fits failed with the following error:\n",
            "Traceback (most recent call last):\n",
            "  File \"/usr/local/lib/python3.7/dist-packages/sklearn/model_selection/_validation.py\", line 680, in _fit_and_score\n",
            "    estimator.fit(X_train, y_train, **fit_params)\n",
            "  File \"/usr/local/lib/python3.7/dist-packages/sklearn/pipeline.py\", line 390, in fit\n",
            "    Xt = self._fit(X, y, **fit_params_steps)\n",
            "  File \"/usr/local/lib/python3.7/dist-packages/sklearn/pipeline.py\", line 355, in _fit\n",
            "    **fit_params_steps[name],\n",
            "  File \"/usr/local/lib/python3.7/dist-packages/joblib/memory.py\", line 349, in __call__\n",
            "    return self.func(*args, **kwargs)\n",
            "  File \"/usr/local/lib/python3.7/dist-packages/sklearn/pipeline.py\", line 893, in _fit_transform_one\n",
            "    res = transformer.fit_transform(X, y, **fit_params)\n",
            "  File \"/usr/local/lib/python3.7/dist-packages/sklearn/base.py\", line 855, in fit_transform\n",
            "    return self.fit(X, y, **fit_params).transform(X)\n",
            "  File \"/usr/local/lib/python3.7/dist-packages/sklearn/preprocessing/_polynomial.py\", line 446, in transform\n",
            "    XP[:, current_col : current_col + n_features] = X\n",
            "ValueError: could not broadcast input array from shape (450,20) into shape (450,0)\n",
            "\n",
            "  warnings.warn(some_fits_failed_message, FitFailedWarning)\n",
            "/usr/local/lib/python3.7/dist-packages/sklearn/model_selection/_search.py:972: UserWarning: One or more of the test scores are non-finite: [       nan 0.70157859 0.96814653 0.96083868 0.95363619]\n",
            "  category=UserWarning,\n",
            "/usr/local/lib/python3.7/dist-packages/sklearn/model_selection/_search.py:972: UserWarning: One or more of the train scores are non-finite: [       nan 0.91449139 1.         1.         1.        ]\n",
            "  category=UserWarning,\n"
          ]
        },
        {
          "output_type": "stream",
          "name": "stdout",
          "text": [
            "Best cross-validation score: 0.97\n"
          ]
        },
        {
          "output_type": "display_data",
          "data": {
            "text/plain": [
              "<Figure size 432x288 with 1 Axes>"
            ],
            "image/png": "[encoded data removed]"
          },
          "metadata": {
            "needs_background": "light"
          }
        }
      ]
    },
    {
      "cell_type": "code",
      "source": [
        "Regression_Scores.update({'Polynomial Regression':scores.mean()})\n",
        "reg_model_para = reg_model_para.append({'Regressor':'Polynomial Regression',\n",
        "                       'Average Cross Validation Score':scores.mean(),\n",
        "                       'Best Parameters':best_parameters},ignore_index=True)"
      ],
      "metadata": {
        "id": "HnzK0KFGgnOj"
      },
      "execution_count": null,
      "outputs": []
    },
    {
      "cell_type": "markdown",
      "source": [
        "<b><font color=red> **Ridge Regression**"
      ],
      "metadata": {
        "id": "fLuWvLVEOexn"
      }
    },
    {
      "cell_type": "markdown",
      "source": [
        "Ridge regression is an extension for linear regression. It's basically a regularized linear regression model. It reduces the model complexity by coefficient shrinkage. It shrinks the parameters, therefore it is mostly used to prevent multicollinearity. It uses L2 regularization technique.\n",
        "\n",
        "We control the penalty term by changing the values of alpha. Higher the values of alpha, bigger is the penalty and therefore the magnitude of coefficients are reduced.\n",
        "\n",
        "Also, as there is a non-linear relationship between the variables. So, we fit the train and validation set using PolynomialFeatures and apply Ridge Regression instead of Linear Regression on the fitted data. We will consider degree for PolynomialFeatures to be 2 as it is the best parameter for Polynomial Regression model."
      ],
      "metadata": {
        "id": "rz9kB-TiOsBf"
      }
    },
    {
      "cell_type": "code",
      "source": [
        "from  sklearn.linear_model import Ridge\n",
        "\n",
        "x_range = [0.001, 0.01, 0.1, 1, 10, 100]\n",
        "train_score_list = []\n",
        "valid_score_list = []\n",
        "\n",
        "X_trainval_poly = poly_grid.fit_transform(X_trainval)\n",
        "X_train_poly = poly_grid.fit_transform(X_train)\n",
        "X_valid_poly = poly_grid.transform(X_valid)\n",
        "X_test_poly = poly_grid.transform(X_test)\n",
        "\n",
        "best_score = 0\n",
        "\n",
        "for alpha in x_range: \n",
        "    ridge = Ridge(alpha)\n",
        "    ridge.fit(X_train_poly,y_train)\n",
        "    train_score_list.append(ridge.score(X_train_poly,y_train))\n",
        "    score = ridge.score(X_valid_poly, y_valid)\n",
        "    valid_score_list.append(score)\n",
        "    if score > best_score:\n",
        "            best_score = score\n",
        "            best_parameters = {'alpha': alpha}\n",
        "            best_Alpha = alpha\n",
        "            \n",
        "%matplotlib inline\n",
        "plt.plot(x_range, train_score_list, c = 'g', label = 'Train Score')\n",
        "plt.plot(x_range, valid_score_list, c = 'b', label = 'Validation Score')\n",
        "plt.xscale('log')\n",
        "plt.legend(loc = 3)\n",
        "plt.xlabel(r'$\\alpha$')\n",
        "\n",
        "print(\"Best parameters: {}\".format(best_parameters))\n",
        "print(\"Best score: {:.2f}\".format(best_score))"
      ],
      "metadata": {
        "colab": {
          "base_uri": "https://localhost:8080/",
          "height": 327
        },
        "id": "6vcgP6xPOa4R",
        "outputId": "c8d63b1c-757c-4d9e-defe-a59b8ca8c549"
      },
      "execution_count": null,
      "outputs": [
        {
          "output_type": "stream",
          "name": "stdout",
          "text": [
            "Best parameters: {'alpha': 0.001}\n",
            "Best score: 0.90\n"
          ]
        },
        {
          "output_type": "display_data",
          "data": {
            "text/plain": [
              "<Figure size 432x288 with 1 Axes>"
            ],
            "image/png": "[encoded data removed]"
          },
          "metadata": {
            "needs_background": "light"
          }
        }
      ]
    },
    {
      "cell_type": "code",
      "source": [
        "from  sklearn.linear_model import Ridge\n",
        "\n",
        "x_range = [0.001, 0.01, 0.1, 1, 10, 100]\n",
        "train_score_list = []\n",
        "valid_score_list = []\n",
        "\n",
        "X_trainval_poly = poly_grid.fit_transform(X_trainval)\n",
        "X_train_poly = poly_grid.fit_transform(X_train)\n",
        "X_valid_poly = poly_grid.transform(X_valid)\n",
        "X_test_poly = poly_grid.transform(X_test)\n",
        "\n",
        "best_score = 0\n",
        "\n",
        "for alpha in x_range: \n",
        "    ridge = Ridge(alpha)\n",
        "    ridge.fit(X_train_poly,y_train)\n",
        "    train_score_list.append(ridge.score(X_train_poly,y_train))\n",
        "    score = ridge.score(X_valid_poly, y_valid)\n",
        "    valid_score_list.append(score)\n",
        "    if score > best_score:\n",
        "            best_score = score\n",
        "            best_parameters = {'alpha': alpha}\n",
        "            best_Alpha = alpha\n",
        "            \n",
        "%matplotlib inline\n",
        "plt.plot(x_range, train_score_list, c = 'g', label = 'Train Score')\n",
        "plt.plot(x_range, valid_score_list, c = 'b', label = 'Validation Score')\n",
        "plt.xscale('log')\n",
        "plt.legend(loc = 3)\n",
        "plt.xlabel(r'$\\alpha$')\n",
        "\n",
        "print(\"Best parameters: {}\".format(best_parameters))\n",
        "print(\"Best score: {:.2f}\".format(best_score))"
      ],
      "metadata": {
        "id": "ugPMa5ErOa0w",
        "colab": {
          "base_uri": "https://localhost:8080/",
          "height": 326
        },
        "outputId": "4e4700ed-3131-4269-d388-de23d5478c09"
      },
      "execution_count": null,
      "outputs": [
        {
          "output_type": "stream",
          "name": "stdout",
          "text": [
            "Best parameters: {'alpha': 0.001}\n",
            "Best score: 0.90\n"
          ]
        },
        {
          "output_type": "display_data",
          "data": {
            "text/plain": [
              "<Figure size 432x288 with 1 Axes>"
            ],
            "image/png": "[encoded data removed]"
          },
          "metadata": {
            "needs_background": "light"
          }
        }
      ]
    },
    {
      "cell_type": "markdown",
      "source": [
        "The best parameter value of alpha for this model is 0.001 giving a score of 0.90 on the validation dataset. Let's check the parameter tuning using cross validation score."
      ],
      "metadata": {
        "id": "sSS9rDkzq86a"
      }
    },
    {
      "cell_type": "code",
      "source": [
        "ridge_grid = Ridge(best_Alpha)\n",
        "\n",
        "scores = cross_val_score(ridge_grid, X_trainval_poly, y_trainval, cv = 10, scoring = 'r2')\n",
        "print(\"Cross-validation scores: {}\".format(scores))\n",
        "\n",
        "print(\"Average cross-validation score: {:.2f}\".format(scores.mean()))\n"
      ],
      "metadata": {
        "colab": {
          "base_uri": "https://localhost:8080/"
        },
        "id": "JSpDpBu2q3rF",
        "outputId": "91e00ffc-5f55-4f77-d8f8-030875c2d720"
      },
      "execution_count": null,
      "outputs": [
        {
          "output_type": "stream",
          "name": "stdout",
          "text": [
            "Cross-validation scores: [0.99891997 0.99849146 0.98985891 0.98178306 0.99941109 0.97204198\n",
            " 0.91203893 0.99986979 0.86773309 0.928542  ]\n",
            "Average cross-validation score: 0.96\n"
          ]
        }
      ]
    },
    {
      "cell_type": "markdown",
      "source": [
        "Applying this regularization technique on the train+validation set using the value of alpha = 0.001 found using naive grid search gives an average cross-validation score of 0.96.\n",
        "\n",
        "Let's check for the best parameter value of alpha using GridSearchCV."
      ],
      "metadata": {
        "id": "Af34wzthrGcX"
      }
    },
    {
      "cell_type": "code",
      "source": [
        "param_grid = {'alpha': [0.001, 0.01, 0.1, 1, 10, 100]}\n",
        "\n",
        "grid_search = GridSearchCV(Ridge(), param_grid, cv=5, return_train_score=True)\n",
        "\n",
        "grid_search.fit(X_trainval_poly, y_trainval)\n",
        "\n",
        "df = pd.DataFrame(grid_search.cv_results_)\n",
        "%matplotlib inline\n",
        "plt.plot(x_range, df.mean_train_score, c = 'g', label = 'Train Score')\n",
        "plt.plot(x_range, df.mean_test_score, c = 'b', label = 'Validation Score')\n",
        "plt.xscale('log')\n",
        "plt.legend(loc = 3)\n",
        "plt.xlabel(r'$\\alpha$')\n",
        "\n",
        "print(\"Best parameters: {}\".format(grid_search.best_params_))\n",
        "print(\"Best cross-validation score: {:.2f}\".format(grid_search.best_score_))"
      ],
      "metadata": {
        "colab": {
          "base_uri": "https://localhost:8080/",
          "height": 327
        },
        "id": "7RJ3FybHrBz3",
        "outputId": "e1a561cc-bd2c-479e-9310-2c795945c0dc"
      },
      "execution_count": null,
      "outputs": [
        {
          "output_type": "stream",
          "name": "stdout",
          "text": [
            "Best parameters: {'alpha': 0.001}\n",
            "Best cross-validation score: 0.95\n"
          ]
        },
        {
          "output_type": "display_data",
          "data": {
            "text/plain": [
              "<Figure size 432x288 with 1 Axes>"
            ],
            "image/png": "[encoded data removed]"
          },
          "metadata": {
            "needs_background": "light"
          }
        }
      ]
    },
    {
      "cell_type": "markdown",
      "source": [
        "From the graph, we can see that the score for alpha = 0.001 and 0.1 is almost same which is 0.95. With the increasing values of alpha, regularization parameter increases causing a reduction in the magnitude of coefficients. This caused the training and validation score to drop.\n",
        "\n",
        "Thus, increasing the value of alpha, in this case, lead to underfit the model."
      ],
      "metadata": {
        "id": "gisYQpzzrSyx"
      }
    },
    {
      "cell_type": "code",
      "source": [
        "Regression_Scores.update({'Ridge Regression': scores.mean()})"
      ],
      "metadata": {
        "id": "XL2aOzcQrBwQ"
      },
      "execution_count": null,
      "outputs": []
    },
    {
      "cell_type": "code",
      "source": [
        "reg_model_para = reg_model_para.append({'Regressor':'Ridge Regression',\n",
        "                       'Average Cross Validation Score':scores.mean(),\n",
        "                       'Best Parameters':best_parameters},ignore_index=True)"
      ],
      "metadata": {
        "id": "s6FhbcCRrBtc"
      },
      "execution_count": null,
      "outputs": []
    },
    {
      "cell_type": "markdown",
      "source": [
        "<b><font color=red>**Lasso Regression**"
      ],
      "metadata": {
        "id": "Y3O6RbserctZ"
      }
    },
    {
      "cell_type": "markdown",
      "source": [
        "Lasso regression is another shrinkage and variable selection method for linear regression models. The goal of lasso regression is to obtain the subset of predictors that minimizes prediction error for a quantitative response variable. The lasso does this by imposing a constraint on the model parameters that causes regression coefficients for some variables to shrink toward zero. Variables with a regression coefficient equal to zero after the shrinkage process are excluded from the model.\n",
        "\n",
        "This penalty in the model is added by changing the value of alpha.\n",
        "\n",
        "Also, as done in Ridge regression, we fit the train and validation set using PolynomialFeatures and apply Lasso Regression instead of Linear Regression on the fitted data. We will consider degree for PolynomialFeatures to be 2 as it is the best parameter for Polynomial Regression model."
      ],
      "metadata": {
        "id": "PurkMTm5uWcb"
      }
    },
    {
      "cell_type": "code",
      "source": [
        "from sklearn.linear_model import Lasso\n",
        "\n",
        "x_range = [0.001, 0.01, 0.1, 1, 10, 100]\n",
        "\n",
        "train_score_list = []\n",
        "valid_score_list = []\n",
        "\n",
        "best_score = 0 \n",
        "\n",
        "for alpha in x_range: \n",
        "    lasso = Lasso(alpha, max_iter=100000)\n",
        "    lasso.fit(X_train_poly,y_train)\n",
        "    train_score_list.append(lasso.score(X_train_poly,y_train))\n",
        "    score = lasso.score(X_valid_poly, y_valid)\n",
        "    valid_score_list.append(score)\n",
        "    if score > best_score:\n",
        "            best_score = score\n",
        "            best_parameters = {'alpha': alpha}\n",
        "            best_Alpha = alpha\n",
        "            \n",
        "plt.plot(x_range, train_score_list, c = 'g', label = 'Train Score')\n",
        "plt.plot(x_range, valid_score_list, c = 'b', label = 'Validation Score')\n",
        "plt.xscale('log')\n",
        "plt.legend(loc = 3)\n",
        "plt.xlabel(r'$\\alpha$')\n",
        "\n",
        "print(\"Best score: {:.2f}\".format(best_score))\n",
        "print(\"Best parameters: {}\".format(best_parameters))"
      ],
      "metadata": {
        "id": "7U8eidsKq3nl",
        "colab": {
          "base_uri": "https://localhost:8080/",
          "height": 327
        },
        "outputId": "c6b4c7ae-a7a4-4858-c6ac-58a23ab496bb"
      },
      "execution_count": null,
      "outputs": [
        {
          "output_type": "stream",
          "name": "stdout",
          "text": [
            "Best score: 1.00\n",
            "Best parameters: {'alpha': 0.001}\n"
          ]
        },
        {
          "output_type": "display_data",
          "data": {
            "text/plain": [
              "<Figure size 432x288 with 1 Axes>"
            ],
            "image/png": "[encoded data removed]"
          },
          "metadata": {
            "needs_background": "light"
          }
        }
      ]
    },
    {
      "cell_type": "markdown",
      "source": [
        "The best parameter value of alpha for this model is 0.001 giving a perfect score of 1.00 on the validation dataset. Let's check if we get the same result for this parameter using cross validation score."
      ],
      "metadata": {
        "id": "nEwoXOW2wMB2"
      }
    },
    {
      "cell_type": "code",
      "source": [
        "lasso_grid = Lasso(best_Alpha, max_iter=100000)\n",
        "scores = cross_val_score(lasso_grid, X_trainval_poly, y_trainval, cv = 10, scoring = 'r2')\n",
        "print(\"Cross-validation scores: {}\".format(scores))\n",
        "\n",
        "print(\"Average cross-validation score: {:.2f}\".format(scores.mean()))"
      ],
      "metadata": {
        "id": "tvc1GJPIwNwT",
        "outputId": "8b0c6fa3-b8b3-419f-c2b4-92228bb36f92",
        "colab": {
          "base_uri": "https://localhost:8080/"
        }
      },
      "execution_count": null,
      "outputs": [
        {
          "output_type": "stream",
          "name": "stdout",
          "text": [
            "Cross-validation scores: [0.99942323 0.99988636 0.99981836 0.99521738 0.99909456 0.94186789\n",
            " 0.97496926 0.99992305 0.99833584 0.99692344]\n",
            "Average cross-validation score: 0.99\n"
          ]
        }
      ]
    },
    {
      "cell_type": "markdown",
      "source": [
        "We are able to achieve an score of 0.99 using cross validation score.\n",
        "\n",
        "Thus, we can say that our model is doing good in identifying Audit_risk on the validation dataset. Let's check if we can get a more efficient cross-validation score using GridSearchCV."
      ],
      "metadata": {
        "id": "6Q8Tx_WswRG7"
      }
    },
    {
      "cell_type": "code",
      "source": [
        "param_grid = {'alpha': [0.001, 0.01, 0.1, 1, 10, 100]}\n",
        "\n",
        "grid_search = GridSearchCV(Lasso(max_iter = 100000), param_grid, cv=10, return_train_score=True)\n",
        "\n",
        "grid_search.fit(X_trainval_poly, y_trainval)\n",
        "\n",
        "df = pd.DataFrame(grid_search.cv_results_)\n",
        "%matplotlib inline\n",
        "plt.plot(x_range, df.mean_train_score, c = 'g', label = 'Train Score')\n",
        "plt.plot(x_range, df.mean_test_score, c = 'b', label = 'Validation Score')\n",
        "plt.xscale('log')\n",
        "plt.legend(loc = 3)\n",
        "plt.xlabel(r'$\\alpha$')\n",
        "\n",
        "print(\"Best parameters: {}\".format(grid_search.best_params_))\n",
        "print(\"Best cross-validation score: {:.2f}\".format(grid_search.best_score_))"
      ],
      "metadata": {
        "id": "JKldjlggwUjQ",
        "outputId": "73b247b8-4dee-4d94-819c-3a108753869f",
        "colab": {
          "base_uri": "https://localhost:8080/",
          "height": 327
        }
      },
      "execution_count": null,
      "outputs": [
        {
          "output_type": "stream",
          "name": "stdout",
          "text": [
            "Best parameters: {'alpha': 0.001}\n",
            "Best cross-validation score: 0.99\n"
          ]
        },
        {
          "output_type": "display_data",
          "data": {
            "text/plain": [
              "<Figure size 432x288 with 1 Axes>"
            ],
            "image/png": "[encoded data removed]"
          },
          "metadata": {
            "needs_background": "light"
          }
        }
      ]
    },
    {
      "cell_type": "markdown",
      "source": [
        "Even GridSearchCV gave the same alpha value as the best parameter with a score of 0.99.\n",
        "\n",
        "Also, from the graph we see that with the increase in the value of alpha, the training and validation score becomes 0. This shows that this model has penalized the magnitude of the coefficients to 0 for higher values of alph"
      ],
      "metadata": {
        "id": "ePG0GDtywcqZ"
      }
    },
    {
      "cell_type": "code",
      "source": [
        "Regression_Scores.update({'Lasso Regression':grid_search.best_score_})\n"
      ],
      "metadata": {
        "id": "d1mBTtqKwk2m"
      },
      "execution_count": null,
      "outputs": []
    },
    {
      "cell_type": "code",
      "source": [
        "reg_model_para = reg_model_para.append({'Regressor':'Lasso Regression',\n",
        "                       'Average Cross Validation Score':grid_search.best_score_,\n",
        "                       'Best Parameters':grid_search.best_params_},ignore_index=True)"
      ],
      "metadata": {
        "id": "y17cVq75wmyI"
      },
      "execution_count": null,
      "outputs": []
    },
    {
      "cell_type": "markdown",
      "source": [
        "<b><font color=red>**SVM with Kernel Trick**"
      ],
      "metadata": {
        "id": "whv3NUY7sFbB"
      }
    },
    {
      "cell_type": "markdown",
      "source": [
        "<b>SVM with kernel trick</b><br><br>\n",
        "Kernel trick is a way to make optimization efficient when there are features having a linear or non linear decision boundary. Using the kernel trick, we find a higher dimensional space in which these points(linear or non-linear) were linearly separable; Map the original features to this higher transformer space; Obtain a set of weights corresponding to the decision boundary hyperplane; Map this hyperplane back into the original 2D space to obtain a linear/non-linear decision boundary.\n",
        "\n",
        "In another way, kernel is a way to change the relative dimensions of the data points. It's possible to create a very complex decision boundary based on a high dimensional feature mapping because of the kernel representation."
      ],
      "metadata": {
        "id": "KtJEd5QGxoGr"
      }
    },
    {
      "cell_type": "markdown",
      "source": [
        "<b>SVM - rbf(Radial Basis Function)</b><br><br>\n",
        "The parameters that effect this model are parameters gamma and C.\n",
        "\n",
        "Parameter C behaves as the regularization parameter. The gamma parameters can be seen as the inverse of the radius of influence of samples selected by the model as support vectors.\n",
        "\n",
        "The behavior of the model is very sensitive to the gamma parameter. If gamma is too large, the radius of the area of influence of the support vectors only includes the support vector itself and no amount of regularization with C will be able to prevent overfitting.\n",
        "\n",
        "When gamma is very small, the model is too constrained and cannot capture the complexity or \"shape\" of the data."
      ],
      "metadata": {
        "id": "dU3aeqR_x8IO"
      }
    },
    {
      "cell_type": "code",
      "source": [
        "from sklearn.svm import SVR\n",
        "\n",
        "train_score_list = []\n",
        "valid_score_list = []\n",
        "\n",
        "best_score = 0\n",
        "\n",
        "for gamma in [0.001, 0.01, 0.1, 1, 10, 100]:\n",
        "    for C in [0.001, 0.01, 0.1, 1, 10, 100]:\n",
        "        svr_rbf = SVR(kernel='rbf', gamma=gamma, C=C)\n",
        "        svr_rbf.fit(X_train,y_train)\n",
        "        train_score_list.append(svr_rbf.score(X_train,y_train))\n",
        "        score = svr_rbf.score(X_valid, y_valid)\n",
        "        valid_score_list.append(score)\n",
        "        if score > best_score:\n",
        "            best_score = score\n",
        "            best_parameters = {'gamma': gamma , 'C' : C}\n",
        "            best_Gamma = gamma\n",
        "            best_C = C\n",
        "\n",
        "print(\"Best score: {:.2f}\".format(best_score))\n",
        "print(\"Best parameters: {}\".format(best_parameters))"
      ],
      "metadata": {
        "id": "kzycOSRvq3k1",
        "colab": {
          "base_uri": "https://localhost:8080/"
        },
        "outputId": "0a36dedf-8cdb-4918-fa2e-88dceaa3821c"
      },
      "execution_count": null,
      "outputs": [
        {
          "output_type": "stream",
          "name": "stdout",
          "text": [
            "Best score: 0.65\n",
            "Best parameters: {'gamma': 0.1, 'C': 100}\n"
          ]
        }
      ]
    },
    {
      "cell_type": "markdown",
      "source": [
        "The best paramaters for this kernel are gamma = 0.1 and C = 100 which gives a score of 0.65 on the validation set.\n",
        "\n",
        "The average cross-validation score for these parameters is:"
      ],
      "metadata": {
        "id": "dhT0yXrdyNku"
      }
    },
    {
      "cell_type": "code",
      "source": [
        "svr_rbf_grid = SVR(kernel='rbf', gamma = best_Gamma, C = best_C)\n",
        "\n",
        "scores = cross_val_score(svr_rbf_grid, X_trainval, y_trainval, cv = 10, scoring = 'r2')\n",
        "print(\"Cross-validation scores: {}\".format(scores))\n",
        "\n",
        "print(\"Average cross-validation score: {:.2f}\".format(scores.mean()))"
      ],
      "metadata": {
        "colab": {
          "base_uri": "https://localhost:8080/"
        },
        "id": "DYI0ie5SyJ74",
        "outputId": "bd2064c5-db96-4c05-c0a4-66d6e9a6ab5e"
      },
      "execution_count": null,
      "outputs": [
        {
          "output_type": "stream",
          "name": "stdout",
          "text": [
            "Cross-validation scores: [0.95028014 0.97814188 0.94131845 0.92768304 0.94773525 0.88977047\n",
            " 0.59650107 0.99684185 0.88086693 0.87799994]\n",
            "Average cross-validation score: 0.90\n"
          ]
        }
      ]
    },
    {
      "cell_type": "code",
      "source": [
        "param_grid = {'gamma': [0.001, 0.01, 0.1, 1, 10, 100],\n",
        "             'C': [0.001, 0.01, 0.1, 1, 10, 100]}\n",
        "\n",
        "grid_search = GridSearchCV(SVR(kernel='rbf'), param_grid, cv=10, return_train_score=True)\n",
        "\n",
        "grid_search.fit(X_trainval, y_trainval)\n",
        "\n",
        "print(\"Best parameters: {}\".format(grid_search.best_params_))\n",
        "print(\"Best cross-validation score: {:.2f}\".format(grid_search.best_score_))"
      ],
      "metadata": {
        "colab": {
          "base_uri": "https://localhost:8080/"
        },
        "id": "vZeXlflJyShO",
        "outputId": "0b6c8cdc-1fe6-4f48-f084-7beef7268a2f"
      },
      "execution_count": null,
      "outputs": [
        {
          "output_type": "stream",
          "name": "stdout",
          "text": [
            "Best parameters: {'C': 100, 'gamma': 0.1}\n",
            "Best cross-validation score: 0.90\n"
          ]
        }
      ]
    },
    {
      "cell_type": "markdown",
      "source": [
        "From the results of both the grid search methods - naive grid search and GridSearchCV, we get the same average cross-validation score for the best regularization parameter C = 100 and gamma = 0.1"
      ],
      "metadata": {
        "id": "UAQfKfE1yebY"
      }
    },
    {
      "cell_type": "code",
      "source": [
        "Regression_Scores.update({'SVM RBF Kernel':scores.mean()})"
      ],
      "metadata": {
        "id": "podwruH1yJ4Y"
      },
      "execution_count": null,
      "outputs": []
    },
    {
      "cell_type": "code",
      "source": [
        "reg_model_para = reg_model_para.append({'Regressor':'SVM RBF Kernel',\n",
        "                       'Average Cross Validation Score':scores.mean(),\n",
        "                       'Best Parameters':best_parameters},ignore_index=True)"
      ],
      "metadata": {
        "id": "31pr1wnQyJ1e"
      },
      "execution_count": null,
      "outputs": []
    },
    {
      "cell_type": "markdown",
      "source": [
        "<b>SVM - Poly</b><br><br>\n",
        "Apart from gamma and regularization parameter C, this model takes into account another parameter degree which defines the non-linear relationship between the features and the target variable."
      ],
      "metadata": {
        "id": "Bvr1QP5byl3e"
      }
    },
    {
      "cell_type": "code",
      "source": [
        "train_score_list = []\n",
        "valid_score_list = []\n",
        "\n",
        "best_score = 0\n",
        "\n",
        "for degree in range(1,5):\n",
        "    for C in [0.001, 0.01, 0.1, 1, 10, 100]:\n",
        "        svr_poly = SVR(kernel='poly', degree = degree, C=C, gamma = 'auto')\n",
        "        svr_poly.fit(X_train,y_train)\n",
        "        train_score_list.append(svr_poly.score(X_train,y_train))\n",
        "        score = svr_poly.score(X_valid, y_valid)\n",
        "        valid_score_list.append(score)\n",
        "        if score > best_score:\n",
        "            best_score = score\n",
        "            best_parameters = {'degree': degree , 'C' : C}\n",
        "            best_Degree = degree\n",
        "            best_C = C\n",
        "\n",
        "print(\"Best score: {:.2f}\".format(best_score))\n",
        "print(\"Best parameters: {}\".format(best_parameters))"
      ],
      "metadata": {
        "colab": {
          "base_uri": "https://localhost:8080/"
        },
        "id": "O_3xTY1xyJzB",
        "outputId": "cd3cfa7b-5dba-46e2-efd2-5f1f6acf83cc"
      },
      "execution_count": null,
      "outputs": [
        {
          "output_type": "stream",
          "name": "stdout",
          "text": [
            "Best score: 0.66\n",
            "Best parameters: {'degree': 2, 'C': 100}\n"
          ]
        }
      ]
    },
    {
      "cell_type": "markdown",
      "source": [
        "The best parameters for this model are Degree = 2 and C = 100 giving a validation score of 0.66.\n",
        "\n",
        "Checking the average cross-validation score:"
      ],
      "metadata": {
        "id": "CgKaM3Yny3-e"
      }
    },
    {
      "cell_type": "code",
      "source": [
        "svr_poly_grid = SVR(kernel='poly',degree = best_Degree, C=best_C, gamma = 'auto')\n",
        "\n",
        "scores = cross_val_score(svr_poly_grid, X_trainval, y_trainval, cv = 10, scoring = 'r2')\n",
        "print(\"Cross-validation scores: {}\".format(scores))\n",
        "\n",
        "print(\"Average cross-validation score: {:.2f}\".format(scores.mean()))"
      ],
      "metadata": {
        "colab": {
          "base_uri": "https://localhost:8080/"
        },
        "id": "8XhWymtFyJwY",
        "outputId": "bc807ded-9641-4346-8bb0-ba7980500376"
      },
      "execution_count": null,
      "outputs": [
        {
          "output_type": "stream",
          "name": "stdout",
          "text": [
            "Cross-validation scores: [0.83990545 0.95554967 0.85246861 0.81775571 0.81476109 0.71127539\n",
            " 0.47644656 0.95413367 0.79991031 0.8840575 ]\n",
            "Average cross-validation score: 0.81\n"
          ]
        }
      ]
    },
    {
      "cell_type": "code",
      "source": [
        "param_grid = {'degree': [1,2,3,4,5],\n",
        "             'C': [0.001, 0.01, 0.1, 1, 10, 100]}\n",
        "\n",
        "grid_search = GridSearchCV(SVR(kernel='poly', gamma = 'auto'), param_grid, cv=10, return_train_score=True)\n",
        "\n",
        "grid_search.fit(X_trainval, y_trainval)\n",
        "\n",
        "print(\"Best parameters: {}\".format(grid_search.best_params_))\n",
        "print(\"Best cross-validation score: {:.2f}\".format(grid_search.best_score_))"
      ],
      "metadata": {
        "colab": {
          "base_uri": "https://localhost:8080/"
        },
        "id": "BIvbyncYyJtn",
        "outputId": "991fb0d2-387d-4277-9e1f-eea40d7940fd"
      },
      "execution_count": null,
      "outputs": [
        {
          "output_type": "stream",
          "name": "stdout",
          "text": [
            "Best parameters: {'C': 100, 'degree': 2}\n",
            "Best cross-validation score: 0.81\n"
          ]
        }
      ]
    },
    {
      "cell_type": "markdown",
      "source": [
        "From the results of naive grid search and GridSearchCV, it can be said that the best parameters for this model are C = 100 and degree = 2."
      ],
      "metadata": {
        "id": "mrq8HAvTzHrB"
      }
    },
    {
      "cell_type": "code",
      "source": [
        "Regression_Scores.update({'SVM Poly Kernel':scores.mean()})"
      ],
      "metadata": {
        "id": "TEMiCbyEyJrC"
      },
      "execution_count": null,
      "outputs": []
    },
    {
      "cell_type": "code",
      "source": [
        "reg_model_para = reg_model_para.append({'Regressor':'SVM Poly Kernel',\n",
        "                       'Average Cross Validation Score':scores.mean(),\n",
        "                       'Best Parameters':best_parameters},ignore_index=True)"
      ],
      "metadata": {
        "id": "2Y1sWKsJzLtB"
      },
      "execution_count": null,
      "outputs": []
    },
    {
      "cell_type": "markdown",
      "source": [
        "<b><font color='blue'>Best Regressor Model and Prediction:</b></font><br><br>\n",
        "Every model has a score method provided as default evaluation criterion for the problem they are designed to solve. However, we have used average cross-validation score with scoring paramater as r2 (R-Square) for the best parameter of that regressor.\n",
        "\n",
        "Comparing the average cross-validation score for all the above regressor:"
      ],
      "metadata": {
        "id": "3cMume2BzTBf"
      }
    },
    {
      "cell_type": "code",
      "source": [
        "reg_model_para"
      ],
      "metadata": {
        "colab": {
          "base_uri": "https://localhost:8080/",
          "height": 268
        },
        "id": "fHtKAKvlzm9G",
        "outputId": "28059e9f-47bc-4032-83b9-685751d31e5b"
      },
      "execution_count": null,
      "outputs": [
        {
          "output_type": "execute_result",
          "data": {
            "text/plain": [
              "               Regressor  Average Cross Validation Score  \\\n",
              "0          KNN Regressor                        0.702636   \n",
              "1      Linear Regression                        0.714401   \n",
              "2  Polynomial Regression                        0.976232   \n",
              "3       Ridge Regression                        0.964869   \n",
              "4       Lasso Regression                        0.990546   \n",
              "5         SVM RBF Kernel                        0.898714   \n",
              "6        SVM Poly Kernel                        0.810626   \n",
              "\n",
              "            Best Parameters  \n",
              "0        {'n_neighbors': 6}  \n",
              "1                            \n",
              "2                  {'N': 2}  \n",
              "3          {'alpha': 0.001}  \n",
              "4          {'alpha': 0.001}  \n",
              "5  {'gamma': 0.1, 'C': 100}  \n",
              "6   {'degree': 2, 'C': 100}  "
            ],
            "text/html": [
              "\n",
              "  <div id=\"df-1d035007-3aa2-42f6-93ae-9194742e53cd\">\n",
              "    <div class=\"colab-df-container\">\n",
              "      <div>\n",
              "<style scoped>\n",
              "    .dataframe tbody tr th:only-of-type {\n",
              "        vertical-align: middle;\n",
              "    }\n",
              "\n",
              "    .dataframe tbody tr th {\n",
              "        vertical-align: top;\n",
              "    }\n",
              "\n",
              "    .dataframe thead th {\n",
              "        text-align: right;\n",
              "    }\n",
              "</style>\n",
              "<table border=\"1\" class=\"dataframe\">\n",
              "  <thead>\n",
              "    <tr style=\"text-align: right;\">\n",
              "      <th></th>\n",
              "      <th>Regressor</th>\n",
              "      <th>Average Cross Validation Score</th>\n",
              "      <th>Best Parameters</th>\n",
              "    </tr>\n",
              "  </thead>\n",
              "  <tbody>\n",
              "    <tr>\n",
              "      <th>0</th>\n",
              "      <td>KNN Regressor</td>\n",
              "      <td>0.702636</td>\n",
              "      <td>{'n_neighbors': 6}</td>\n",
              "    </tr>\n",
              "    <tr>\n",
              "      <th>1</th>\n",
              "      <td>Linear Regression</td>\n",
              "      <td>0.714401</td>\n",
              "      <td></td>\n",
              "    </tr>\n",
              "    <tr>\n",
              "      <th>2</th>\n",
              "      <td>Polynomial Regression</td>\n",
              "      <td>0.976232</td>\n",
              "      <td>{'N': 2}</td>\n",
              "    </tr>\n",
              "    <tr>\n",
              "      <th>3</th>\n",
              "      <td>Ridge Regression</td>\n",
              "      <td>0.964869</td>\n",
              "      <td>{'alpha': 0.001}</td>\n",
              "    </tr>\n",
              "    <tr>\n",
              "      <th>4</th>\n",
              "      <td>Lasso Regression</td>\n",
              "      <td>0.990546</td>\n",
              "      <td>{'alpha': 0.001}</td>\n",
              "    </tr>\n",
              "    <tr>\n",
              "      <th>5</th>\n",
              "      <td>SVM RBF Kernel</td>\n",
              "      <td>0.898714</td>\n",
              "      <td>{'gamma': 0.1, 'C': 100}</td>\n",
              "    </tr>\n",
              "    <tr>\n",
              "      <th>6</th>\n",
              "      <td>SVM Poly Kernel</td>\n",
              "      <td>0.810626</td>\n",
              "      <td>{'degree': 2, 'C': 100}</td>\n",
              "    </tr>\n",
              "  </tbody>\n",
              "</table>\n",
              "</div>\n",
              "      <button class=\"colab-df-convert\" onclick=\"convertToInteractive('df-1d035007-3aa2-42f6-93ae-9194742e53cd')\"\n",
              "              title=\"Convert this dataframe to an interactive table.\"\n",
              "              style=\"display:none;\">\n",
              "        \n",
              "  <svg xmlns=\"http://www.w3.org/2000/svg\" height=\"24px\"viewBox=\"0 0 24 24\"\n",
              "       width=\"24px\">\n",
              "    <path d=\"M0 0h24v24H0V0z\" fill=\"none\"/>\n",
              "    <path d=\"M18.56 5.44l.94 2.06.94-2.06 2.06-.94-2.06-.94-.94-2.06-.94 2.06-2.06.94zm-11 1L8.5 8.5l.94-2.06 2.06-.94-2.06-.94L8.5 2.5l-.94 2.06-2.06.94zm10 10l.94 2.06.94-2.06 2.06-.94-2.06-.94-.94-2.06-.94 2.06-2.06.94z\"/><path d=\"M17.41 7.96l-1.37-1.37c-.4-.4-.92-.59-1.43-.59-.52 0-1.04.2-1.43.59L10.3 9.45l-7.72 7.72c-.78.78-.78 2.05 0 2.83L4 21.41c.39.39.9.59 1.41.59.51 0 1.02-.2 1.41-.59l7.78-7.78 2.81-2.81c.8-.78.8-2.07 0-2.86zM5.41 20L4 18.59l7.72-7.72 1.47 1.35L5.41 20z\"/>\n",
              "  </svg>\n",
              "      </button>\n",
              "      \n",
              "  <style>\n",
              "    .colab-df-container {\n",
              "      display:flex;\n",
              "      flex-wrap:wrap;\n",
              "      gap: 12px;\n",
              "    }\n",
              "\n",
              "    .colab-df-convert {\n",
              "      background-color: #E8F0FE;\n",
              "      border: none;\n",
              "      border-radius: 50%;\n",
              "      cursor: pointer;\n",
              "      display: none;\n",
              "      fill: #1967D2;\n",
              "      height: 32px;\n",
              "      padding: 0 0 0 0;\n",
              "      width: 32px;\n",
              "    }\n",
              "\n",
              "    .colab-df-convert:hover {\n",
              "      background-color: #E2EBFA;\n",
              "      box-shadow: 0px 1px 2px rgba(60, 64, 67, 0.3), 0px 1px 3px 1px rgba(60, 64, 67, 0.15);\n",
              "      fill: #174EA6;\n",
              "    }\n",
              "\n",
              "    [theme=dark] .colab-df-convert {\n",
              "      background-color: #3B4455;\n",
              "      fill: #D2E3FC;\n",
              "    }\n",
              "\n",
              "    [theme=dark] .colab-df-convert:hover {\n",
              "      background-color: #434B5C;\n",
              "      box-shadow: 0px 1px 3px 1px rgba(0, 0, 0, 0.15);\n",
              "      filter: drop-shadow(0px 1px 2px rgba(0, 0, 0, 0.3));\n",
              "      fill: #FFFFFF;\n",
              "    }\n",
              "  </style>\n",
              "\n",
              "      <script>\n",
              "        const buttonEl =\n",
              "          document.querySelector('#df-1d035007-3aa2-42f6-93ae-9194742e53cd button.colab-df-convert');\n",
              "        buttonEl.style.display =\n",
              "          google.colab.kernel.accessAllowed ? 'block' : 'none';\n",
              "\n",
              "        async function convertToInteractive(key) {\n",
              "          const element = document.querySelector('#df-1d035007-3aa2-42f6-93ae-9194742e53cd');\n",
              "          const dataTable =\n",
              "            await google.colab.kernel.invokeFunction('convertToInteractive',\n",
              "                                                     [key], {});\n",
              "          if (!dataTable) return;\n",
              "\n",
              "          const docLinkHtml = 'Like what you see? Visit the ' +\n",
              "            '<a target=\"_blank\" href=https://colab.research.google.com/notebooks/data_table.ipynb>data table notebook</a>'\n",
              "            + ' to learn more about interactive tables.';\n",
              "          element.innerHTML = '';\n",
              "          dataTable['output_type'] = 'display_data';\n",
              "          await google.colab.output.renderOutput(dataTable, element);\n",
              "          const docLink = document.createElement('div');\n",
              "          docLink.innerHTML = docLinkHtml;\n",
              "          element.appendChild(docLink);\n",
              "        }\n",
              "      </script>\n",
              "    </div>\n",
              "  </div>\n",
              "  "
            ]
          },
          "metadata": {},
          "execution_count": 271
        }
      ]
    },
    {
      "cell_type": "code",
      "source": [
        "plt.figure(figsize=(15,8))\n",
        "\n",
        "plt.bar(range(len(Regression_Scores)), list(Regression_Scores.values()), align='center')\n",
        "plt.xticks(range(len(Regression_Scores)), list(Regression_Scores.keys()))\n",
        "\n",
        "plt.xticks(rotation=40, ha=\"right\", fontsize=16)\n",
        "plt.show()"
      ],
      "metadata": {
        "id": "so_pzDCUz118",
        "outputId": "e615bc43-c3db-432f-9b0b-8d25742f30f9",
        "colab": {
          "base_uri": "https://localhost:8080/",
          "height": 603
        }
      },
      "execution_count": null,
      "outputs": [
        {
          "output_type": "display_data",
          "data": {
            "text/plain": [
              "<Figure size 1080x576 with 1 Axes>"
            ],
            "image/png": "[encoded data removed]"
          },
          "metadata": {
            "needs_background": "light"
          }
        }
      ]
    },
    {
      "cell_type": "markdown",
      "source": [
        "**CLASSIFICATION TASKS**"
      ],
      "metadata": {
        "id": "DXf_PtENsVLy"
      }
    },
    {
      "cell_type": "code",
      "source": [
        "y = audit['Risk']\n",
        "\n",
        "X = audit.drop(['Audit_Risk','Risk'],axis = 1)\n",
        "X.shape"
      ],
      "metadata": {
        "colab": {
          "base_uri": "https://localhost:8080/"
        },
        "id": "E6xpT5ai6zZd",
        "outputId": "ef606e99-3a1a-4e14-f5ad-7c22395ab722"
      },
      "execution_count": null,
      "outputs": [
        {
          "output_type": "execute_result",
          "data": {
            "text/plain": [
              "(750, 20)"
            ]
          },
          "metadata": {},
          "execution_count": 273
        }
      ]
    },
    {
      "cell_type": "markdown",
      "source": [
        "From the shape function on X, we know that the dataframe has 750 data points and 20 features that can be used to predict 'Risk' stored in y.\n",
        "\n",
        "The different classification models that can be used for this task are:\n",
        "\n",
        "KNN Classification\n",
        "Logistic Regression\n",
        "Support Vector Machine - Linear SVC\n",
        "Support Vector Machine with Kernel trick – Rbf, Poly\n",
        "Decision Tree\n",
        "But before we start applying these classification models, a three-fold split is performed on the entire dataset, the same way as done for Regression task.\n",
        "\n",
        "Thus, we fit the above models using train and validation set and after finding the best classifier, we check for the accuracy of the best classifier using test set."
      ],
      "metadata": {
        "id": "JaD4ayTt7ACT"
      }
    },
    {
      "cell_type": "code",
      "source": [
        "from sklearn.preprocessing import MinMaxScaler\n",
        "from sklearn.model_selection import train_test_split\n",
        "\n",
        "X_trainval_org, X_test_org, y_trainval, y_test = train_test_split(X,y, random_state = 2)\n",
        "\n",
        "# split train+validation set into training and validation sets\n",
        "X_train_org, X_valid_org, y_train, y_valid = train_test_split(X_trainval_org, y_trainval, random_state=1)\n",
        "\n",
        "scaler = MinMaxScaler()\n",
        "\n",
        "X_train = scaler.fit_transform(X_train_org)\n",
        "X_valid = scaler.fit_transform(X_valid_org)\n",
        "X_trainval = scaler.fit_transform(X_trainval_org)\n",
        "X_test = scaler.transform(X_test_org)\n",
        "\n",
        "print(\"Size of training set: {}   size of validation set: {}   size of test set:\"\n",
        "      \" {}\\n\".format(X_train.shape[0], X_valid.shape[0], X_test.shape[0]))"
      ],
      "metadata": {
        "colab": {
          "base_uri": "https://localhost:8080/"
        },
        "id": "O6skSC5u7EYl",
        "outputId": "5f5bfbe1-b480-4bbd-b58a-d09f3805cd02"
      },
      "execution_count": null,
      "outputs": [
        {
          "output_type": "stream",
          "name": "stdout",
          "text": [
            "Size of training set: 421   size of validation set: 141   size of test set: 188\n",
            "\n"
          ]
        }
      ]
    },
    {
      "cell_type": "markdown",
      "source": [
        "<b><font color=red>**KNN Classification**"
      ],
      "metadata": {
        "id": "u8Yj5Or2tBui"
      }
    },
    {
      "cell_type": "markdown",
      "source": [
        "The idea in k-nearest-neighbors methods is to identify k records in the training dataset that are similar to a new record that we wish to classify. We then use these similar (neighboring) records to classify the new record into a class, assigning the new record to the predominant class among these neighbors."
      ],
      "metadata": {
        "id": "m565V1Sh5Yf1"
      }
    },
    {
      "cell_type": "code",
      "source": [
        "from sklearn.neighbors import KNeighborsClassifier\n",
        "\n",
        "%matplotlib inline\n",
        "train_score_array = []\n",
        "valid_score_array = []\n",
        "\n",
        "best_score = 0\n",
        "\n",
        "for k in range(1,10):\n",
        "    knn_clf = KNeighborsClassifier(k)\n",
        "    knn_clf.fit(X_train, y_train)\n",
        "    train_score_array.append(knn_clf.score(X_train, y_train))\n",
        "    score = knn_clf.score(X_valid, y_valid)\n",
        "    valid_score_array.append(score)\n",
        "    if score > best_score:\n",
        "            best_score = score\n",
        "            best_parameters = {'K': k}\n",
        "            best_K = k\n",
        "\n",
        "x_axis = range(1,10)\n",
        "plt.plot(x_axis, train_score_array, c = 'g', label = 'Train Score')\n",
        "plt.plot(x_axis, valid_score_array, c = 'b', label = 'Validation Score')\n",
        "plt.legend()\n",
        "plt.xlabel('k')\n",
        "plt.ylabel('MSE')\n",
        "\n",
        "print(\"Best score: {:.2f}\".format(best_score))\n",
        "print(\"Best parameters: {}\".format(best_parameters))"
      ],
      "metadata": {
        "id": "fSN9e0qrOaxy",
        "colab": {
          "base_uri": "https://localhost:8080/",
          "height": 322
        },
        "outputId": "e6742c38-7e89-45c3-8802-5eaa1d396ed0"
      },
      "execution_count": null,
      "outputs": [
        {
          "output_type": "stream",
          "name": "stdout",
          "text": [
            "Best score: 0.94\n",
            "Best parameters: {'K': 3}\n"
          ]
        },
        {
          "output_type": "display_data",
          "data": {
            "text/plain": [
              "<Figure size 432x288 with 1 Axes>"
            ],
            "image/png": "[encoded data removed]"
          },
          "metadata": {
            "needs_background": "light"
          }
        }
      ]
    },
    {
      "cell_type": "markdown",
      "source": [
        "The best parameter value of K for this model is 3 which gives an accuracy of 0.94 on the validation dataset.\n",
        "\n",
        "We review this parameter using cross validation:"
      ],
      "metadata": {
        "id": "pT57augi5q8z"
      }
    },
    {
      "cell_type": "code",
      "source": [
        "knn_grid = KNeighborsClassifier(best_K)\n",
        "\n",
        "scores = cross_val_score(knn_grid, X_trainval, y_trainval, cv =10, scoring = 'accuracy')\n",
        "print(\"Cross-validation scores: {}\".format(scores))\n",
        "\n",
        "print(\"Average cross-validation score: {:.2f}\".format(scores.mean()))"
      ],
      "metadata": {
        "id": "7RPboP0a5u9U",
        "colab": {
          "base_uri": "https://localhost:8080/"
        },
        "outputId": "1a6dd4ab-9f76-4e77-b404-7e81c255464c"
      },
      "execution_count": null,
      "outputs": [
        {
          "output_type": "stream",
          "name": "stdout",
          "text": [
            "Cross-validation scores: [0.98245614 1.         0.92857143 0.98214286 0.94642857 0.94642857\n",
            " 0.98214286 0.92857143 0.96428571 0.96428571]\n",
            "Average cross-validation score: 0.96\n"
          ]
        }
      ]
    },
    {
      "cell_type": "markdown",
      "source": [
        "The average cross-validation score for the parameter K = 3 is 0.96\n",
        "\n",
        "Let us find the best parameter for this model using GridSearchCV:"
      ],
      "metadata": {
        "id": "N9U9HHhR5xGj"
      }
    },
    {
      "cell_type": "code",
      "source": [
        "k_range = list(range(1, 11))\n",
        "\n",
        "param_grid = dict(n_neighbors=k_range)\n",
        "\n",
        "grid_search = GridSearchCV(KNeighborsClassifier(), param_grid, cv=10, return_train_score=True)\n",
        "\n",
        "grid_search.fit(X_trainval, y_trainval)\n",
        "\n",
        "df = pd.DataFrame(grid_search.cv_results_)\n",
        "%matplotlib inline\n",
        "x_axis = range(1,11)\n",
        "plt.plot(x_axis, df.mean_train_score, c = 'g', label = 'Train Score')\n",
        "plt.plot(x_axis, df.mean_test_score, c = 'b', label = 'Validation Score')\n",
        "plt.legend()\n",
        "plt.xlabel('k')\n",
        "plt.ylabel('MSE')\n",
        "\n",
        "print(\"Best parameters: {}\".format(grid_search.best_params_))\n",
        "print(\"Best cross-validation score: {:.2f}\".format(grid_search.best_score_))"
      ],
      "metadata": {
        "id": "3OWEXPec51YP",
        "colab": {
          "base_uri": "https://localhost:8080/",
          "height": 322
        },
        "outputId": "2fa7c21e-33f1-429d-87f8-7cb931115314"
      },
      "execution_count": null,
      "outputs": [
        {
          "output_type": "stream",
          "name": "stdout",
          "text": [
            "Best parameters: {'n_neighbors': 1}\n",
            "Best cross-validation score: 0.97\n"
          ]
        },
        {
          "output_type": "display_data",
          "data": {
            "text/plain": [
              "<Figure size 432x288 with 1 Axes>"
            ],
            "image/png": "[encoded data removed]"
          },
          "metadata": {
            "needs_background": "light"
          }
        }
      ]
    },
    {
      "cell_type": "markdown",
      "source": [
        "\n",
        "The best parameter for this model using GridSearchCV is 1. Eventhough we found the best parameter as K = 3 using the naive grid search, but with parameter K = 1, the average cross validation is 0.97 which is better than the average cross validation of the naive grid search.\n",
        "\n",
        "But we know that for parameter K = 1 in KNN-Classifier, the model is overfitted eventhough it is giving a good average cross-validation score."
      ],
      "metadata": {
        "id": "jtjKSu2z59ku"
      }
    },
    {
      "cell_type": "code",
      "source": [
        "from sklearn.metrics import confusion_matrix, classification_report\n",
        "import sklearn.metrics as metrics\n",
        " \n",
        "pred_knn = grid_search.predict(X_test)\n",
        "print(metrics.accuracy_score(y_test,pred_knn))\n",
        "\n",
        "confusion = confusion_matrix(y_test, pred_knn)\n",
        "print(\"Confusion matrix:\\n{}\".format(confusion))\n",
        "\n",
        "print(classification_report(y_test,pred_knn))"
      ],
      "metadata": {
        "id": "arPN-gSU5_gs",
        "colab": {
          "base_uri": "https://localhost:8080/"
        },
        "outputId": "dfa7c3cf-bf22-4c91-f49c-71b32ad08eb5"
      },
      "execution_count": null,
      "outputs": [
        {
          "output_type": "stream",
          "name": "stdout",
          "text": [
            "0.9840425531914894\n",
            "Confusion matrix:\n",
            "[[118   0]\n",
            " [  3  67]]\n",
            "              precision    recall  f1-score   support\n",
            "\n",
            "           0       0.98      1.00      0.99       118\n",
            "           1       1.00      0.96      0.98        70\n",
            "\n",
            "    accuracy                           0.98       188\n",
            "   macro avg       0.99      0.98      0.98       188\n",
            "weighted avg       0.98      0.98      0.98       188\n",
            "\n"
          ]
        }
      ]
    },
    {
      "cell_type": "code",
      "source": [
        "from sklearn.metrics import precision_recall_fscore_support as score\n",
        "\n",
        "precision,recall,fscore,support=score(y_test,pred_knn)\n",
        "\n",
        "print ('Recall    : {}'.format(recall[1]))"
      ],
      "metadata": {
        "id": "ai4B0Ors6H3D",
        "colab": {
          "base_uri": "https://localhost:8080/"
        },
        "outputId": "1537f3f2-6e08-4c40-d511-fa254f08a24f"
      },
      "execution_count": null,
      "outputs": [
        {
          "output_type": "stream",
          "name": "stdout",
          "text": [
            "Recall    : 0.9571428571428572\n"
          ]
        }
      ]
    },
    {
      "cell_type": "markdown",
      "source": [
        "Thus, the accuracy and recall of this model for the best parameter - K are 0.984 and 0.957.\n",
        "\n"
      ],
      "metadata": {
        "id": "P4K8sC9x6Kop"
      }
    },
    {
      "cell_type": "code",
      "source": [
        "Classification_Scores={}\n",
        "\n",
        "Classification_Scores.update({'KNN Classification':[metrics.accuracy_score(y_test,pred_knn),recall[1]]})"
      ],
      "metadata": {
        "id": "3pZj-M2W6LYD"
      },
      "execution_count": null,
      "outputs": []
    },
    {
      "cell_type": "code",
      "source": [
        "columns = ['Classifier','Best Parameters','Accuracy_Score','Recall of 1']\n",
        "clf_model_para = pd.DataFrame(columns=columns)\n",
        "\n",
        "clf_model_para=clf_model_para.append({'Classifier':'KNN Classification',\n",
        "                                      'Best Parameters':grid_search.best_params_,\n",
        "                                      'Accuracy_Score':metrics.accuracy_score(y_test,pred_knn),\n",
        "                                      'Recall of 1':recall[1]},ignore_index=True)"
      ],
      "metadata": {
        "id": "1-fCMRmJ6Owt"
      },
      "execution_count": null,
      "outputs": []
    },
    {
      "cell_type": "markdown",
      "source": [
        "<b><font color=red>**Logistic Regression**"
      ],
      "metadata": {
        "id": "aqdPtkWl7xJT"
      }
    },
    {
      "cell_type": "code",
      "source": [
        "# import warnings filter\n",
        "from warnings import simplefilter\n",
        "# ignore all future warnings\n",
        "simplefilter(action='ignore', category=FutureWarning)\n",
        "\n",
        "from sklearn.linear_model import LogisticRegression\n",
        "\n",
        "c_range = [0.001, 0.01, 0.1, 1, 10, 100, 1000]\n",
        "train_score_l1 = []\n",
        "train_score_l2 = []\n",
        "valid_score_l1 = []\n",
        "valid_score_l2 = []\n",
        "\n",
        "best_score = 0\n",
        "l1 = 'l1'\n",
        "l2 = 'l2'\n",
        "\n",
        "for c in c_range:\n",
        "    log_l1 = LogisticRegression(penalty = 'l1', C = c, solver='liblinear')\n",
        "    log_l2 = LogisticRegression(penalty = 'l2', C = c, solver='liblinear')\n",
        "    \n",
        "    log_l1.fit(X_train, y_train)\n",
        "    log_l2.fit(X_train, y_train)\n",
        "    \n",
        "    train_score_l1.append(log_l1.score(X_train, y_train))\n",
        "    train_score_l2.append(log_l2.score(X_train, y_train))\n",
        "    \n",
        "    score = log_l1.score(X_valid, y_valid)\n",
        "    valid_score_l1.append(score)\n",
        "    if score > best_score:\n",
        "            best_score = score\n",
        "            best_parameters = {'C': c , 'penalty': l1}\n",
        "            best_C = c\n",
        "            best_Penalty = 'l1'\n",
        "    \n",
        "    score = log_l2.score(X_valid, y_valid)\n",
        "    valid_score_l2.append(score)\n",
        "    if score > best_score:\n",
        "            best_score = score\n",
        "            best_parameters = {'C': c , 'penalty' : l2}\n",
        "            best_C = c\n",
        "            best_Penalty = 'l2'\n",
        "    \n",
        "plt.subplot(1,2,1)\n",
        "plt.plot(c_range, train_score_l1, label = 'Train score, penalty = l1')\n",
        "plt.plot(c_range, valid_score_l1, label = 'Test score, penalty = l1')\n",
        "plt.xscale('log')\n",
        "plt.legend()\n",
        "plt.subplot(1,2,2)\n",
        "plt.plot(c_range, train_score_l2, label = 'Train score, penalty = l2')\n",
        "plt.plot(c_range, valid_score_l2, label = 'Test score, penalty = l2')\n",
        "plt.xscale('log')\n",
        "plt.legend()\n",
        "\n",
        "print(\"Best score: {:.2f}\".format(best_score))\n",
        "print(\"Best parameters: {}\".format(best_parameters))"
      ],
      "metadata": {
        "id": "m3ys_J2W7whf",
        "colab": {
          "base_uri": "https://localhost:8080/",
          "height": 311
        },
        "outputId": "e42608b1-6f9d-481e-b311-6cc695158ba5"
      },
      "execution_count": null,
      "outputs": [
        {
          "output_type": "stream",
          "name": "stdout",
          "text": [
            "Best score: 0.98\n",
            "Best parameters: {'C': 100, 'penalty': 'l1'}\n"
          ]
        },
        {
          "output_type": "display_data",
          "data": {
            "text/plain": [
              "<Figure size 432x288 with 2 Axes>"
            ],
            "image/png": "[encoded data removed]"
          },
          "metadata": {
            "needs_background": "light"
          }
        }
      ]
    },
    {
      "cell_type": "code",
      "source": [
        "log_grid = LogisticRegression(penalty = best_Penalty, C = best_C, solver='liblinear')\n",
        "\n",
        "scores = cross_val_score(log_grid, X_trainval, y_trainval, cv =10, scoring = 'accuracy')\n",
        "print(\"Cross-validation scores: {}\".format(scores))\n",
        "\n",
        "print(\"Average cross-validation score: {:.2f}\".format(scores.mean()))"
      ],
      "metadata": {
        "id": "B8PAvY7BDY_c",
        "colab": {
          "base_uri": "https://localhost:8080/"
        },
        "outputId": "a1bc3996-d777-471a-aba3-1da3b6bf99af"
      },
      "execution_count": null,
      "outputs": [
        {
          "output_type": "stream",
          "name": "stdout",
          "text": [
            "Cross-validation scores: [1.         1.         0.98214286 0.96428571 0.96428571 0.98214286\n",
            " 1.         1.         0.98214286 1.        ]\n",
            "Average cross-validation score: 0.99\n"
          ]
        }
      ]
    },
    {
      "cell_type": "code",
      "source": [
        "param_grid = {'penalty': ['l1','l2'],\n",
        "             'C':  [0.001, 0.01, 0.1, 1, 10, 100],\n",
        "              'solver':['liblinear']}\n",
        "\n",
        "grid_search = GridSearchCV(LogisticRegression(max_iter=10000), param_grid, cv=10, return_train_score=True)\n",
        "\n",
        "grid_search.fit(X_trainval, y_trainval)\n",
        "\n",
        "print(\"Best parameters: {}\".format(grid_search.best_params_))\n",
        "print(\"Best cross-validation score: {:.2f}\".format(grid_search.best_score_))"
      ],
      "metadata": {
        "id": "z_VlDXnrDahw",
        "colab": {
          "base_uri": "https://localhost:8080/"
        },
        "outputId": "56e620f5-d435-45cc-b9bf-1113a85cdef4"
      },
      "execution_count": null,
      "outputs": [
        {
          "output_type": "stream",
          "name": "stdout",
          "text": [
            "Best parameters: {'C': 100, 'penalty': 'l1', 'solver': 'liblinear'}\n",
            "Best cross-validation score: 0.99\n"
          ]
        }
      ]
    },
    {
      "cell_type": "code",
      "source": [
        "pred_log = grid_search.predict(X_test)\n",
        "print(metrics.accuracy_score(y_test,pred_log))\n",
        "\n",
        "confusion = confusion_matrix(y_test, pred_log)\n",
        "print(\"Confusion matrix:\\n{}\".format(confusion))\n",
        "\n",
        "print(classification_report(y_test,pred_log))"
      ],
      "metadata": {
        "id": "b4U6FBdADcoo",
        "colab": {
          "base_uri": "https://localhost:8080/"
        },
        "outputId": "c6651a63-477f-4fe5-efeb-26a85cab821e"
      },
      "execution_count": null,
      "outputs": [
        {
          "output_type": "stream",
          "name": "stdout",
          "text": [
            "0.9946808510638298\n",
            "Confusion matrix:\n",
            "[[118   0]\n",
            " [  1  69]]\n",
            "              precision    recall  f1-score   support\n",
            "\n",
            "           0       0.99      1.00      1.00       118\n",
            "           1       1.00      0.99      0.99        70\n",
            "\n",
            "    accuracy                           0.99       188\n",
            "   macro avg       1.00      0.99      0.99       188\n",
            "weighted avg       0.99      0.99      0.99       188\n",
            "\n"
          ]
        }
      ]
    },
    {
      "cell_type": "code",
      "source": [
        "from sklearn.metrics import precision_recall_fscore_support as score\n",
        "\n",
        "precision,recall,fscore,support=score(y_test,pred_log)\n",
        "\n",
        "print ('Recall    : {}'.format(recall[1]))"
      ],
      "metadata": {
        "id": "qv-IHBAFDeKc",
        "colab": {
          "base_uri": "https://localhost:8080/"
        },
        "outputId": "48836245-cd82-4da7-d904-911bd504f941"
      },
      "execution_count": null,
      "outputs": [
        {
          "output_type": "stream",
          "name": "stdout",
          "text": [
            "Recall    : 0.9857142857142858\n"
          ]
        }
      ]
    },
    {
      "cell_type": "code",
      "source": [
        "Classification_Scores.update({'Logistic Classification':[metrics.accuracy_score(y_test,pred_log),recall[1]]})\n",
        "clf_model_para=clf_model_para.append({'Classifier':'Logistic Classification',\n",
        "                                      'Best Parameters':grid_search.best_params_,\n",
        "                                      'Accuracy_Score':metrics.accuracy_score(y_test,pred_log),\n",
        "                                      'Recall of 1':recall[1]},ignore_index=True)"
      ],
      "metadata": {
        "id": "D17ChImLDf0T"
      },
      "execution_count": null,
      "outputs": []
    },
    {
      "cell_type": "markdown",
      "source": [
        "<b><font color=red>**SVM - Linear SVC**"
      ],
      "metadata": {
        "id": "5y0ldLM38nCZ"
      }
    },
    {
      "cell_type": "code",
      "source": [
        "from sklearn.svm import LinearSVC\n",
        "\n",
        "train_score_list = []\n",
        "valid_score_list = []\n",
        "\n",
        "best_score = 0\n",
        "\n",
        "for C in [0.001, 0.01, 0.1, 1, 10, 100]:\n",
        "    linear_svc = LinearSVC(C=C, max_iter=10000)\n",
        "    linear_svc.fit(X_train,y_train)\n",
        "    train_score_list.append(linear_svc.score(X_train,y_train))\n",
        "    score = linear_svc.score(X_valid, y_valid)\n",
        "    valid_score_list.append(score)\n",
        "    if score > best_score:\n",
        "        best_score = score\n",
        "        best_parameters = {'C' : C}\n",
        "        best_C = C\n",
        "\n",
        "x_range = [0.001, 0.01, 0.1, 1, 10, 100]\n",
        "plt.plot(x_range, train_score_list, c = 'g', label = 'Train Score')\n",
        "plt.plot(x_range, valid_score_list, c = 'b', label = 'Validation Score')\n",
        "plt.xscale('log')\n",
        "plt.legend(loc = 3)\n",
        "plt.xlabel('Regularization parameter')\n",
        "\n",
        "print(\"Best score: {:.2f}\".format(best_score))\n",
        "print(\"Best parameters: {}\".format(best_parameters))"
      ],
      "metadata": {
        "id": "WNJq5RyU7weG",
        "colab": {
          "base_uri": "https://localhost:8080/",
          "height": 327
        },
        "outputId": "a740b10f-d3d1-47bd-c9d5-565ad0bfccac"
      },
      "execution_count": null,
      "outputs": [
        {
          "output_type": "stream",
          "name": "stdout",
          "text": [
            "Best score: 0.96\n",
            "Best parameters: {'C': 1}\n"
          ]
        },
        {
          "output_type": "display_data",
          "data": {
            "text/plain": [
              "<Figure size 432x288 with 1 Axes>"
            ],
            "image/png": "[encoded data removed]"
          },
          "metadata": {
            "needs_background": "light"
          }
        }
      ]
    },
    {
      "cell_type": "code",
      "source": [
        "linear_svc_grid = LinearSVC(C = best_C, max_iter=10000)\n",
        "scores = cross_val_score(linear_svc_grid, X_trainval, y_trainval, cv = 10, scoring = 'accuracy')\n",
        "print(\"Cross-validation scores: {}\".format(scores))\n",
        "\n",
        "print(\"Average cross-validation score: {:.2f}\".format(scores.mean()))"
      ],
      "metadata": {
        "colab": {
          "base_uri": "https://localhost:8080/"
        },
        "id": "MLTA5iT0cGkJ",
        "outputId": "2834a8e3-89bf-4f18-8b38-3441488dc21d"
      },
      "execution_count": null,
      "outputs": [
        {
          "output_type": "stream",
          "name": "stdout",
          "text": [
            "Cross-validation scores: [0.96491228 0.98245614 0.94642857 0.98214286 0.94642857 0.98214286\n",
            " 0.98214286 0.98214286 0.96428571 1.        ]\n",
            "Average cross-validation score: 0.97\n"
          ]
        }
      ]
    },
    {
      "cell_type": "code",
      "source": [
        "param_grid = {'C': [0.001, 0.01, 0.1, 1, 10, 100]}\n",
        "grid_search = GridSearchCV(LinearSVC(max_iter=10000), param_grid, cv=10, return_train_score=True)\n",
        "\n",
        "grid_search.fit(X_trainval, y_trainval)\n",
        "\n",
        "df = pd.DataFrame(grid_search.cv_results_)\n",
        "%matplotlib inline\n",
        "plt.plot(x_range, df.mean_train_score, c = 'g', label = 'Train Score')\n",
        "plt.plot(x_range, df.mean_test_score, c = 'b', label = 'Validation Score')\n",
        "plt.xscale('log')\n",
        "plt.legend(loc = 3)\n",
        "plt.xlabel('Regularization Parameter')\n",
        "\n",
        "print(\"Best parameters: {}\".format(grid_search.best_params_))\n",
        "print(\"Best cross-validation score: {:.2f}\".format(grid_search.best_score_))"
      ],
      "metadata": {
        "colab": {
          "base_uri": "https://localhost:8080/",
          "height": 327
        },
        "id": "gh1AC-KEcGWN",
        "outputId": "2d24744f-c379-4e29-f2b0-d25979d52814"
      },
      "execution_count": null,
      "outputs": [
        {
          "output_type": "stream",
          "name": "stdout",
          "text": [
            "Best parameters: {'C': 100}\n",
            "Best cross-validation score: 0.98\n"
          ]
        },
        {
          "output_type": "display_data",
          "data": {
            "text/plain": [
              "<Figure size 432x288 with 1 Axes>"
            ],
            "image/png": "[encoded data removed]"
          },
          "metadata": {
            "needs_background": "light"
          }
        }
      ]
    },
    {
      "cell_type": "code",
      "source": [
        "pred_linear_svc = grid_search.predict(X_test)\n",
        "print(metrics.accuracy_score(y_test,pred_linear_svc))\n",
        "\n",
        "confusion = confusion_matrix(y_test, pred_linear_svc)\n",
        "print(\"Confusion matrix:\\n{}\".format(confusion))\n",
        "\n",
        "print(classification_report(y_test,pred_linear_svc))"
      ],
      "metadata": {
        "colab": {
          "base_uri": "https://localhost:8080/"
        },
        "id": "Xlh6TTupcVnv",
        "outputId": "2b7d5210-066f-438d-eaea-ca4acfaebc71"
      },
      "execution_count": null,
      "outputs": [
        {
          "output_type": "stream",
          "name": "stdout",
          "text": [
            "0.9893617021276596\n",
            "Confusion matrix:\n",
            "[[118   0]\n",
            " [  2  68]]\n",
            "              precision    recall  f1-score   support\n",
            "\n",
            "           0       0.98      1.00      0.99       118\n",
            "           1       1.00      0.97      0.99        70\n",
            "\n",
            "    accuracy                           0.99       188\n",
            "   macro avg       0.99      0.99      0.99       188\n",
            "weighted avg       0.99      0.99      0.99       188\n",
            "\n"
          ]
        }
      ]
    },
    {
      "cell_type": "code",
      "source": [
        "from sklearn.metrics import precision_recall_fscore_support as score\n",
        "\n",
        "precision,recall,fscore,support=score(y_test,pred_linear_svc)\n",
        "\n",
        "print ('Recall    : {}'.format(recall[1]))"
      ],
      "metadata": {
        "colab": {
          "base_uri": "https://localhost:8080/"
        },
        "id": "Y1hSoy5icVkO",
        "outputId": "4b467471-175e-4fcb-d214-9ca895d8021f"
      },
      "execution_count": null,
      "outputs": [
        {
          "output_type": "stream",
          "name": "stdout",
          "text": [
            "Recall    : 0.9714285714285714\n"
          ]
        }
      ]
    },
    {
      "cell_type": "code",
      "source": [
        "Classification_Scores.update({'Linear_SVC':[metrics.accuracy_score(y_test,pred_linear_svc),recall[1]]})"
      ],
      "metadata": {
        "id": "2PSL80MFcVgf"
      },
      "execution_count": null,
      "outputs": []
    },
    {
      "cell_type": "code",
      "source": [
        "clf_model_para=clf_model_para.append({'Classifier':'Linear_SVC',\n",
        "                                      'Best Parameters':grid_search.best_params_,\n",
        "                                      'Accuracy_Score':metrics.accuracy_score(y_test,pred_linear_svc),\n",
        "                                      'Recall of 1':recall[1]},ignore_index=True)"
      ],
      "metadata": {
        "id": "3BGUK2zpceTg"
      },
      "execution_count": null,
      "outputs": []
    },
    {
      "cell_type": "markdown",
      "source": [
        "<b><font color=red>**SVM - RBF**"
      ],
      "metadata": {
        "id": "7_ci-2P89siY"
      }
    },
    {
      "cell_type": "code",
      "source": [
        "from sklearn.svm import SVC\n",
        "\n",
        "train_score_list = []\n",
        "valid_score_list = []\n",
        "\n",
        "best_score = 0\n",
        "\n",
        "for gamma in [0.001, 0.01, 0.1, 1, 10, 100]:\n",
        "    for C in [0.001, 0.01, 0.1, 1, 10, 100]:\n",
        "        svc_rbf = SVC(kernel='rbf', gamma=gamma, C=C)\n",
        "        svc_rbf.fit(X_train,y_train)\n",
        "        train_score_list.append(svc_rbf.score(X_train,y_train))\n",
        "        score = svc_rbf.score(X_valid, y_valid)\n",
        "        valid_score_list.append(score)\n",
        "        if score > best_score:\n",
        "            best_score = score\n",
        "            best_parameters = {'gamma': gamma , 'C' : C}\n",
        "            best_Gamma = gamma\n",
        "            best_C = C\n",
        "\n",
        "print(\"Best score: {:.2f}\".format(best_score))\n",
        "print(\"Best parameters: {}\".format(best_parameters))"
      ],
      "metadata": {
        "colab": {
          "base_uri": "https://localhost:8080/"
        },
        "id": "D9ERL4xJcixD",
        "outputId": "5c337114-3d16-4827-ec07-13b110cdcfd0"
      },
      "execution_count": null,
      "outputs": [
        {
          "output_type": "stream",
          "name": "stdout",
          "text": [
            "Best score: 0.96\n",
            "Best parameters: {'gamma': 0.01, 'C': 100}\n"
          ]
        }
      ]
    },
    {
      "cell_type": "code",
      "source": [
        "svc_rbf_grid = SVC(kernel='rbf', gamma = best_Gamma, C = best_C)\n",
        "\n",
        "scores = cross_val_score(svc_rbf_grid, X_trainval, y_trainval, cv =10, scoring = 'accuracy')\n",
        "print(\"Cross-validation scores: {}\".format(scores))\n",
        "\n",
        "print(\"Average cross-validation score: {:.2f}\".format(scores.mean()))"
      ],
      "metadata": {
        "colab": {
          "base_uri": "https://localhost:8080/"
        },
        "id": "dARkTvlbcitn",
        "outputId": "349f7f47-10b2-47f2-c82f-a4298749e7f5"
      },
      "execution_count": null,
      "outputs": [
        {
          "output_type": "stream",
          "name": "stdout",
          "text": [
            "Cross-validation scores: [0.98245614 1.         0.92857143 0.96428571 0.94642857 0.96428571\n",
            " 0.96428571 0.96428571 0.96428571 1.        ]\n",
            "Average cross-validation score: 0.97\n"
          ]
        }
      ]
    },
    {
      "cell_type": "code",
      "source": [
        "param_grid = {'gamma': [0.001, 0.01, 0.1, 1, 10, 100],\n",
        "             'C': [0.001, 0.01, 0.1, 1, 10, 100]}\n",
        "\n",
        "grid_search = GridSearchCV(SVC(kernel='rbf'), param_grid, cv=10, return_train_score=True)\n",
        "\n",
        "grid_search.fit(X_trainval, y_trainval)\n",
        "\n",
        "print(\"Best parameters: {}\".format(grid_search.best_params_))\n",
        "print(\"Best cross-validation score: {:.2f}\".format(grid_search.best_score_))"
      ],
      "metadata": {
        "colab": {
          "base_uri": "https://localhost:8080/"
        },
        "id": "ciDp2-MJciq6",
        "outputId": "a262818b-27d0-4f88-9f37-15b9bc852d5b"
      },
      "execution_count": null,
      "outputs": [
        {
          "output_type": "stream",
          "name": "stdout",
          "text": [
            "Best parameters: {'C': 100, 'gamma': 0.1}\n",
            "Best cross-validation score: 0.98\n"
          ]
        }
      ]
    },
    {
      "cell_type": "code",
      "source": [
        "pred_rbf = grid_search.predict(X_test)\n",
        "print(metrics.accuracy_score(y_test,pred_rbf))\n",
        "\n",
        "confusion = confusion_matrix(y_test, pred_rbf)\n",
        "print(\"Confusion matrix:\\n{}\".format(confusion))\n",
        "\n",
        "print(classification_report(y_test,pred_rbf))"
      ],
      "metadata": {
        "colab": {
          "base_uri": "https://localhost:8080/"
        },
        "id": "AUT79ZREcioY",
        "outputId": "67a8d248-bfef-42ec-b27a-6a9977fdaf42"
      },
      "execution_count": null,
      "outputs": [
        {
          "output_type": "stream",
          "name": "stdout",
          "text": [
            "0.9787234042553191\n",
            "Confusion matrix:\n",
            "[[117   1]\n",
            " [  3  67]]\n",
            "              precision    recall  f1-score   support\n",
            "\n",
            "           0       0.97      0.99      0.98       118\n",
            "           1       0.99      0.96      0.97        70\n",
            "\n",
            "    accuracy                           0.98       188\n",
            "   macro avg       0.98      0.97      0.98       188\n",
            "weighted avg       0.98      0.98      0.98       188\n",
            "\n"
          ]
        }
      ]
    },
    {
      "cell_type": "code",
      "source": [
        "from sklearn.metrics import precision_recall_fscore_support as score\n",
        "\n",
        "precision,recall,fscore,support=score(y_test,pred_rbf)\n",
        "\n",
        "print ('Recall    : {}'.format(recall[1]))"
      ],
      "metadata": {
        "colab": {
          "base_uri": "https://localhost:8080/"
        },
        "id": "2U0DKZuWcil7",
        "outputId": "22078908-0aee-42cd-8874-059dc7262904"
      },
      "execution_count": null,
      "outputs": [
        {
          "output_type": "stream",
          "name": "stdout",
          "text": [
            "Recall    : 0.9571428571428572\n"
          ]
        }
      ]
    },
    {
      "cell_type": "code",
      "source": [
        "Classification_Scores.update({'SVC RBF Kernel':[metrics.accuracy_score(y_test,pred_rbf),recall[1]]})"
      ],
      "metadata": {
        "id": "1g7FlMydc-6d"
      },
      "execution_count": null,
      "outputs": []
    },
    {
      "cell_type": "code",
      "source": [
        "clf_model_para=clf_model_para.append({'Classifier':'SVC RBF Kernel',\n",
        "                                      'Best Parameters':grid_search.best_params_,\n",
        "                                      'Accuracy_Score':metrics.accuracy_score(y_test,pred_rbf),\n",
        "                                      'Recall of 1':recall[1]},ignore_index=True)"
      ],
      "metadata": {
        "id": "Kjeryf78c-2_"
      },
      "execution_count": null,
      "outputs": []
    },
    {
      "cell_type": "markdown",
      "source": [
        "<b><font color=red>**SVM - Poly**"
      ],
      "metadata": {
        "id": "g8gOBYCS950C"
      }
    },
    {
      "cell_type": "code",
      "source": [
        "train_score_list = []\n",
        "valid_score_list = []\n",
        "\n",
        "best_score = 0\n",
        "\n",
        "for degree in range(1,5):\n",
        "    for C in [0.001, 0.01, 0.1, 1, 10, 100]:\n",
        "        for gamma in [0.001, 0.01, 0.1, 1, 10, 100]:\n",
        "            svc_poly = SVC(kernel='poly', degree = degree, C=C, gamma = gamma)\n",
        "            svc_poly.fit(X_train,y_train)\n",
        "            train_score_list.append(svc_poly.score(X_train,y_train))\n",
        "            score = svc_poly.score(X_valid, y_valid)\n",
        "            valid_score_list.append(score)\n",
        "            if score > best_score:\n",
        "                best_score = score\n",
        "                best_parameters = {'degree': degree , 'C' : C, 'gamma' : gamma}\n",
        "                best_Degree = degree\n",
        "                best_C = C\n",
        "                best_gamma = gamma\n",
        "\n",
        "print(\"Best score: {:.2f}\".format(best_score))\n",
        "print(\"Best parameters: {}\".format(best_parameters))"
      ],
      "metadata": {
        "colab": {
          "base_uri": "https://localhost:8080/"
        },
        "id": "cQP51Q0mdJkq",
        "outputId": "5331eef3-6323-4194-fed4-3b7eb498d38a"
      },
      "execution_count": null,
      "outputs": [
        {
          "output_type": "stream",
          "name": "stdout",
          "text": [
            "Best score: 0.98\n",
            "Best parameters: {'degree': 1, 'C': 10, 'gamma': 100}\n"
          ]
        }
      ]
    },
    {
      "cell_type": "code",
      "source": [
        "svc_poly_grid = SVC(kernel='poly',degree = best_Degree, C=best_C, gamma = best_Gamma)\n",
        "\n",
        "scores = cross_val_score(svc_poly_grid, X_trainval, y_trainval, cv =10, scoring = 'accuracy')\n",
        "print(\"Cross-validation scores: {}\".format(scores))\n",
        "\n",
        "print(\"Average cross-validation score: {:.2f}\".format(scores.mean()))"
      ],
      "metadata": {
        "colab": {
          "base_uri": "https://localhost:8080/"
        },
        "id": "wtjsyHGEdJhC",
        "outputId": "eaf227a7-38cb-407f-bf43-1efaa7e2d145"
      },
      "execution_count": null,
      "outputs": [
        {
          "output_type": "stream",
          "name": "stdout",
          "text": [
            "Cross-validation scores: [0.98245614 0.96491228 0.94642857 0.92857143 0.94642857 0.94642857\n",
            " 0.98214286 0.96428571 0.96428571 1.        ]\n",
            "Average cross-validation score: 0.96\n"
          ]
        }
      ]
    },
    {
      "cell_type": "code",
      "source": [
        "pred_poly = grid_search.predict(X_test)\n",
        "print(metrics.accuracy_score(y_test,pred_poly))\n",
        "\n",
        "confusion = confusion_matrix(y_test, pred_poly)\n",
        "print(\"Confusion matrix:\\n{}\".format(confusion))\n",
        "\n",
        "print(classification_report(y_test,pred_poly))"
      ],
      "metadata": {
        "colab": {
          "base_uri": "https://localhost:8080/"
        },
        "id": "9CgHgR51dJep",
        "outputId": "acc816dc-cd9b-4288-9c45-e390cce0f7c6"
      },
      "execution_count": null,
      "outputs": [
        {
          "output_type": "stream",
          "name": "stdout",
          "text": [
            "0.9787234042553191\n",
            "Confusion matrix:\n",
            "[[117   1]\n",
            " [  3  67]]\n",
            "              precision    recall  f1-score   support\n",
            "\n",
            "           0       0.97      0.99      0.98       118\n",
            "           1       0.99      0.96      0.97        70\n",
            "\n",
            "    accuracy                           0.98       188\n",
            "   macro avg       0.98      0.97      0.98       188\n",
            "weighted avg       0.98      0.98      0.98       188\n",
            "\n"
          ]
        }
      ]
    },
    {
      "cell_type": "code",
      "source": [
        "from sklearn.metrics import precision_recall_fscore_support as score\n",
        "\n",
        "precision,recall,fscore,support=score(y_test,pred_poly)\n",
        "\n",
        "print ('Recall    : {}'.format(recall[1]))"
      ],
      "metadata": {
        "colab": {
          "base_uri": "https://localhost:8080/"
        },
        "id": "vYceCe4HdJcC",
        "outputId": "0ae48752-942b-4404-8ecb-5abf07d3c70c"
      },
      "execution_count": null,
      "outputs": [
        {
          "output_type": "stream",
          "name": "stdout",
          "text": [
            "Recall    : 0.9571428571428572\n"
          ]
        }
      ]
    },
    {
      "cell_type": "code",
      "source": [
        "Classification_Scores.update({'SVC Poly Kernel':[metrics.accuracy_score(y_test,pred_poly),recall[1]]})"
      ],
      "metadata": {
        "id": "7QPBYCV8dJZe"
      },
      "execution_count": null,
      "outputs": []
    },
    {
      "cell_type": "code",
      "source": [
        "clf_model_para=clf_model_para.append({'Classifier':'SVC Poly Kernel',\n",
        "                                      'Best Parameters':grid_search.best_params_,\n",
        "                                      'Accuracy_Score':metrics.accuracy_score(y_test,pred_poly),\n",
        "                                      'Recall of 1':recall[1]},ignore_index=True)"
      ],
      "metadata": {
        "id": "5za2GoZFfGj-"
      },
      "execution_count": null,
      "outputs": []
    },
    {
      "cell_type": "markdown",
      "source": [
        "<b><font color=red>**Decision Tree**"
      ],
      "metadata": {
        "id": "jokGYfD095JU"
      }
    },
    {
      "cell_type": "markdown",
      "source": [
        "A decision tree is a flowchart-like tree structure where an internal node represents feature, the branch represents a decision rule, and each leaf node represents the outcome. The topmost node in a decision tree is known as the root node. It learns to partition on the basis of the attribute value. It partitions the tree in recursively manner call recursive partitioning. This flowchart-like structure helps you in decision making."
      ],
      "metadata": {
        "id": "9RX-pEj0Fgz7"
      }
    },
    {
      "cell_type": "code",
      "source": [
        "from sklearn.tree import DecisionTreeClassifier\n",
        "\n",
        "dtree = DecisionTreeClassifier()\n",
        "\n",
        "dtree.fit(X_trainval, y_trainval)\n",
        "print(\"Accuracy on training set: {:.3f}\".format(dtree.score(X_trainval, y_trainval)))\n",
        "print(\"Accuracy on test set: {:.3f}\".format(dtree.score(X_test, y_test)))"
      ],
      "metadata": {
        "id": "gjsSNY5a7wao",
        "colab": {
          "base_uri": "https://localhost:8080/"
        },
        "outputId": "b878b08e-894e-4677-aa3b-5844f5f21fef"
      },
      "execution_count": null,
      "outputs": [
        {
          "output_type": "stream",
          "name": "stdout",
          "text": [
            "Accuracy on training set: 1.000\n",
            "Accuracy on test set: 1.000\n"
          ]
        }
      ]
    },
    {
      "cell_type": "markdown",
      "source": [
        "As we have not mentioned any max_depth in our classifier, nodes are expanded until all leaves are pure because of which we are getting an accuracy of 1.00 on the training set. We are also getting an accuracy of 1 on the testing set."
      ],
      "metadata": {
        "id": "vfrl3288Fp8-"
      }
    },
    {
      "cell_type": "markdown",
      "source": [
        "Let us check for the average cross-validation score for this model using cross_val_score.\n",
        "\n"
      ],
      "metadata": {
        "id": "Iey8qJmXFtFV"
      }
    },
    {
      "cell_type": "code",
      "source": [
        "dtree_cv = DecisionTreeClassifier()\n",
        "scores = cross_val_score(dtree_cv, X_trainval, y_trainval, cv = 10, scoring = 'accuracy' )\n",
        "print(\"Cross-validation scores: {}\".format(scores))\n",
        "\n",
        "print(\"Average cross-validation score: {:.2f}\".format(scores.mean()))"
      ],
      "metadata": {
        "id": "3wVbRztEFvF4",
        "colab": {
          "base_uri": "https://localhost:8080/"
        },
        "outputId": "71c72f5c-e20d-48d5-aed9-8a81c26cdfde"
      },
      "execution_count": null,
      "outputs": [
        {
          "output_type": "stream",
          "name": "stdout",
          "text": [
            "Cross-validation scores: [1.         1.         0.98214286 1.         0.98214286 1.\n",
            " 1.         1.         1.         1.        ]\n",
            "Average cross-validation score: 1.00\n"
          ]
        }
      ]
    },
    {
      "cell_type": "markdown",
      "source": [
        "The average cross-validation score for this model is 0.99. As there are no parameters in this model, Grid-Search is not required to be performed.\n",
        "\n"
      ],
      "metadata": {
        "id": "fEuuu18RFx5P"
      }
    },
    {
      "cell_type": "code",
      "source": [
        "pred_tree = dtree.predict(X_test)\n",
        "print(metrics.accuracy_score(y_test,pred_tree))\n",
        "\n",
        "confusion = confusion_matrix(y_test, pred_tree)\n",
        "print(\"Confusion matrix:\\n{}\".format(confusion))\n",
        "\n",
        "print(classification_report(y_test,pred_tree))"
      ],
      "metadata": {
        "id": "_o3Yi-A-F1US",
        "colab": {
          "base_uri": "https://localhost:8080/"
        },
        "outputId": "b3aebe7e-faaf-48e8-fb8b-e7605e49e9c6"
      },
      "execution_count": null,
      "outputs": [
        {
          "output_type": "stream",
          "name": "stdout",
          "text": [
            "1.0\n",
            "Confusion matrix:\n",
            "[[118   0]\n",
            " [  0  70]]\n",
            "              precision    recall  f1-score   support\n",
            "\n",
            "           0       1.00      1.00      1.00       118\n",
            "           1       1.00      1.00      1.00        70\n",
            "\n",
            "    accuracy                           1.00       188\n",
            "   macro avg       1.00      1.00      1.00       188\n",
            "weighted avg       1.00      1.00      1.00       188\n",
            "\n"
          ]
        }
      ]
    },
    {
      "cell_type": "code",
      "source": [
        "from sklearn.metrics import precision_recall_fscore_support as score\n",
        "\n",
        "precision,recall,fscore,support=score(y_test,pred_tree)\n",
        "\n",
        "print ('Recall    : {}'.format(recall[1]))"
      ],
      "metadata": {
        "id": "ka-2p-soGBdb",
        "colab": {
          "base_uri": "https://localhost:8080/"
        },
        "outputId": "7b1a0bb6-4fdb-43e5-cfc8-7aaa72c8c133"
      },
      "execution_count": null,
      "outputs": [
        {
          "output_type": "stream",
          "name": "stdout",
          "text": [
            "Recall    : 1.0\n"
          ]
        }
      ]
    },
    {
      "cell_type": "markdown",
      "source": [
        "Thus, the accuracy and recall of this model are 1.00 and 1.00 respectively.\n",
        "\n"
      ],
      "metadata": {
        "id": "nQZ_5519F5pz"
      }
    },
    {
      "cell_type": "code",
      "source": [
        "Classification_Scores.update({'Decison Tree':[metrics.accuracy_score(y_test,pred_tree),recall[1]]})\n"
      ],
      "metadata": {
        "id": "iLfHfDbnF9w7"
      },
      "execution_count": null,
      "outputs": []
    },
    {
      "cell_type": "code",
      "source": [
        "clf_model_para=clf_model_para.append({'Classifier':'Decision Tree',\n",
        "                                      'Best Parameters':' ',\n",
        "                                      'Accuracy_Score':metrics.accuracy_score(y_test,pred_tree),\n",
        "                                      'Recall of 1':recall[1]},ignore_index=True)"
      ],
      "metadata": {
        "id": "tmqBn6q-GGvL"
      },
      "execution_count": null,
      "outputs": []
    },
    {
      "cell_type": "markdown",
      "source": [
        "<h1> <font color='blue'><b>Best Classifier"
      ],
      "metadata": {
        "id": "uz7z4TjpIpGN"
      }
    },
    {
      "cell_type": "markdown",
      "source": [
        "Let's check for the accuracy score and recall for all the above model:"
      ],
      "metadata": {
        "id": "YaC47uJ_I5dU"
      }
    },
    {
      "cell_type": "code",
      "source": [
        "clf_model_para"
      ],
      "metadata": {
        "colab": {
          "base_uri": "https://localhost:8080/",
          "height": 237
        },
        "id": "lPKmQk4HIo0M",
        "outputId": "fbdba10a-0d7a-4fb8-99d7-16c2b27498bb"
      },
      "execution_count": null,
      "outputs": [
        {
          "output_type": "execute_result",
          "data": {
            "text/plain": [
              "                Classifier                                    Best Parameters  \\\n",
              "0       KNN Classification                                 {'n_neighbors': 1}   \n",
              "1  Logistic Classification  {'C': 100, 'penalty': 'l1', 'solver': 'libline...   \n",
              "2               Linear_SVC                                         {'C': 100}   \n",
              "3           SVC RBF Kernel                           {'C': 100, 'gamma': 0.1}   \n",
              "4          SVC Poly Kernel                           {'C': 100, 'gamma': 0.1}   \n",
              "5            Decision Tree                                                      \n",
              "\n",
              "   Accuracy_Score  Recall of 1  \n",
              "0        0.984043     0.957143  \n",
              "1        0.994681     0.985714  \n",
              "2        0.989362     0.971429  \n",
              "3        0.978723     0.957143  \n",
              "4        0.978723     0.957143  \n",
              "5        1.000000     1.000000  "
            ],
            "text/html": [
              "\n",
              "  <div id=\"df-05df2e62-ec9a-4704-a502-f9c5050d2ed2\">\n",
              "    <div class=\"colab-df-container\">\n",
              "      <div>\n",
              "<style scoped>\n",
              "    .dataframe tbody tr th:only-of-type {\n",
              "        vertical-align: middle;\n",
              "    }\n",
              "\n",
              "    .dataframe tbody tr th {\n",
              "        vertical-align: top;\n",
              "    }\n",
              "\n",
              "    .dataframe thead th {\n",
              "        text-align: right;\n",
              "    }\n",
              "</style>\n",
              "<table border=\"1\" class=\"dataframe\">\n",
              "  <thead>\n",
              "    <tr style=\"text-align: right;\">\n",
              "      <th></th>\n",
              "      <th>Classifier</th>\n",
              "      <th>Best Parameters</th>\n",
              "      <th>Accuracy_Score</th>\n",
              "      <th>Recall of 1</th>\n",
              "    </tr>\n",
              "  </thead>\n",
              "  <tbody>\n",
              "    <tr>\n",
              "      <th>0</th>\n",
              "      <td>KNN Classification</td>\n",
              "      <td>{'n_neighbors': 1}</td>\n",
              "      <td>0.984043</td>\n",
              "      <td>0.957143</td>\n",
              "    </tr>\n",
              "    <tr>\n",
              "      <th>1</th>\n",
              "      <td>Logistic Classification</td>\n",
              "      <td>{'C': 100, 'penalty': 'l1', 'solver': 'libline...</td>\n",
              "      <td>0.994681</td>\n",
              "      <td>0.985714</td>\n",
              "    </tr>\n",
              "    <tr>\n",
              "      <th>2</th>\n",
              "      <td>Linear_SVC</td>\n",
              "      <td>{'C': 100}</td>\n",
              "      <td>0.989362</td>\n",
              "      <td>0.971429</td>\n",
              "    </tr>\n",
              "    <tr>\n",
              "      <th>3</th>\n",
              "      <td>SVC RBF Kernel</td>\n",
              "      <td>{'C': 100, 'gamma': 0.1}</td>\n",
              "      <td>0.978723</td>\n",
              "      <td>0.957143</td>\n",
              "    </tr>\n",
              "    <tr>\n",
              "      <th>4</th>\n",
              "      <td>SVC Poly Kernel</td>\n",
              "      <td>{'C': 100, 'gamma': 0.1}</td>\n",
              "      <td>0.978723</td>\n",
              "      <td>0.957143</td>\n",
              "    </tr>\n",
              "    <tr>\n",
              "      <th>5</th>\n",
              "      <td>Decision Tree</td>\n",
              "      <td></td>\n",
              "      <td>1.000000</td>\n",
              "      <td>1.000000</td>\n",
              "    </tr>\n",
              "  </tbody>\n",
              "</table>\n",
              "</div>\n",
              "      <button class=\"colab-df-convert\" onclick=\"convertToInteractive('df-05df2e62-ec9a-4704-a502-f9c5050d2ed2')\"\n",
              "              title=\"Convert this dataframe to an interactive table.\"\n",
              "              style=\"display:none;\">\n",
              "        \n",
              "  <svg xmlns=\"http://www.w3.org/2000/svg\" height=\"24px\"viewBox=\"0 0 24 24\"\n",
              "       width=\"24px\">\n",
              "    <path d=\"M0 0h24v24H0V0z\" fill=\"none\"/>\n",
              "    <path d=\"M18.56 5.44l.94 2.06.94-2.06 2.06-.94-2.06-.94-.94-2.06-.94 2.06-2.06.94zm-11 1L8.5 8.5l.94-2.06 2.06-.94-2.06-.94L8.5 2.5l-.94 2.06-2.06.94zm10 10l.94 2.06.94-2.06 2.06-.94-2.06-.94-.94-2.06-.94 2.06-2.06.94z\"/><path d=\"M17.41 7.96l-1.37-1.37c-.4-.4-.92-.59-1.43-.59-.52 0-1.04.2-1.43.59L10.3 9.45l-7.72 7.72c-.78.78-.78 2.05 0 2.83L4 21.41c.39.39.9.59 1.41.59.51 0 1.02-.2 1.41-.59l7.78-7.78 2.81-2.81c.8-.78.8-2.07 0-2.86zM5.41 20L4 18.59l7.72-7.72 1.47 1.35L5.41 20z\"/>\n",
              "  </svg>\n",
              "      </button>\n",
              "      \n",
              "  <style>\n",
              "    .colab-df-container {\n",
              "      display:flex;\n",
              "      flex-wrap:wrap;\n",
              "      gap: 12px;\n",
              "    }\n",
              "\n",
              "    .colab-df-convert {\n",
              "      background-color: #E8F0FE;\n",
              "      border: none;\n",
              "      border-radius: 50%;\n",
              "      cursor: pointer;\n",
              "      display: none;\n",
              "      fill: #1967D2;\n",
              "      height: 32px;\n",
              "      padding: 0 0 0 0;\n",
              "      width: 32px;\n",
              "    }\n",
              "\n",
              "    .colab-df-convert:hover {\n",
              "      background-color: #E2EBFA;\n",
              "      box-shadow: 0px 1px 2px rgba(60, 64, 67, 0.3), 0px 1px 3px 1px rgba(60, 64, 67, 0.15);\n",
              "      fill: #174EA6;\n",
              "    }\n",
              "\n",
              "    [theme=dark] .colab-df-convert {\n",
              "      background-color: #3B4455;\n",
              "      fill: #D2E3FC;\n",
              "    }\n",
              "\n",
              "    [theme=dark] .colab-df-convert:hover {\n",
              "      background-color: #434B5C;\n",
              "      box-shadow: 0px 1px 3px 1px rgba(0, 0, 0, 0.15);\n",
              "      filter: drop-shadow(0px 1px 2px rgba(0, 0, 0, 0.3));\n",
              "      fill: #FFFFFF;\n",
              "    }\n",
              "  </style>\n",
              "\n",
              "      <script>\n",
              "        const buttonEl =\n",
              "          document.querySelector('#df-05df2e62-ec9a-4704-a502-f9c5050d2ed2 button.colab-df-convert');\n",
              "        buttonEl.style.display =\n",
              "          google.colab.kernel.accessAllowed ? 'block' : 'none';\n",
              "\n",
              "        async function convertToInteractive(key) {\n",
              "          const element = document.querySelector('#df-05df2e62-ec9a-4704-a502-f9c5050d2ed2');\n",
              "          const dataTable =\n",
              "            await google.colab.kernel.invokeFunction('convertToInteractive',\n",
              "                                                     [key], {});\n",
              "          if (!dataTable) return;\n",
              "\n",
              "          const docLinkHtml = 'Like what you see? Visit the ' +\n",
              "            '<a target=\"_blank\" href=https://colab.research.google.com/notebooks/data_table.ipynb>data table notebook</a>'\n",
              "            + ' to learn more about interactive tables.';\n",
              "          element.innerHTML = '';\n",
              "          dataTable['output_type'] = 'display_data';\n",
              "          await google.colab.output.renderOutput(dataTable, element);\n",
              "          const docLink = document.createElement('div');\n",
              "          docLink.innerHTML = docLinkHtml;\n",
              "          element.appendChild(docLink);\n",
              "        }\n",
              "      </script>\n",
              "    </div>\n",
              "  </div>\n",
              "  "
            ]
          },
          "metadata": {},
          "execution_count": 315
        }
      ]
    },
    {
      "cell_type": "code",
      "source": [
        "Classification_Scores=pd.DataFrame(Classification_Scores)\n",
        "Classification_Scores.rename({0:'Accuracy_Score',1:'Recall'})"
      ],
      "metadata": {
        "colab": {
          "base_uri": "https://localhost:8080/",
          "height": 112
        },
        "id": "5KnL-7h4I-mE",
        "outputId": "faea68e3-64f2-4033-e6e2-c9025bf76efe"
      },
      "execution_count": null,
      "outputs": [
        {
          "output_type": "execute_result",
          "data": {
            "text/plain": [
              "                KNN Classification  Logistic Classification  Linear_SVC  \\\n",
              "Accuracy_Score            0.984043                 0.994681    0.989362   \n",
              "Recall                    0.957143                 0.985714    0.971429   \n",
              "\n",
              "                SVC RBF Kernel  SVC Poly Kernel  Decison Tree  \n",
              "Accuracy_Score        0.978723         0.978723           1.0  \n",
              "Recall                0.957143         0.957143           1.0  "
            ],
            "text/html": [
              "\n",
              "  <div id=\"df-5cb2cfc1-7db4-46d9-bcf0-c494779214f1\">\n",
              "    <div class=\"colab-df-container\">\n",
              "      <div>\n",
              "<style scoped>\n",
              "    .dataframe tbody tr th:only-of-type {\n",
              "        vertical-align: middle;\n",
              "    }\n",
              "\n",
              "    .dataframe tbody tr th {\n",
              "        vertical-align: top;\n",
              "    }\n",
              "\n",
              "    .dataframe thead th {\n",
              "        text-align: right;\n",
              "    }\n",
              "</style>\n",
              "<table border=\"1\" class=\"dataframe\">\n",
              "  <thead>\n",
              "    <tr style=\"text-align: right;\">\n",
              "      <th></th>\n",
              "      <th>KNN Classification</th>\n",
              "      <th>Logistic Classification</th>\n",
              "      <th>Linear_SVC</th>\n",
              "      <th>SVC RBF Kernel</th>\n",
              "      <th>SVC Poly Kernel</th>\n",
              "      <th>Decison Tree</th>\n",
              "    </tr>\n",
              "  </thead>\n",
              "  <tbody>\n",
              "    <tr>\n",
              "      <th>Accuracy_Score</th>\n",
              "      <td>0.984043</td>\n",
              "      <td>0.994681</td>\n",
              "      <td>0.989362</td>\n",
              "      <td>0.978723</td>\n",
              "      <td>0.978723</td>\n",
              "      <td>1.0</td>\n",
              "    </tr>\n",
              "    <tr>\n",
              "      <th>Recall</th>\n",
              "      <td>0.957143</td>\n",
              "      <td>0.985714</td>\n",
              "      <td>0.971429</td>\n",
              "      <td>0.957143</td>\n",
              "      <td>0.957143</td>\n",
              "      <td>1.0</td>\n",
              "    </tr>\n",
              "  </tbody>\n",
              "</table>\n",
              "</div>\n",
              "      <button class=\"colab-df-convert\" onclick=\"convertToInteractive('df-5cb2cfc1-7db4-46d9-bcf0-c494779214f1')\"\n",
              "              title=\"Convert this dataframe to an interactive table.\"\n",
              "              style=\"display:none;\">\n",
              "        \n",
              "  <svg xmlns=\"http://www.w3.org/2000/svg\" height=\"24px\"viewBox=\"0 0 24 24\"\n",
              "       width=\"24px\">\n",
              "    <path d=\"M0 0h24v24H0V0z\" fill=\"none\"/>\n",
              "    <path d=\"M18.56 5.44l.94 2.06.94-2.06 2.06-.94-2.06-.94-.94-2.06-.94 2.06-2.06.94zm-11 1L8.5 8.5l.94-2.06 2.06-.94-2.06-.94L8.5 2.5l-.94 2.06-2.06.94zm10 10l.94 2.06.94-2.06 2.06-.94-2.06-.94-.94-2.06-.94 2.06-2.06.94z\"/><path d=\"M17.41 7.96l-1.37-1.37c-.4-.4-.92-.59-1.43-.59-.52 0-1.04.2-1.43.59L10.3 9.45l-7.72 7.72c-.78.78-.78 2.05 0 2.83L4 21.41c.39.39.9.59 1.41.59.51 0 1.02-.2 1.41-.59l7.78-7.78 2.81-2.81c.8-.78.8-2.07 0-2.86zM5.41 20L4 18.59l7.72-7.72 1.47 1.35L5.41 20z\"/>\n",
              "  </svg>\n",
              "      </button>\n",
              "      \n",
              "  <style>\n",
              "    .colab-df-container {\n",
              "      display:flex;\n",
              "      flex-wrap:wrap;\n",
              "      gap: 12px;\n",
              "    }\n",
              "\n",
              "    .colab-df-convert {\n",
              "      background-color: #E8F0FE;\n",
              "      border: none;\n",
              "      border-radius: 50%;\n",
              "      cursor: pointer;\n",
              "      display: none;\n",
              "      fill: #1967D2;\n",
              "      height: 32px;\n",
              "      padding: 0 0 0 0;\n",
              "      width: 32px;\n",
              "    }\n",
              "\n",
              "    .colab-df-convert:hover {\n",
              "      background-color: #E2EBFA;\n",
              "      box-shadow: 0px 1px 2px rgba(60, 64, 67, 0.3), 0px 1px 3px 1px rgba(60, 64, 67, 0.15);\n",
              "      fill: #174EA6;\n",
              "    }\n",
              "\n",
              "    [theme=dark] .colab-df-convert {\n",
              "      background-color: #3B4455;\n",
              "      fill: #D2E3FC;\n",
              "    }\n",
              "\n",
              "    [theme=dark] .colab-df-convert:hover {\n",
              "      background-color: #434B5C;\n",
              "      box-shadow: 0px 1px 3px 1px rgba(0, 0, 0, 0.15);\n",
              "      filter: drop-shadow(0px 1px 2px rgba(0, 0, 0, 0.3));\n",
              "      fill: #FFFFFF;\n",
              "    }\n",
              "  </style>\n",
              "\n",
              "      <script>\n",
              "        const buttonEl =\n",
              "          document.querySelector('#df-5cb2cfc1-7db4-46d9-bcf0-c494779214f1 button.colab-df-convert');\n",
              "        buttonEl.style.display =\n",
              "          google.colab.kernel.accessAllowed ? 'block' : 'none';\n",
              "\n",
              "        async function convertToInteractive(key) {\n",
              "          const element = document.querySelector('#df-5cb2cfc1-7db4-46d9-bcf0-c494779214f1');\n",
              "          const dataTable =\n",
              "            await google.colab.kernel.invokeFunction('convertToInteractive',\n",
              "                                                     [key], {});\n",
              "          if (!dataTable) return;\n",
              "\n",
              "          const docLinkHtml = 'Like what you see? Visit the ' +\n",
              "            '<a target=\"_blank\" href=https://colab.research.google.com/notebooks/data_table.ipynb>data table notebook</a>'\n",
              "            + ' to learn more about interactive tables.';\n",
              "          element.innerHTML = '';\n",
              "          dataTable['output_type'] = 'display_data';\n",
              "          await google.colab.output.renderOutput(dataTable, element);\n",
              "          const docLink = document.createElement('div');\n",
              "          docLink.innerHTML = docLinkHtml;\n",
              "          element.appendChild(docLink);\n",
              "        }\n",
              "      </script>\n",
              "    </div>\n",
              "  </div>\n",
              "  "
            ]
          },
          "metadata": {},
          "execution_count": 316
        }
      ]
    },
    {
      "cell_type": "code",
      "source": [
        "plt.figure(figsize=(56,5))\n",
        "\n",
        "Classification_Scores.plot.bar(figsize=(20,10))"
      ],
      "metadata": {
        "colab": {
          "base_uri": "https://localhost:8080/",
          "height": 627
        },
        "id": "EdSggMY3I-ja",
        "outputId": "242f56cf-ec9e-4e19-fba2-4bb2791c55bf"
      },
      "execution_count": null,
      "outputs": [
        {
          "output_type": "execute_result",
          "data": {
            "text/plain": [
              "<matplotlib.axes._subplots.AxesSubplot at 0x7efff46035d0>"
            ]
          },
          "metadata": {},
          "execution_count": 317
        },
        {
          "output_type": "display_data",
          "data": {
            "text/plain": [
              "<Figure size 4032x360 with 0 Axes>"
            ]
          },
          "metadata": {}
        },
        {
          "output_type": "display_data",
          "data": {
            "text/plain": [
              "<Figure size 1440x720 with 1 Axes>"
            ],
            "image/png": "[encoded data removed]"
          },
          "metadata": {
            "needs_background": "light"
          }
        }
      ]
    },
    {
      "cell_type": "markdown",
      "source": [
        "Our evaluation strategy is based on the having best accuracy and best recall value(as we do not wish to misclassify the firms that are fraudulent but classified as not fraudulent i.e. have less false negatives in our confusion matrix)\n",
        "\n",
        "From the above graph, it can be said that we are getting an accuracy of 1 and recall score of 1 for two models:\n",
        "\n",
        "SVM - Poly<br>\n",
        "Decision Tree<br><br>\n",
        "Thus, any of the above two classifiers can be used as a classifier for predicting the class of Risk.\n",
        "\n",
        "The biggest difference between the two algorithms is that SVM - Poly uses the kernel trick to turn a linearly nonseparable problem into a linearly separable one, while decision trees split the input space into hyper-rectangles according to the target.\n",
        "\n",
        "However, for classification problem, Decision Tree is more preffered over SVM - Poly as it is non-parametric, makes no assumption on the distribution of data and the structure of the true model. They require less data cleaning and are not influenced by outliers and multicollinearity to some fair extent."
      ],
      "metadata": {
        "id": "Yhfz0XfNiESn"
      }
    }
  ]
}